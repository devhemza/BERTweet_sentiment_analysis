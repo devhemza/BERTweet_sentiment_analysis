{
  "nbformat": 4,
  "nbformat_minor": 0,
  "metadata": {
    "accelerator": "GPU",
    "colab": {
      "name": " Bert_base vs BERTweet.ipynb",
      "provenance": [],
      "collapsed_sections": [
        "-pJ3ZM9Yjaon"
      ],
      "toc_visible": true,
      "include_colab_link": true
    },
    "kernelspec": {
      "display_name": "Python 3",
      "name": "python3"
    },
    "widgets": {
      "application/vnd.jupyter.widget-state+json": {
        "87fe6d24b0014f53b3af54d2e1baa648": {
          "model_module": "@jupyter-widgets/controls",
          "model_name": "HBoxModel",
          "state": {
            "_view_name": "HBoxView",
            "_dom_classes": [],
            "_model_name": "HBoxModel",
            "_view_module": "@jupyter-widgets/controls",
            "_model_module_version": "1.5.0",
            "_view_count": null,
            "_view_module_version": "1.5.0",
            "box_style": "",
            "layout": "IPY_MODEL_693f1e10134341438f040065673ed0fc",
            "_model_module": "@jupyter-widgets/controls",
            "children": [
              "IPY_MODEL_fca6d0f61c1c42388e7476872c53a330",
              "IPY_MODEL_021ccfcd9de341108b4421a7af938bfb"
            ]
          }
        },
        "693f1e10134341438f040065673ed0fc": {
          "model_module": "@jupyter-widgets/base",
          "model_name": "LayoutModel",
          "state": {
            "_view_name": "LayoutView",
            "grid_template_rows": null,
            "right": null,
            "justify_content": null,
            "_view_module": "@jupyter-widgets/base",
            "overflow": null,
            "_model_module_version": "1.2.0",
            "_view_count": null,
            "flex_flow": null,
            "width": null,
            "min_width": null,
            "border": null,
            "align_items": null,
            "bottom": null,
            "_model_module": "@jupyter-widgets/base",
            "top": null,
            "grid_column": null,
            "overflow_y": null,
            "overflow_x": null,
            "grid_auto_flow": null,
            "grid_area": null,
            "grid_template_columns": null,
            "flex": null,
            "_model_name": "LayoutModel",
            "justify_items": null,
            "grid_row": null,
            "max_height": null,
            "align_content": null,
            "visibility": null,
            "align_self": null,
            "height": null,
            "min_height": null,
            "padding": null,
            "grid_auto_rows": null,
            "grid_gap": null,
            "max_width": null,
            "order": null,
            "_view_module_version": "1.2.0",
            "grid_template_areas": null,
            "object_position": null,
            "object_fit": null,
            "grid_auto_columns": null,
            "margin": null,
            "display": null,
            "left": null
          }
        },
        "fca6d0f61c1c42388e7476872c53a330": {
          "model_module": "@jupyter-widgets/controls",
          "model_name": "FloatProgressModel",
          "state": {
            "_view_name": "ProgressView",
            "style": "IPY_MODEL_3c820df4a82847f19c897331c052b892",
            "_dom_classes": [],
            "description": "Downloading: 100%",
            "_model_name": "FloatProgressModel",
            "bar_style": "success",
            "max": 213450,
            "_view_module": "@jupyter-widgets/controls",
            "_model_module_version": "1.5.0",
            "value": 213450,
            "_view_count": null,
            "_view_module_version": "1.5.0",
            "orientation": "horizontal",
            "min": 0,
            "description_tooltip": null,
            "_model_module": "@jupyter-widgets/controls",
            "layout": "IPY_MODEL_be74734eb0964b108d06ef2f31235fb6"
          }
        },
        "021ccfcd9de341108b4421a7af938bfb": {
          "model_module": "@jupyter-widgets/controls",
          "model_name": "HTMLModel",
          "state": {
            "_view_name": "HTMLView",
            "style": "IPY_MODEL_373510c0a5474042872a643827b5b5ec",
            "_dom_classes": [],
            "description": "",
            "_model_name": "HTMLModel",
            "placeholder": "​",
            "_view_module": "@jupyter-widgets/controls",
            "_model_module_version": "1.5.0",
            "value": " 213k/213k [00:00&lt;00:00, 747kB/s]",
            "_view_count": null,
            "_view_module_version": "1.5.0",
            "description_tooltip": null,
            "_model_module": "@jupyter-widgets/controls",
            "layout": "IPY_MODEL_201832c3e0f54606b465c162240edb00"
          }
        },
        "3c820df4a82847f19c897331c052b892": {
          "model_module": "@jupyter-widgets/controls",
          "model_name": "ProgressStyleModel",
          "state": {
            "_view_name": "StyleView",
            "_model_name": "ProgressStyleModel",
            "description_width": "initial",
            "_view_module": "@jupyter-widgets/base",
            "_model_module_version": "1.5.0",
            "_view_count": null,
            "_view_module_version": "1.2.0",
            "bar_color": null,
            "_model_module": "@jupyter-widgets/controls"
          }
        },
        "be74734eb0964b108d06ef2f31235fb6": {
          "model_module": "@jupyter-widgets/base",
          "model_name": "LayoutModel",
          "state": {
            "_view_name": "LayoutView",
            "grid_template_rows": null,
            "right": null,
            "justify_content": null,
            "_view_module": "@jupyter-widgets/base",
            "overflow": null,
            "_model_module_version": "1.2.0",
            "_view_count": null,
            "flex_flow": null,
            "width": null,
            "min_width": null,
            "border": null,
            "align_items": null,
            "bottom": null,
            "_model_module": "@jupyter-widgets/base",
            "top": null,
            "grid_column": null,
            "overflow_y": null,
            "overflow_x": null,
            "grid_auto_flow": null,
            "grid_area": null,
            "grid_template_columns": null,
            "flex": null,
            "_model_name": "LayoutModel",
            "justify_items": null,
            "grid_row": null,
            "max_height": null,
            "align_content": null,
            "visibility": null,
            "align_self": null,
            "height": null,
            "min_height": null,
            "padding": null,
            "grid_auto_rows": null,
            "grid_gap": null,
            "max_width": null,
            "order": null,
            "_view_module_version": "1.2.0",
            "grid_template_areas": null,
            "object_position": null,
            "object_fit": null,
            "grid_auto_columns": null,
            "margin": null,
            "display": null,
            "left": null
          }
        },
        "373510c0a5474042872a643827b5b5ec": {
          "model_module": "@jupyter-widgets/controls",
          "model_name": "DescriptionStyleModel",
          "state": {
            "_view_name": "StyleView",
            "_model_name": "DescriptionStyleModel",
            "description_width": "",
            "_view_module": "@jupyter-widgets/base",
            "_model_module_version": "1.5.0",
            "_view_count": null,
            "_view_module_version": "1.2.0",
            "_model_module": "@jupyter-widgets/controls"
          }
        },
        "201832c3e0f54606b465c162240edb00": {
          "model_module": "@jupyter-widgets/base",
          "model_name": "LayoutModel",
          "state": {
            "_view_name": "LayoutView",
            "grid_template_rows": null,
            "right": null,
            "justify_content": null,
            "_view_module": "@jupyter-widgets/base",
            "overflow": null,
            "_model_module_version": "1.2.0",
            "_view_count": null,
            "flex_flow": null,
            "width": null,
            "min_width": null,
            "border": null,
            "align_items": null,
            "bottom": null,
            "_model_module": "@jupyter-widgets/base",
            "top": null,
            "grid_column": null,
            "overflow_y": null,
            "overflow_x": null,
            "grid_auto_flow": null,
            "grid_area": null,
            "grid_template_columns": null,
            "flex": null,
            "_model_name": "LayoutModel",
            "justify_items": null,
            "grid_row": null,
            "max_height": null,
            "align_content": null,
            "visibility": null,
            "align_self": null,
            "height": null,
            "min_height": null,
            "padding": null,
            "grid_auto_rows": null,
            "grid_gap": null,
            "max_width": null,
            "order": null,
            "_view_module_version": "1.2.0",
            "grid_template_areas": null,
            "object_position": null,
            "object_fit": null,
            "grid_auto_columns": null,
            "margin": null,
            "display": null,
            "left": null
          }
        },
        "d092ed592cb74321b9e37126e95c6321": {
          "model_module": "@jupyter-widgets/controls",
          "model_name": "HBoxModel",
          "state": {
            "_view_name": "HBoxView",
            "_dom_classes": [],
            "_model_name": "HBoxModel",
            "_view_module": "@jupyter-widgets/controls",
            "_model_module_version": "1.5.0",
            "_view_count": null,
            "_view_module_version": "1.5.0",
            "box_style": "",
            "layout": "IPY_MODEL_873bbb1d60224a5eaf35c82f5bc8c6d4",
            "_model_module": "@jupyter-widgets/controls",
            "children": [
              "IPY_MODEL_9ec51e2b63ba45e6bfd4262e9fb597ae",
              "IPY_MODEL_e1d2881ba01f45249ccb49f7d5df92ce"
            ]
          }
        },
        "873bbb1d60224a5eaf35c82f5bc8c6d4": {
          "model_module": "@jupyter-widgets/base",
          "model_name": "LayoutModel",
          "state": {
            "_view_name": "LayoutView",
            "grid_template_rows": null,
            "right": null,
            "justify_content": null,
            "_view_module": "@jupyter-widgets/base",
            "overflow": null,
            "_model_module_version": "1.2.0",
            "_view_count": null,
            "flex_flow": null,
            "width": null,
            "min_width": null,
            "border": null,
            "align_items": null,
            "bottom": null,
            "_model_module": "@jupyter-widgets/base",
            "top": null,
            "grid_column": null,
            "overflow_y": null,
            "overflow_x": null,
            "grid_auto_flow": null,
            "grid_area": null,
            "grid_template_columns": null,
            "flex": null,
            "_model_name": "LayoutModel",
            "justify_items": null,
            "grid_row": null,
            "max_height": null,
            "align_content": null,
            "visibility": null,
            "align_self": null,
            "height": null,
            "min_height": null,
            "padding": null,
            "grid_auto_rows": null,
            "grid_gap": null,
            "max_width": null,
            "order": null,
            "_view_module_version": "1.2.0",
            "grid_template_areas": null,
            "object_position": null,
            "object_fit": null,
            "grid_auto_columns": null,
            "margin": null,
            "display": null,
            "left": null
          }
        },
        "9ec51e2b63ba45e6bfd4262e9fb597ae": {
          "model_module": "@jupyter-widgets/controls",
          "model_name": "FloatProgressModel",
          "state": {
            "_view_name": "ProgressView",
            "style": "IPY_MODEL_1bc223a7a2094139b4b95757980653ac",
            "_dom_classes": [],
            "description": "Downloading: 100%",
            "_model_name": "FloatProgressModel",
            "bar_style": "success",
            "max": 433,
            "_view_module": "@jupyter-widgets/controls",
            "_model_module_version": "1.5.0",
            "value": 433,
            "_view_count": null,
            "_view_module_version": "1.5.0",
            "orientation": "horizontal",
            "min": 0,
            "description_tooltip": null,
            "_model_module": "@jupyter-widgets/controls",
            "layout": "IPY_MODEL_f2213657c3264e0f9b777a073613e136"
          }
        },
        "e1d2881ba01f45249ccb49f7d5df92ce": {
          "model_module": "@jupyter-widgets/controls",
          "model_name": "HTMLModel",
          "state": {
            "_view_name": "HTMLView",
            "style": "IPY_MODEL_28e820d8eb074906825b704b0f0d0832",
            "_dom_classes": [],
            "description": "",
            "_model_name": "HTMLModel",
            "placeholder": "​",
            "_view_module": "@jupyter-widgets/controls",
            "_model_module_version": "1.5.0",
            "value": " 433/433 [00:00&lt;00:00, 1.02kB/s]",
            "_view_count": null,
            "_view_module_version": "1.5.0",
            "description_tooltip": null,
            "_model_module": "@jupyter-widgets/controls",
            "layout": "IPY_MODEL_e12eee8369ab4e118fa74fd63a50464e"
          }
        },
        "1bc223a7a2094139b4b95757980653ac": {
          "model_module": "@jupyter-widgets/controls",
          "model_name": "ProgressStyleModel",
          "state": {
            "_view_name": "StyleView",
            "_model_name": "ProgressStyleModel",
            "description_width": "initial",
            "_view_module": "@jupyter-widgets/base",
            "_model_module_version": "1.5.0",
            "_view_count": null,
            "_view_module_version": "1.2.0",
            "bar_color": null,
            "_model_module": "@jupyter-widgets/controls"
          }
        },
        "f2213657c3264e0f9b777a073613e136": {
          "model_module": "@jupyter-widgets/base",
          "model_name": "LayoutModel",
          "state": {
            "_view_name": "LayoutView",
            "grid_template_rows": null,
            "right": null,
            "justify_content": null,
            "_view_module": "@jupyter-widgets/base",
            "overflow": null,
            "_model_module_version": "1.2.0",
            "_view_count": null,
            "flex_flow": null,
            "width": null,
            "min_width": null,
            "border": null,
            "align_items": null,
            "bottom": null,
            "_model_module": "@jupyter-widgets/base",
            "top": null,
            "grid_column": null,
            "overflow_y": null,
            "overflow_x": null,
            "grid_auto_flow": null,
            "grid_area": null,
            "grid_template_columns": null,
            "flex": null,
            "_model_name": "LayoutModel",
            "justify_items": null,
            "grid_row": null,
            "max_height": null,
            "align_content": null,
            "visibility": null,
            "align_self": null,
            "height": null,
            "min_height": null,
            "padding": null,
            "grid_auto_rows": null,
            "grid_gap": null,
            "max_width": null,
            "order": null,
            "_view_module_version": "1.2.0",
            "grid_template_areas": null,
            "object_position": null,
            "object_fit": null,
            "grid_auto_columns": null,
            "margin": null,
            "display": null,
            "left": null
          }
        },
        "28e820d8eb074906825b704b0f0d0832": {
          "model_module": "@jupyter-widgets/controls",
          "model_name": "DescriptionStyleModel",
          "state": {
            "_view_name": "StyleView",
            "_model_name": "DescriptionStyleModel",
            "description_width": "",
            "_view_module": "@jupyter-widgets/base",
            "_model_module_version": "1.5.0",
            "_view_count": null,
            "_view_module_version": "1.2.0",
            "_model_module": "@jupyter-widgets/controls"
          }
        },
        "e12eee8369ab4e118fa74fd63a50464e": {
          "model_module": "@jupyter-widgets/base",
          "model_name": "LayoutModel",
          "state": {
            "_view_name": "LayoutView",
            "grid_template_rows": null,
            "right": null,
            "justify_content": null,
            "_view_module": "@jupyter-widgets/base",
            "overflow": null,
            "_model_module_version": "1.2.0",
            "_view_count": null,
            "flex_flow": null,
            "width": null,
            "min_width": null,
            "border": null,
            "align_items": null,
            "bottom": null,
            "_model_module": "@jupyter-widgets/base",
            "top": null,
            "grid_column": null,
            "overflow_y": null,
            "overflow_x": null,
            "grid_auto_flow": null,
            "grid_area": null,
            "grid_template_columns": null,
            "flex": null,
            "_model_name": "LayoutModel",
            "justify_items": null,
            "grid_row": null,
            "max_height": null,
            "align_content": null,
            "visibility": null,
            "align_self": null,
            "height": null,
            "min_height": null,
            "padding": null,
            "grid_auto_rows": null,
            "grid_gap": null,
            "max_width": null,
            "order": null,
            "_view_module_version": "1.2.0",
            "grid_template_areas": null,
            "object_position": null,
            "object_fit": null,
            "grid_auto_columns": null,
            "margin": null,
            "display": null,
            "left": null
          }
        },
        "8a798b36511d48ac98976cb12f874f94": {
          "model_module": "@jupyter-widgets/controls",
          "model_name": "HBoxModel",
          "state": {
            "_view_name": "HBoxView",
            "_dom_classes": [],
            "_model_name": "HBoxModel",
            "_view_module": "@jupyter-widgets/controls",
            "_model_module_version": "1.5.0",
            "_view_count": null,
            "_view_module_version": "1.5.0",
            "box_style": "",
            "layout": "IPY_MODEL_33824714dde24d5595f0068980d24c42",
            "_model_module": "@jupyter-widgets/controls",
            "children": [
              "IPY_MODEL_63fe1cfb790a4497a5f9c87b6dfcf0a1",
              "IPY_MODEL_ec0a2fecf1464aa3aa932355033f3672"
            ]
          }
        },
        "33824714dde24d5595f0068980d24c42": {
          "model_module": "@jupyter-widgets/base",
          "model_name": "LayoutModel",
          "state": {
            "_view_name": "LayoutView",
            "grid_template_rows": null,
            "right": null,
            "justify_content": null,
            "_view_module": "@jupyter-widgets/base",
            "overflow": null,
            "_model_module_version": "1.2.0",
            "_view_count": null,
            "flex_flow": null,
            "width": null,
            "min_width": null,
            "border": null,
            "align_items": null,
            "bottom": null,
            "_model_module": "@jupyter-widgets/base",
            "top": null,
            "grid_column": null,
            "overflow_y": null,
            "overflow_x": null,
            "grid_auto_flow": null,
            "grid_area": null,
            "grid_template_columns": null,
            "flex": null,
            "_model_name": "LayoutModel",
            "justify_items": null,
            "grid_row": null,
            "max_height": null,
            "align_content": null,
            "visibility": null,
            "align_self": null,
            "height": null,
            "min_height": null,
            "padding": null,
            "grid_auto_rows": null,
            "grid_gap": null,
            "max_width": null,
            "order": null,
            "_view_module_version": "1.2.0",
            "grid_template_areas": null,
            "object_position": null,
            "object_fit": null,
            "grid_auto_columns": null,
            "margin": null,
            "display": null,
            "left": null
          }
        },
        "63fe1cfb790a4497a5f9c87b6dfcf0a1": {
          "model_module": "@jupyter-widgets/controls",
          "model_name": "FloatProgressModel",
          "state": {
            "_view_name": "ProgressView",
            "style": "IPY_MODEL_cc60ad9fd5fa4122be5c83c20b3a71e1",
            "_dom_classes": [],
            "description": "Downloading: 100%",
            "_model_name": "FloatProgressModel",
            "bar_style": "success",
            "max": 435779157,
            "_view_module": "@jupyter-widgets/controls",
            "_model_module_version": "1.5.0",
            "value": 435779157,
            "_view_count": null,
            "_view_module_version": "1.5.0",
            "orientation": "horizontal",
            "min": 0,
            "description_tooltip": null,
            "_model_module": "@jupyter-widgets/controls",
            "layout": "IPY_MODEL_df9fe8830e8b43069d2551822b8895b3"
          }
        },
        "ec0a2fecf1464aa3aa932355033f3672": {
          "model_module": "@jupyter-widgets/controls",
          "model_name": "HTMLModel",
          "state": {
            "_view_name": "HTMLView",
            "style": "IPY_MODEL_63b9d4f9f5224bfd9539c70fba8d2957",
            "_dom_classes": [],
            "description": "",
            "_model_name": "HTMLModel",
            "placeholder": "​",
            "_view_module": "@jupyter-widgets/controls",
            "_model_module_version": "1.5.0",
            "value": " 436M/436M [00:08&lt;00:00, 49.4MB/s]",
            "_view_count": null,
            "_view_module_version": "1.5.0",
            "description_tooltip": null,
            "_model_module": "@jupyter-widgets/controls",
            "layout": "IPY_MODEL_f2a63e24dc3146c592f4a207ac0ef988"
          }
        },
        "cc60ad9fd5fa4122be5c83c20b3a71e1": {
          "model_module": "@jupyter-widgets/controls",
          "model_name": "ProgressStyleModel",
          "state": {
            "_view_name": "StyleView",
            "_model_name": "ProgressStyleModel",
            "description_width": "initial",
            "_view_module": "@jupyter-widgets/base",
            "_model_module_version": "1.5.0",
            "_view_count": null,
            "_view_module_version": "1.2.0",
            "bar_color": null,
            "_model_module": "@jupyter-widgets/controls"
          }
        },
        "df9fe8830e8b43069d2551822b8895b3": {
          "model_module": "@jupyter-widgets/base",
          "model_name": "LayoutModel",
          "state": {
            "_view_name": "LayoutView",
            "grid_template_rows": null,
            "right": null,
            "justify_content": null,
            "_view_module": "@jupyter-widgets/base",
            "overflow": null,
            "_model_module_version": "1.2.0",
            "_view_count": null,
            "flex_flow": null,
            "width": null,
            "min_width": null,
            "border": null,
            "align_items": null,
            "bottom": null,
            "_model_module": "@jupyter-widgets/base",
            "top": null,
            "grid_column": null,
            "overflow_y": null,
            "overflow_x": null,
            "grid_auto_flow": null,
            "grid_area": null,
            "grid_template_columns": null,
            "flex": null,
            "_model_name": "LayoutModel",
            "justify_items": null,
            "grid_row": null,
            "max_height": null,
            "align_content": null,
            "visibility": null,
            "align_self": null,
            "height": null,
            "min_height": null,
            "padding": null,
            "grid_auto_rows": null,
            "grid_gap": null,
            "max_width": null,
            "order": null,
            "_view_module_version": "1.2.0",
            "grid_template_areas": null,
            "object_position": null,
            "object_fit": null,
            "grid_auto_columns": null,
            "margin": null,
            "display": null,
            "left": null
          }
        },
        "63b9d4f9f5224bfd9539c70fba8d2957": {
          "model_module": "@jupyter-widgets/controls",
          "model_name": "DescriptionStyleModel",
          "state": {
            "_view_name": "StyleView",
            "_model_name": "DescriptionStyleModel",
            "description_width": "",
            "_view_module": "@jupyter-widgets/base",
            "_model_module_version": "1.5.0",
            "_view_count": null,
            "_view_module_version": "1.2.0",
            "_model_module": "@jupyter-widgets/controls"
          }
        },
        "f2a63e24dc3146c592f4a207ac0ef988": {
          "model_module": "@jupyter-widgets/base",
          "model_name": "LayoutModel",
          "state": {
            "_view_name": "LayoutView",
            "grid_template_rows": null,
            "right": null,
            "justify_content": null,
            "_view_module": "@jupyter-widgets/base",
            "overflow": null,
            "_model_module_version": "1.2.0",
            "_view_count": null,
            "flex_flow": null,
            "width": null,
            "min_width": null,
            "border": null,
            "align_items": null,
            "bottom": null,
            "_model_module": "@jupyter-widgets/base",
            "top": null,
            "grid_column": null,
            "overflow_y": null,
            "overflow_x": null,
            "grid_auto_flow": null,
            "grid_area": null,
            "grid_template_columns": null,
            "flex": null,
            "_model_name": "LayoutModel",
            "justify_items": null,
            "grid_row": null,
            "max_height": null,
            "align_content": null,
            "visibility": null,
            "align_self": null,
            "height": null,
            "min_height": null,
            "padding": null,
            "grid_auto_rows": null,
            "grid_gap": null,
            "max_width": null,
            "order": null,
            "_view_module_version": "1.2.0",
            "grid_template_areas": null,
            "object_position": null,
            "object_fit": null,
            "grid_auto_columns": null,
            "margin": null,
            "display": null,
            "left": null
          }
        }
      }
    }
  },
  "cells": [
    {
      "cell_type": "markdown",
      "metadata": {
        "id": "view-in-github",
        "colab_type": "text"
      },
      "source": [
        "<a href=\"https://colab.research.google.com/github/devhemza/BERTweet_sentiment_analysis/blob/main/Bert_base_vs_BERTweet.ipynb\" target=\"_parent\"><img src=\"https://colab.research.google.com/assets/colab-badge.svg\" alt=\"Open In Colab\"/></a>"
      ]
    },
    {
      "cell_type": "code",
      "metadata": {
        "id": "sS5skwo71R34"
      },
      "source": [
        "RANDOM_SEED = 11"
      ],
      "execution_count": null,
      "outputs": []
    },
    {
      "cell_type": "code",
      "metadata": {
        "colab": {
          "base_uri": "https://localhost:8080/"
        },
        "id": "Oa8JH5Zupc8S",
        "outputId": "3cf13bbb-1c61-4e0c-aa9e-bff5f86f561a"
      },
      "source": [
        "from google.colab import drive\n",
        "drive.mount('/content/drive')"
      ],
      "execution_count": null,
      "outputs": [
        {
          "output_type": "stream",
          "text": [
            "Mounted at /content/drive\n"
          ],
          "name": "stdout"
        }
      ]
    },
    {
      "cell_type": "markdown",
      "metadata": {
        "id": "RIl7zJMfWzQE"
      },
      "source": [
        "## Initialisation"
      ]
    },
    {
      "cell_type": "code",
      "metadata": {
        "colab": {
          "base_uri": "https://localhost:8080/"
        },
        "id": "UZRkDeCnbJtp",
        "outputId": "5f0e0c62-f7b9-4a9f-81e1-eb24ba79c401"
      },
      "source": [
        "!nvidia-smi"
      ],
      "execution_count": null,
      "outputs": [
        {
          "output_type": "stream",
          "text": [
            "Sat Feb  6 05:44:37 2021       \n",
            "+-----------------------------------------------------------------------------+\n",
            "| NVIDIA-SMI 460.39       Driver Version: 418.67       CUDA Version: 10.1     |\n",
            "|-------------------------------+----------------------+----------------------+\n",
            "| GPU  Name        Persistence-M| Bus-Id        Disp.A | Volatile Uncorr. ECC |\n",
            "| Fan  Temp  Perf  Pwr:Usage/Cap|         Memory-Usage | GPU-Util  Compute M. |\n",
            "|                               |                      |               MIG M. |\n",
            "|===============================+======================+======================|\n",
            "|   0  Tesla T4            Off  | 00000000:00:04.0 Off |                    0 |\n",
            "| N/A   35C    P8     9W /  70W |      0MiB / 15079MiB |      0%      Default |\n",
            "|                               |                      |                 ERR! |\n",
            "+-------------------------------+----------------------+----------------------+\n",
            "                                                                               \n",
            "+-----------------------------------------------------------------------------+\n",
            "| Processes:                                                                  |\n",
            "|  GPU   GI   CI        PID   Type   Process name                  GPU Memory |\n",
            "|        ID   ID                                                   Usage      |\n",
            "|=============================================================================|\n",
            "|  No running processes found                                                 |\n",
            "+-----------------------------------------------------------------------------+\n"
          ],
          "name": "stdout"
        }
      ]
    },
    {
      "cell_type": "code",
      "metadata": {
        "id": "ZBtJqlaBjsA2"
      },
      "source": [
        "def writeResultsInFile(accuracy, f1_score, random_seed):\n",
        "    f = open(\"log_bert\", \"a\")\n",
        "    f.write(f'Random seed : {random_seed}, accuracy : {accuracy:.4f}, f1-score : {f1_score:.4f}\\n')\n",
        "    f.close()\n"
      ],
      "execution_count": null,
      "outputs": []
    },
    {
      "cell_type": "code",
      "metadata": {
        "id": "lpJ9rD3N1HgT"
      },
      "source": [
        "!cd \"/content/drive/MyDrive/TER BERTTweet\""
      ],
      "execution_count": null,
      "outputs": []
    },
    {
      "cell_type": "code",
      "metadata": {
        "id": "1I3Fc-w7-G5g"
      },
      "source": [
        "CUDA_LAUNCH_BLOCKING=\"1\""
      ],
      "execution_count": null,
      "outputs": []
    },
    {
      "cell_type": "code",
      "metadata": {
        "colab": {
          "base_uri": "https://localhost:8080/"
        },
        "id": "dRSXUB6dXNC_",
        "outputId": "876b9714-c969-4166-cf41-66ab5d27f5d7"
      },
      "source": [
        "\"\"\"\n",
        "!git clone https://github.com/huggingface/transformers.git\n",
        "%cd transformers/\n",
        "!pip3 install --upgrade .\n",
        "\"\"\""
      ],
      "execution_count": null,
      "outputs": [
        {
          "output_type": "execute_result",
          "data": {
            "application/vnd.google.colaboratory.intrinsic+json": {
              "type": "string"
            },
            "text/plain": [
              "'\\n!git clone https://github.com/huggingface/transformers.git\\n%cd transformers/\\n!pip3 install --upgrade .\\n'"
            ]
          },
          "metadata": {
            "tags": []
          },
          "execution_count": 7
        }
      ]
    },
    {
      "cell_type": "code",
      "metadata": {
        "colab": {
          "base_uri": "https://localhost:8080/"
        },
        "id": "FDh8ayPpL1p9",
        "outputId": "6d4a7686-c01d-4458-9a09-e33959eec95a"
      },
      "source": [
        "!pip3 install emoji\n",
        "!pip install transformers sentencepiece"
      ],
      "execution_count": null,
      "outputs": [
        {
          "output_type": "stream",
          "text": [
            "Collecting emoji\n",
            "\u001b[?25l  Downloading https://files.pythonhosted.org/packages/24/fa/b3368f41b95a286f8d300e323449ab4e86b85334c2e0b477e94422b8ed0f/emoji-1.2.0-py3-none-any.whl (131kB)\n",
            "\r\u001b[K     |██▌                             | 10kB 20.1MB/s eta 0:00:01\r\u001b[K     |█████                           | 20kB 18.1MB/s eta 0:00:01\r\u001b[K     |███████▌                        | 30kB 14.6MB/s eta 0:00:01\r\u001b[K     |██████████                      | 40kB 13.4MB/s eta 0:00:01\r\u001b[K     |████████████▌                   | 51kB 9.5MB/s eta 0:00:01\r\u001b[K     |███████████████                 | 61kB 10.0MB/s eta 0:00:01\r\u001b[K     |█████████████████▌              | 71kB 10.1MB/s eta 0:00:01\r\u001b[K     |████████████████████            | 81kB 9.1MB/s eta 0:00:01\r\u001b[K     |██████████████████████▌         | 92kB 9.8MB/s eta 0:00:01\r\u001b[K     |█████████████████████████       | 102kB 9.1MB/s eta 0:00:01\r\u001b[K     |███████████████████████████▌    | 112kB 9.1MB/s eta 0:00:01\r\u001b[K     |██████████████████████████████  | 122kB 9.1MB/s eta 0:00:01\r\u001b[K     |████████████████████████████████| 133kB 9.1MB/s \n",
            "\u001b[?25hInstalling collected packages: emoji\n",
            "Successfully installed emoji-1.2.0\n",
            "Collecting transformers\n",
            "\u001b[?25l  Downloading https://files.pythonhosted.org/packages/88/b1/41130a228dd656a1a31ba281598a968320283f48d42782845f6ba567f00b/transformers-4.2.2-py3-none-any.whl (1.8MB)\n",
            "\u001b[K     |████████████████████████████████| 1.8MB 8.0MB/s \n",
            "\u001b[?25hCollecting sentencepiece\n",
            "\u001b[?25l  Downloading https://files.pythonhosted.org/packages/14/67/e42bd1181472c95c8cda79305df848264f2a7f62740995a46945d9797b67/sentencepiece-0.1.95-cp36-cp36m-manylinux2014_x86_64.whl (1.2MB)\n",
            "\u001b[K     |████████████████████████████████| 1.2MB 36.0MB/s \n",
            "\u001b[?25hCollecting tokenizers==0.9.4\n",
            "\u001b[?25l  Downloading https://files.pythonhosted.org/packages/0f/1c/e789a8b12e28be5bc1ce2156cf87cb522b379be9cadc7ad8091a4cc107c4/tokenizers-0.9.4-cp36-cp36m-manylinux2010_x86_64.whl (2.9MB)\n",
            "\u001b[K     |████████████████████████████████| 2.9MB 47.9MB/s \n",
            "\u001b[?25hRequirement already satisfied: filelock in /usr/local/lib/python3.6/dist-packages (from transformers) (3.0.12)\n",
            "Requirement already satisfied: requests in /usr/local/lib/python3.6/dist-packages (from transformers) (2.23.0)\n",
            "Collecting sacremoses\n",
            "\u001b[?25l  Downloading https://files.pythonhosted.org/packages/7d/34/09d19aff26edcc8eb2a01bed8e98f13a1537005d31e95233fd48216eed10/sacremoses-0.0.43.tar.gz (883kB)\n",
            "\u001b[K     |████████████████████████████████| 890kB 54.0MB/s \n",
            "\u001b[?25hRequirement already satisfied: packaging in /usr/local/lib/python3.6/dist-packages (from transformers) (20.9)\n",
            "Requirement already satisfied: numpy in /usr/local/lib/python3.6/dist-packages (from transformers) (1.19.5)\n",
            "Requirement already satisfied: regex!=2019.12.17 in /usr/local/lib/python3.6/dist-packages (from transformers) (2019.12.20)\n",
            "Requirement already satisfied: dataclasses; python_version < \"3.7\" in /usr/local/lib/python3.6/dist-packages (from transformers) (0.8)\n",
            "Requirement already satisfied: importlib-metadata; python_version < \"3.8\" in /usr/local/lib/python3.6/dist-packages (from transformers) (3.4.0)\n",
            "Requirement already satisfied: tqdm>=4.27 in /usr/local/lib/python3.6/dist-packages (from transformers) (4.41.1)\n",
            "Requirement already satisfied: urllib3!=1.25.0,!=1.25.1,<1.26,>=1.21.1 in /usr/local/lib/python3.6/dist-packages (from requests->transformers) (1.24.3)\n",
            "Requirement already satisfied: certifi>=2017.4.17 in /usr/local/lib/python3.6/dist-packages (from requests->transformers) (2020.12.5)\n",
            "Requirement already satisfied: chardet<4,>=3.0.2 in /usr/local/lib/python3.6/dist-packages (from requests->transformers) (3.0.4)\n",
            "Requirement already satisfied: idna<3,>=2.5 in /usr/local/lib/python3.6/dist-packages (from requests->transformers) (2.10)\n",
            "Requirement already satisfied: six in /usr/local/lib/python3.6/dist-packages (from sacremoses->transformers) (1.15.0)\n",
            "Requirement already satisfied: click in /usr/local/lib/python3.6/dist-packages (from sacremoses->transformers) (7.1.2)\n",
            "Requirement already satisfied: joblib in /usr/local/lib/python3.6/dist-packages (from sacremoses->transformers) (1.0.0)\n",
            "Requirement already satisfied: pyparsing>=2.0.2 in /usr/local/lib/python3.6/dist-packages (from packaging->transformers) (2.4.7)\n",
            "Requirement already satisfied: zipp>=0.5 in /usr/local/lib/python3.6/dist-packages (from importlib-metadata; python_version < \"3.8\"->transformers) (3.4.0)\n",
            "Requirement already satisfied: typing-extensions>=3.6.4; python_version < \"3.8\" in /usr/local/lib/python3.6/dist-packages (from importlib-metadata; python_version < \"3.8\"->transformers) (3.7.4.3)\n",
            "Building wheels for collected packages: sacremoses\n",
            "  Building wheel for sacremoses (setup.py) ... \u001b[?25l\u001b[?25hdone\n",
            "  Created wheel for sacremoses: filename=sacremoses-0.0.43-cp36-none-any.whl size=893261 sha256=13a7f584f760329b16c23559048f88e3f0c65343d22ad4fcfc6ae7fdee83a7f0\n",
            "  Stored in directory: /root/.cache/pip/wheels/29/3c/fd/7ce5c3f0666dab31a50123635e6fb5e19ceb42ce38d4e58f45\n",
            "Successfully built sacremoses\n",
            "Installing collected packages: tokenizers, sacremoses, transformers, sentencepiece\n",
            "Successfully installed sacremoses-0.0.43 sentencepiece-0.1.95 tokenizers-0.9.4 transformers-4.2.2\n"
          ],
          "name": "stdout"
        }
      ]
    },
    {
      "cell_type": "code",
      "metadata": {
        "id": "rHzTumQUx94v"
      },
      "source": [
        "#imports hugging face \n",
        "from transformers import BertTokenizer, BertModel "
      ],
      "execution_count": null,
      "outputs": []
    },
    {
      "cell_type": "code",
      "metadata": {
        "id": "7Mf9DdWE3VHN"
      },
      "source": [
        "PRE_TRAINED_MODEL_NAME = 'bert-base-cased'"
      ],
      "execution_count": null,
      "outputs": []
    },
    {
      "cell_type": "code",
      "metadata": {
        "colab": {
          "base_uri": "https://localhost:8080/",
          "referenced_widgets": [
            "87fe6d24b0014f53b3af54d2e1baa648",
            "693f1e10134341438f040065673ed0fc",
            "fca6d0f61c1c42388e7476872c53a330",
            "021ccfcd9de341108b4421a7af938bfb",
            "3c820df4a82847f19c897331c052b892",
            "be74734eb0964b108d06ef2f31235fb6",
            "373510c0a5474042872a643827b5b5ec",
            "201832c3e0f54606b465c162240edb00"
          ]
        },
        "id": "H3AfJSZ8NNLF",
        "outputId": "8c837715-4864-4c03-b87e-cb32f3df5614"
      },
      "source": [
        "tokenizer = BertTokenizer.from_pretrained(PRE_TRAINED_MODEL_NAME)"
      ],
      "execution_count": null,
      "outputs": [
        {
          "output_type": "display_data",
          "data": {
            "application/vnd.jupyter.widget-view+json": {
              "model_id": "87fe6d24b0014f53b3af54d2e1baa648",
              "version_minor": 0,
              "version_major": 2
            },
            "text/plain": [
              "HBox(children=(FloatProgress(value=0.0, description='Downloading', max=213450.0, style=ProgressStyle(descripti…"
            ]
          },
          "metadata": {
            "tags": []
          }
        },
        {
          "output_type": "stream",
          "text": [
            "\n"
          ],
          "name": "stdout"
        }
      ]
    },
    {
      "cell_type": "code",
      "metadata": {
        "colab": {
          "base_uri": "https://localhost:8080/",
          "referenced_widgets": [
            "d092ed592cb74321b9e37126e95c6321",
            "873bbb1d60224a5eaf35c82f5bc8c6d4",
            "9ec51e2b63ba45e6bfd4262e9fb597ae",
            "e1d2881ba01f45249ccb49f7d5df92ce",
            "1bc223a7a2094139b4b95757980653ac",
            "f2213657c3264e0f9b777a073613e136",
            "28e820d8eb074906825b704b0f0d0832",
            "e12eee8369ab4e118fa74fd63a50464e",
            "8a798b36511d48ac98976cb12f874f94",
            "33824714dde24d5595f0068980d24c42",
            "63fe1cfb790a4497a5f9c87b6dfcf0a1",
            "ec0a2fecf1464aa3aa932355033f3672",
            "cc60ad9fd5fa4122be5c83c20b3a71e1",
            "df9fe8830e8b43069d2551822b8895b3",
            "63b9d4f9f5224bfd9539c70fba8d2957",
            "f2a63e24dc3146c592f4a207ac0ef988"
          ]
        },
        "id": "0P41FayISNRI",
        "outputId": "0532f430-a13e-431e-a133-abc846b5b982"
      },
      "source": [
        "bert_model = BertModel.from_pretrained(PRE_TRAINED_MODEL_NAME)"
      ],
      "execution_count": null,
      "outputs": [
        {
          "output_type": "display_data",
          "data": {
            "application/vnd.jupyter.widget-view+json": {
              "model_id": "d092ed592cb74321b9e37126e95c6321",
              "version_minor": 0,
              "version_major": 2
            },
            "text/plain": [
              "HBox(children=(FloatProgress(value=0.0, description='Downloading', max=433.0, style=ProgressStyle(description_…"
            ]
          },
          "metadata": {
            "tags": []
          }
        },
        {
          "output_type": "stream",
          "text": [
            "\n"
          ],
          "name": "stdout"
        },
        {
          "output_type": "display_data",
          "data": {
            "application/vnd.jupyter.widget-view+json": {
              "model_id": "8a798b36511d48ac98976cb12f874f94",
              "version_minor": 0,
              "version_major": 2
            },
            "text/plain": [
              "HBox(children=(FloatProgress(value=0.0, description='Downloading', max=435779157.0, style=ProgressStyle(descri…"
            ]
          },
          "metadata": {
            "tags": []
          }
        },
        {
          "output_type": "stream",
          "text": [
            "\n"
          ],
          "name": "stdout"
        }
      ]
    },
    {
      "cell_type": "code",
      "metadata": {
        "id": "ojT7099t1Edi"
      },
      "source": [
        "import transformers\n",
        "import torch\n",
        "import numpy as np\n",
        "import pandas as pd\n",
        "import seaborn as sns\n",
        "from pylab import rcParams\n",
        "import matplotlib.pyplot as plt\n",
        "from matplotlib import rc\n",
        "from sklearn.model_selection import train_test_split\n",
        "from sklearn.metrics import confusion_matrix, classification_report, recall_score, f1_score, accuracy_score, average_precision_score, precision_score\n",
        "from collections import defaultdict\n",
        "from textwrap import wrap\n",
        "from torch import nn, optim\n",
        "from torch.utils.data import Dataset, DataLoader\n",
        "%matplotlib inline\n",
        "\n",
        "\n",
        "np.random.seed(RANDOM_SEED)\n",
        "torch.manual_seed(RANDOM_SEED)\n",
        "device = torch.device(\"cuda:0\" if torch.cuda.is_available() else \"cpu\")"
      ],
      "execution_count": null,
      "outputs": []
    },
    {
      "cell_type": "code",
      "metadata": {
        "id": "klREKd8HKX9C"
      },
      "source": [
        "class SATweetDataset(Dataset):\n",
        "\n",
        "  def __init__(self, tweets, targets, tokenizer, max_len):\n",
        "    self.tweets = tweets\n",
        "    self.targets = targets\n",
        "    self.tokenizer = tokenizer\n",
        "    self.max_len = max_len\n",
        "  \n",
        "  def __len__(self):\n",
        "    return len(self.tweets)\n",
        "  \n",
        "  def __getitem__(self, item):\n",
        "    tweet = str(self.tweets[item])\n",
        "    target = self.targets[item]\n",
        "\n",
        "    encoding = self.tokenizer.encode_plus(\n",
        "      tweet,\n",
        "      add_special_tokens=True,\n",
        "      max_length=self.max_len,\n",
        "      truncation= True,\n",
        "      return_token_type_ids=False,\n",
        "      padding = 'max_length',\n",
        "      return_attention_mask=True,\n",
        "      return_tensors='pt',\n",
        "    )\n",
        "\n",
        "    return {\n",
        "      'tweet_text': tweet,\n",
        "      'input_ids': encoding['input_ids'].flatten(),\n",
        "      'attention_mask': encoding['attention_mask'].flatten(),\n",
        "      'targets': torch.tensor(target, dtype=torch.long)\n",
        "    }"
      ],
      "execution_count": null,
      "outputs": []
    },
    {
      "cell_type": "code",
      "metadata": {
        "id": "GEFSzn4qu7Sx"
      },
      "source": [
        "def create_data_loader(df, tokenizer, max_len, batch_size):\n",
        "\n",
        "    ds = SATweetDataset(\n",
        "        tweets=df.body.to_numpy(),\n",
        "        targets=df.target.to_numpy(),\n",
        "        tokenizer=tokenizer,\n",
        "        max_len=max_len\n",
        "    )\n",
        "    return DataLoader(\n",
        "        ds,\n",
        "        batch_size=batch_size,\n",
        "        num_workers=4\n",
        "    )\n"
      ],
      "execution_count": null,
      "outputs": []
    },
    {
      "cell_type": "code",
      "metadata": {
        "id": "VkHucqHl24cr"
      },
      "source": [
        "class SentimentClassifier(nn.Module):\n",
        "\n",
        "  def __init__(self, n_classes):\n",
        "    super(SentimentClassifier, self).__init__()\n",
        "    self.bert = bert_model.from_pretrained(PRE_TRAINED_MODEL_NAME)\n",
        "    self.out = nn.Linear(self.bert.config.hidden_size, n_classes)\n",
        "  \n",
        "  def forward(self, input_ids, attention_mask):\n",
        "    _, pooled_output = self.bert(\n",
        "      input_ids=input_ids,\n",
        "      attention_mask=attention_mask,\n",
        "      return_dict=False\n",
        "    )\n",
        "    output = pooled_output\n",
        "    return self.out(output)"
      ],
      "execution_count": null,
      "outputs": []
    },
    {
      "cell_type": "code",
      "metadata": {
        "id": "F_TCcfwJ6M-x"
      },
      "source": [
        "def train_epoch(model, data_loader, loss_fn, optimizer,  device, n_examples):\n",
        "  model = model.train()\n",
        "\n",
        "  losses = []\n",
        "  correct_predictions = 0\n",
        "  \n",
        "  for d in data_loader:\n",
        "    input_ids = d[\"input_ids\"].to(device)\n",
        "    attention_mask = d[\"attention_mask\"].to(device)\n",
        "    targets = d[\"targets\"].to(device)\n",
        "\n",
        "    outputs = model(\n",
        "      input_ids=input_ids,\n",
        "      attention_mask=attention_mask\n",
        "    )\n",
        "\n",
        "    _, preds = torch.max(outputs, dim=1)\n",
        "    loss = loss_fn(outputs, targets)\n",
        "\n",
        "    correct_predictions += torch.sum(preds == targets)\n",
        "    losses.append(loss.item())\n",
        "\n",
        "    loss.backward()\n",
        "    optimizer.step()\n",
        "    optimizer.zero_grad()\n",
        "\n",
        "  return correct_predictions.double() / n_examples, np.mean(losses)"
      ],
      "execution_count": null,
      "outputs": []
    },
    {
      "cell_type": "code",
      "metadata": {
        "id": "EoplX1sK65xv"
      },
      "source": [
        "def eval_model(model, data_loader, loss_fn, device, n_examples):\n",
        "  model = model.eval()\n",
        "\n",
        "  losses = []\n",
        "  correct_predictions = 0\n",
        "\n",
        "  with torch.no_grad():\n",
        "    for d in data_loader:\n",
        "      input_ids = d[\"input_ids\"].to(device)\n",
        "      attention_mask = d[\"attention_mask\"].to(device)\n",
        "      targets = d[\"targets\"].to(device)\n",
        "\n",
        "      outputs = model(\n",
        "        input_ids=input_ids,\n",
        "        attention_mask=attention_mask\n",
        "      )\n",
        "      _, preds = torch.max(outputs, dim=1)\n",
        "\n",
        "      loss = loss_fn(outputs, targets)\n",
        "\n",
        "      correct_predictions += torch.sum(preds == targets)\n",
        "      losses.append(loss.item())\n",
        "\n",
        "  return correct_predictions.double() / n_examples, np.mean(losses)"
      ],
      "execution_count": null,
      "outputs": []
    },
    {
      "cell_type": "code",
      "metadata": {
        "id": "rNmj61xF7gmg"
      },
      "source": [
        "def get_predictions(model, data_loader):\n",
        "  model = model.eval()\n",
        "  \n",
        "  tweets_content = []\n",
        "  predictions = []\n",
        "  prediction_probs = []\n",
        "  real_values = []\n",
        "\n",
        "  with torch.no_grad():\n",
        "    for d in data_loader:\n",
        "\n",
        "      texts = d[\"tweet_text\"]\n",
        "      input_ids = d[\"input_ids\"].to(device)\n",
        "      attention_mask = d[\"attention_mask\"].to(device)\n",
        "      targets = d[\"targets\"].to(device)\n",
        "\n",
        "      outputs = model(\n",
        "        input_ids=input_ids,\n",
        "        attention_mask=attention_mask\n",
        "      )\n",
        "      \n",
        "      _, preds = torch.max(outputs, dim=1)\n",
        "      \n",
        "      probs = nn.functional.softmax(outputs, dim=1)\n",
        "\n",
        "      tweets_content.extend(texts)\n",
        "      predictions.extend(preds)\n",
        "      prediction_probs.extend(probs)\n",
        "      real_values.extend(targets)\n",
        "\n",
        "  predictions = torch.stack(predictions).cpu()\n",
        "  prediction_probs = torch.stack(prediction_probs).cpu()\n",
        "  real_values = torch.stack(real_values).cpu()\n",
        "  return tweets_content, predictions, prediction_probs, real_values"
      ],
      "execution_count": null,
      "outputs": []
    },
    {
      "cell_type": "code",
      "metadata": {
        "id": "Lczh9wcuQzpO"
      },
      "source": [
        "def show_confusion_matrix(confusion_matrix):\n",
        "  hmap = sns.heatmap(confusion_matrix, annot=True, fmt=\"d\", cmap=\"Blues\")\n",
        "  hmap.yaxis.set_ticklabels(hmap.yaxis.get_ticklabels(), rotation=0, ha='right')\n",
        "  hmap.xaxis.set_ticklabels(hmap.xaxis.get_ticklabels(), rotation=30, ha='right')\n",
        "  plt.ylabel('True sentiment')\n",
        "  plt.xlabel('Predicted sentiment');"
      ],
      "execution_count": null,
      "outputs": []
    },
    {
      "cell_type": "code",
      "metadata": {
        "id": "xVFBvKC5HNfT"
      },
      "source": [
        "def avg_rec(y_test, y_pred):\n",
        "    rec_n, rec_u, rec_p = recall_score(y_test, y_pred, average=None)\n",
        "    return (1/3) * (rec_n+ rec_u+ rec_p)\n"
      ],
      "execution_count": null,
      "outputs": []
    },
    {
      "cell_type": "code",
      "metadata": {
        "id": "AstLK00YHWGz"
      },
      "source": [
        "def f1_np(y_test, y_pred):\n",
        "    f1_n, _,f1_p = f1_score(y_test, y_pred, average=None)\n",
        "    return 0.5*(f1_n+f1_p)"
      ],
      "execution_count": null,
      "outputs": []
    },
    {
      "cell_type": "markdown",
      "metadata": {
        "id": "u5QTdtJNBhex"
      },
      "source": [
        "## SemEval-2018Task3A"
      ]
    },
    {
      "cell_type": "code",
      "metadata": {
        "colab": {
          "base_uri": "https://localhost:8080/"
        },
        "id": "Ag75xnE1I05f",
        "outputId": "7a55a8c2-6377-49e5-d5fb-c9b6fa28749c"
      },
      "source": [
        "%ls"
      ],
      "execution_count": null,
      "outputs": [
        {
          "output_type": "stream",
          "text": [
            "\u001b[0m\u001b[01;34mdrive\u001b[0m/  \u001b[01;34msample_data\u001b[0m/\n"
          ],
          "name": "stdout"
        }
      ]
    },
    {
      "cell_type": "code",
      "metadata": {
        "colab": {
          "base_uri": "https://localhost:8080/"
        },
        "id": "4h3EsCsz_PxQ",
        "outputId": "8e6c92a1-3e0a-4612-ccd8-ddb0d7d58f7d"
      },
      "source": [
        "%cd '/content/drive/MyDrive/TER BERTTweet/SemEval-2018Task3A/datasets'"
      ],
      "execution_count": null,
      "outputs": [
        {
          "output_type": "stream",
          "text": [
            "/content/drive/.shortcut-targets-by-id/17CE24Rj2KkFXfKV0IKGKdgQ9DW8PLJeH/TER BERTTweet/SemEval-2018Task3A/datasets\n"
          ],
          "name": "stdout"
        }
      ]
    },
    {
      "cell_type": "code",
      "metadata": {
        "colab": {
          "base_uri": "https://localhost:8080/",
          "height": 419
        },
        "id": "_G1ZMWKCBurn",
        "outputId": "4682a7a7-bcc3-4c99-d1d3-a4f58db39973"
      },
      "source": [
        "df_semEval18_train = pd.read_csv('train/SemEval2018-T3-train-taskA_emoji.txt', skiprows=[0], names = ['id', 'target', 'body'], sep = \"\\t\")\n",
        "df_semEval18_test = pd.read_csv('goldtest_TaskA/SemEval2018-T3_gold_test_taskA_emoji.txt', skiprows=[0], names = ['id', 'target', 'body'], sep = \"\\t\")\n",
        "df_semEval18_train"
      ],
      "execution_count": null,
      "outputs": [
        {
          "output_type": "execute_result",
          "data": {
            "text/html": [
              "<div>\n",
              "<style scoped>\n",
              "    .dataframe tbody tr th:only-of-type {\n",
              "        vertical-align: middle;\n",
              "    }\n",
              "\n",
              "    .dataframe tbody tr th {\n",
              "        vertical-align: top;\n",
              "    }\n",
              "\n",
              "    .dataframe thead th {\n",
              "        text-align: right;\n",
              "    }\n",
              "</style>\n",
              "<table border=\"1\" class=\"dataframe\">\n",
              "  <thead>\n",
              "    <tr style=\"text-align: right;\">\n",
              "      <th></th>\n",
              "      <th>id</th>\n",
              "      <th>target</th>\n",
              "      <th>body</th>\n",
              "    </tr>\n",
              "  </thead>\n",
              "  <tbody>\n",
              "    <tr>\n",
              "      <th>0</th>\n",
              "      <td>1</td>\n",
              "      <td>1</td>\n",
              "      <td>Sweet United Nations video. Just in time for C...</td>\n",
              "    </tr>\n",
              "    <tr>\n",
              "      <th>1</th>\n",
              "      <td>2</td>\n",
              "      <td>1</td>\n",
              "      <td>@mrdahl87 We are rumored to have talked to Erv...</td>\n",
              "    </tr>\n",
              "    <tr>\n",
              "      <th>2</th>\n",
              "      <td>3</td>\n",
              "      <td>1</td>\n",
              "      <td>Hey there! Nice to see you Minnesota/ND Winter...</td>\n",
              "    </tr>\n",
              "    <tr>\n",
              "      <th>3</th>\n",
              "      <td>4</td>\n",
              "      <td>0</td>\n",
              "      <td>3 episodes left I'm dying over here</td>\n",
              "    </tr>\n",
              "    <tr>\n",
              "      <th>4</th>\n",
              "      <td>5</td>\n",
              "      <td>1</td>\n",
              "      <td>I can't breathe! was chosen as the most notabl...</td>\n",
              "    </tr>\n",
              "    <tr>\n",
              "      <th>...</th>\n",
              "      <td>...</td>\n",
              "      <td>...</td>\n",
              "      <td>...</td>\n",
              "    </tr>\n",
              "    <tr>\n",
              "      <th>3812</th>\n",
              "      <td>3830</td>\n",
              "      <td>0</td>\n",
              "      <td>@banditelli regarding what the PSU president does</td>\n",
              "    </tr>\n",
              "    <tr>\n",
              "      <th>3813</th>\n",
              "      <td>3831</td>\n",
              "      <td>0</td>\n",
              "      <td>@banditelli But still bothers me that I see no...</td>\n",
              "    </tr>\n",
              "    <tr>\n",
              "      <th>3814</th>\n",
              "      <td>3832</td>\n",
              "      <td>0</td>\n",
              "      <td>well now that i've listened to all of into the...</td>\n",
              "    </tr>\n",
              "    <tr>\n",
              "      <th>3815</th>\n",
              "      <td>3833</td>\n",
              "      <td>0</td>\n",
              "      <td>Hummingbirds #Are  #Experts #at #Hovering #Aft...</td>\n",
              "    </tr>\n",
              "    <tr>\n",
              "      <th>3816</th>\n",
              "      <td>3834</td>\n",
              "      <td>0</td>\n",
              "      <td>Only thing missing now is a session at the gym...</td>\n",
              "    </tr>\n",
              "  </tbody>\n",
              "</table>\n",
              "<p>3817 rows × 3 columns</p>\n",
              "</div>"
            ],
            "text/plain": [
              "        id  target                                               body\n",
              "0        1       1  Sweet United Nations video. Just in time for C...\n",
              "1        2       1  @mrdahl87 We are rumored to have talked to Erv...\n",
              "2        3       1  Hey there! Nice to see you Minnesota/ND Winter...\n",
              "3        4       0                3 episodes left I'm dying over here\n",
              "4        5       1  I can't breathe! was chosen as the most notabl...\n",
              "...    ...     ...                                                ...\n",
              "3812  3830       0  @banditelli regarding what the PSU president does\n",
              "3813  3831       0  @banditelli But still bothers me that I see no...\n",
              "3814  3832       0  well now that i've listened to all of into the...\n",
              "3815  3833       0  Hummingbirds #Are  #Experts #at #Hovering #Aft...\n",
              "3816  3834       0  Only thing missing now is a session at the gym...\n",
              "\n",
              "[3817 rows x 3 columns]"
            ]
          },
          "metadata": {
            "tags": []
          },
          "execution_count": 33
        }
      ]
    },
    {
      "cell_type": "code",
      "metadata": {
        "id": "8OaOwt0KZlLU"
      },
      "source": [
        "df_semEval18_train['target'] = df_semEval18_train['target'].astype(int)"
      ],
      "execution_count": null,
      "outputs": []
    },
    {
      "cell_type": "code",
      "metadata": {
        "id": "BofhdFiYykT0"
      },
      "source": [
        "df_semEval18_test['target'] = df_semEval18_test['target'].astype(int)"
      ],
      "execution_count": null,
      "outputs": []
    },
    {
      "cell_type": "code",
      "metadata": {
        "colab": {
          "base_uri": "https://localhost:8080/"
        },
        "id": "KrZkll3WI1jF",
        "outputId": "9b1e46bc-5340-4744-cc99-d13ae73ae7a0"
      },
      "source": [
        "token_lens = []\n",
        "for txt in df_semEval18_train.body:\n",
        "  tokens = tokenizer.encode(txt, max_length=128)\n",
        "  token_lens.append(len(tokens))"
      ],
      "execution_count": null,
      "outputs": [
        {
          "output_type": "stream",
          "text": [
            "Truncation was not explicitly activated but `max_length` is provided a specific value, please use `truncation=True` to explicitly truncate examples to max length. Defaulting to 'longest_first' truncation strategy. If you encode pairs of sequences (GLUE-style) with the tokenizer you can select this strategy more precisely by providing a specific strategy to `truncation`.\n"
          ],
          "name": "stderr"
        }
      ]
    },
    {
      "cell_type": "code",
      "metadata": {
        "colab": {
          "base_uri": "https://localhost:8080/",
          "height": 279
        },
        "id": "LWoigDHHJdM4",
        "outputId": "7778a5ee-e7da-4b12-d968-e258e9bc7386"
      },
      "source": [
        "sns.histplot(token_lens)\n",
        "plt.xlim([0, 256]);\n",
        "plt.xlabel('Token count');"
      ],
      "execution_count": null,
      "outputs": [
        {
          "output_type": "display_data",
          "data": {
            "image/png": "[encoded data removed]",
            "text/plain": [
              "<Figure size 432x288 with 1 Axes>"
            ]
          },
          "metadata": {
            "tags": []
          }
        }
      ]
    },
    {
      "cell_type": "code",
      "metadata": {
        "id": "y-K5PJWtKMfw"
      },
      "source": [
        "MAX_LEN = max(token_lens)\n",
        "BATCH_SIZE = 32"
      ],
      "execution_count": null,
      "outputs": []
    },
    {
      "cell_type": "code",
      "metadata": {
        "colab": {
          "base_uri": "https://localhost:8080/"
        },
        "id": "6MuG2QNukGvO",
        "outputId": "a0b2ba4f-6d2b-4f0d-8145-7aaf162d7702"
      },
      "source": [
        "MAX_LEN"
      ],
      "execution_count": null,
      "outputs": [
        {
          "output_type": "execute_result",
          "data": {
            "text/plain": [
              "128"
            ]
          },
          "metadata": {
            "tags": []
          },
          "execution_count": 39
        }
      ]
    },
    {
      "cell_type": "code",
      "metadata": {
        "id": "JEdOYAOCKQMW"
      },
      "source": [
        "\n",
        "df_train, df_val = train_test_split(df_semEval18_train, test_size=0.1, random_state=RANDOM_SEED)\n",
        "df_test = df_semEval18_test"
      ],
      "execution_count": null,
      "outputs": []
    },
    {
      "cell_type": "code",
      "metadata": {
        "id": "-Ucb3mfSN4Rx"
      },
      "source": [
        "train_data_loader = create_data_loader(df_train, tokenizer, MAX_LEN, BATCH_SIZE)\n",
        "val_data_loader = create_data_loader(df_val, tokenizer, MAX_LEN, BATCH_SIZE)\n",
        "#test_data_loader = create_data_loader(df_test, tokenizer, MAX_LEN, BATCH_SIZE)"
      ],
      "execution_count": null,
      "outputs": []
    },
    {
      "cell_type": "code",
      "metadata": {
        "colab": {
          "base_uri": "https://localhost:8080/"
        },
        "id": "nO9Xe0K_hwUA",
        "outputId": "c2497380-2883-4e72-ba5a-14cb365d124f"
      },
      "source": [
        "data = next(iter(train_data_loader))\n",
        "data.keys()"
      ],
      "execution_count": null,
      "outputs": [
        {
          "output_type": "execute_result",
          "data": {
            "text/plain": [
              "dict_keys(['tweet_text', 'input_ids', 'attention_mask', 'targets'])"
            ]
          },
          "metadata": {
            "tags": []
          },
          "execution_count": 42
        }
      ]
    },
    {
      "cell_type": "code",
      "metadata": {
        "colab": {
          "base_uri": "https://localhost:8080/"
        },
        "id": "8HxtkbWVYNOc",
        "outputId": "babac65a-0c73-4348-9e74-d89bec80eab1"
      },
      "source": [
        "data = next(iter(val_data_loader))\n",
        "data.keys()"
      ],
      "execution_count": null,
      "outputs": [
        {
          "output_type": "execute_result",
          "data": {
            "text/plain": [
              "dict_keys(['tweet_text', 'input_ids', 'attention_mask', 'targets'])"
            ]
          },
          "metadata": {
            "tags": []
          },
          "execution_count": 43
        }
      ]
    },
    {
      "cell_type": "code",
      "metadata": {
        "id": "_PE3N75W_fI0"
      },
      "source": [
        "n_classes = 2\n",
        "class_names = ['ironic', 'non-ironic']"
      ],
      "execution_count": null,
      "outputs": []
    },
    {
      "cell_type": "code",
      "metadata": {
        "colab": {
          "base_uri": "https://localhost:8080/"
        },
        "id": "odDx1u9Qhq1H",
        "outputId": "e6e7b402-dbe5-45f2-9c0b-7971ccf25918"
      },
      "source": [
        "input_ids = data['input_ids'].to(device)\n",
        "attention_mask = data['attention_mask'].to(device)\n",
        "\n",
        "print(input_ids.shape) # batch size x seq length\n",
        "print(attention_mask.shape) # batch size x seq length"
      ],
      "execution_count": null,
      "outputs": [
        {
          "output_type": "stream",
          "text": [
            "torch.Size([32, 128])\n",
            "torch.Size([32, 128])\n"
          ],
          "name": "stdout"
        }
      ]
    },
    {
      "cell_type": "code",
      "metadata": {
        "id": "F6kN41fLVuMo"
      },
      "source": [
        "model = SentimentClassifier(n_classes)\n",
        "model = model.to(device)"
      ],
      "execution_count": null,
      "outputs": []
    },
    {
      "cell_type": "code",
      "metadata": {
        "id": "w7uEvVHsVuMo"
      },
      "source": [
        "EPOCHS = 30\n",
        "\n",
        "optimizer = optim.AdamW(model.parameters(), lr=1e-5)\n",
        "total_steps = len(train_data_loader) * EPOCHS\n",
        "\"\"\"\n",
        "scheduler = transformers.get_linear_schedule_with_warmup(\n",
        "  optimizer,\n",
        "  num_warmup_steps=0,\n",
        "  num_training_steps=total_steps\n",
        ")\n",
        "\"\"\"\n",
        "loss_fn = nn.CrossEntropyLoss().to(device)"
      ],
      "execution_count": null,
      "outputs": []
    },
    {
      "cell_type": "code",
      "metadata": {
        "colab": {
          "base_uri": "https://localhost:8080/"
        },
        "id": "_hyH_QnrVuMo",
        "outputId": "d23212fc-d202-4845-e4ce-e4b11da924eb"
      },
      "source": [
        "%%time\n",
        "\n",
        "history = defaultdict(list)\n",
        "best_accuracy = 0\n",
        "early_stop = 0\n",
        "\n",
        "for epoch in range(EPOCHS):\n",
        "\n",
        "  print(f'Epoch {epoch + 1}/{EPOCHS}')\n",
        "  print('-' * 10)\n",
        "\n",
        "  train_acc, train_loss = train_epoch(\n",
        "    model,\n",
        "    train_data_loader,    \n",
        "    loss_fn, \n",
        "    optimizer, \n",
        "    device, \n",
        "    len(df_train)\n",
        "  )\n",
        "\n",
        "  print(f'Train loss {train_loss} accuracy {train_acc}')\n",
        "\n",
        "  val_acc, val_loss = eval_model(\n",
        "    model,\n",
        "    val_data_loader,\n",
        "    loss_fn, \n",
        "    device, \n",
        "    len(df_val)\n",
        "  )\n",
        "\n",
        "  print(f'Val   loss {val_loss} accuracy {val_acc}')\n",
        "  print()\n",
        "\n",
        "  history['train_acc'].append(train_acc)\n",
        "  history['train_loss'].append(train_loss)\n",
        "  history['val_acc'].append(val_acc)\n",
        "  history['val_loss'].append(val_loss)\n",
        "\n",
        "  if val_acc > best_accuracy:\n",
        "    torch.save(model.state_dict(), f'best_model_state_random_state_{RANDOM_SEED}.bin')\n",
        "    best_accuracy = val_acc\n",
        "    early_stop = 0\n",
        "  else:\n",
        "      early_stop = early_stop + 1\n",
        "      if early_stop == 5:\n",
        "        break"
      ],
      "execution_count": null,
      "outputs": [
        {
          "output_type": "stream",
          "text": [
            "Epoch 1/30\n",
            "----------\n",
            "Train loss 0.6504147872328758 accuracy 0.6189228529839884\n",
            "Val   loss 0.6203309893608093 accuracy 0.6361256544502618\n",
            "\n",
            "Epoch 2/30\n",
            "----------\n",
            "Train loss 0.5551074202413913 accuracy 0.7202328966521107\n",
            "Val   loss 0.5712614754835764 accuracy 0.6963350785340314\n",
            "\n",
            "Epoch 3/30\n",
            "----------\n",
            "Train loss 0.4438574960524285 accuracy 0.8034934497816595\n",
            "Val   loss 0.619319828848044 accuracy 0.6832460732984293\n",
            "\n",
            "Epoch 4/30\n",
            "----------\n",
            "Train loss 0.322403358226573 accuracy 0.8721979621542941\n",
            "Val   loss 0.6952607010801634 accuracy 0.6727748691099477\n",
            "\n",
            "Epoch 5/30\n",
            "----------\n",
            "Train loss 0.2241392945870757 accuracy 0.9269286754002912\n",
            "Val   loss 0.8247049103180567 accuracy 0.675392670157068\n",
            "\n",
            "Epoch 6/30\n",
            "----------\n",
            "Train loss 0.19698840026157322 accuracy 0.9356622998544397\n",
            "Val   loss 0.8352726946274439 accuracy 0.6963350785340314\n",
            "\n",
            "Epoch 7/30\n",
            "----------\n",
            "Train loss 0.13466206553426605 accuracy 0.9580786026200874\n",
            "Val   loss 1.089712142944336 accuracy 0.6518324607329843\n",
            "\n",
            "CPU times: user 5min 12s, sys: 3min 44s, total: 8min 56s\n",
            "Wall time: 9min 4s\n"
          ],
          "name": "stdout"
        }
      ]
    },
    {
      "cell_type": "code",
      "metadata": {
        "colab": {
          "base_uri": "https://localhost:8080/"
        },
        "id": "HNXfSUtKtVcd",
        "outputId": "84465781-fe93-42db-d8c2-90e6f3b11207"
      },
      "source": [
        "model.load_state_dict(torch.load(f'best_model_state_random_state_{RANDOM_SEED}.bin'))"
      ],
      "execution_count": null,
      "outputs": [
        {
          "output_type": "execute_result",
          "data": {
            "text/plain": [
              "<All keys matched successfully>"
            ]
          },
          "metadata": {
            "tags": []
          },
          "execution_count": 49
        }
      ]
    },
    {
      "cell_type": "code",
      "metadata": {
        "id": "7JmbPiNrtVce"
      },
      "source": [
        "test_data_loader = create_data_loader(df_test, tokenizer, MAX_LEN, BATCH_SIZE)"
      ],
      "execution_count": null,
      "outputs": []
    },
    {
      "cell_type": "code",
      "metadata": {
        "colab": {
          "base_uri": "https://localhost:8080/"
        },
        "id": "iICQM2ZJtVcd",
        "outputId": "6318e56f-53e5-4c53-b86e-d00751b806b2"
      },
      "source": [
        "test_acc, _ = eval_model(\n",
        "  model,\n",
        "  test_data_loader,\n",
        "  loss_fn,\n",
        "  device,\n",
        "  len(df_test)\n",
        ")\n",
        "\n",
        "test_acc.item()"
      ],
      "execution_count": null,
      "outputs": [
        {
          "output_type": "execute_result",
          "data": {
            "text/plain": [
              "0.6390306122448979"
            ]
          },
          "metadata": {
            "tags": []
          },
          "execution_count": 51
        }
      ]
    },
    {
      "cell_type": "code",
      "metadata": {
        "id": "l4ytcOEgtVce"
      },
      "source": [
        "y_tweet_texts, y_pred, y_pred_probs, y_test = get_predictions(\n",
        "  model,\n",
        "  test_data_loader\n",
        ")"
      ],
      "execution_count": null,
      "outputs": []
    },
    {
      "cell_type": "code",
      "metadata": {
        "colab": {
          "base_uri": "https://localhost:8080/"
        },
        "id": "xungYscDtVce",
        "outputId": "48e7337a-2c6b-48fd-f558-1b8648f9526a"
      },
      "source": [
        "print(classification_report(y_test, y_pred, target_names=class_names))"
      ],
      "execution_count": null,
      "outputs": [
        {
          "output_type": "stream",
          "text": [
            "              precision    recall  f1-score   support\n",
            "\n",
            "      ironic       0.71      0.67      0.69       473\n",
            "  non-ironic       0.54      0.59      0.56       311\n",
            "\n",
            "    accuracy                           0.64       784\n",
            "   macro avg       0.63      0.63      0.63       784\n",
            "weighted avg       0.64      0.64      0.64       784\n",
            "\n"
          ],
          "name": "stdout"
        }
      ]
    },
    {
      "cell_type": "code",
      "metadata": {
        "colab": {
          "base_uri": "https://localhost:8080/",
          "height": 303
        },
        "id": "lOAu4meFtVce",
        "outputId": "19085583-4286-4be8-efc0-caf0b9bbb620"
      },
      "source": [
        "cm = confusion_matrix(y_test, y_pred)\n",
        "df_cm = pd.DataFrame(cm, index=class_names, columns=class_names)\n",
        "show_confusion_matrix(df_cm)"
      ],
      "execution_count": null,
      "outputs": [
        {
          "output_type": "display_data",
          "data": {
            "image/png": "[encoded data removed]",
            "text/plain": [
              "<Figure size 432x288 with 2 Axes>"
            ]
          },
          "metadata": {
            "tags": []
          }
        }
      ]
    },
    {
      "cell_type": "code",
      "metadata": {
        "colab": {
          "base_uri": "https://localhost:8080/"
        },
        "id": "101HA5lUtVcf",
        "outputId": "f5e54a37-316c-4fc5-dcef-15e6da716621"
      },
      "source": [
        "accuracy_score(y_test, y_pred)"
      ],
      "execution_count": null,
      "outputs": [
        {
          "output_type": "execute_result",
          "data": {
            "text/plain": [
              "0.639030612244898"
            ]
          },
          "metadata": {
            "tags": []
          },
          "execution_count": 55
        }
      ]
    },
    {
      "cell_type": "code",
      "metadata": {
        "id": "wNX1Z4SlalZB"
      },
      "source": [
        "_,f1_p = f1_score(y_test, y_pred, average=None)"
      ],
      "execution_count": null,
      "outputs": []
    },
    {
      "cell_type": "code",
      "metadata": {
        "colab": {
          "base_uri": "https://localhost:8080/"
        },
        "id": "07poEE_pcwl7",
        "outputId": "4a24ee36-27bb-40e3-a953-23b86547510d"
      },
      "source": [
        "print(f1_p)"
      ],
      "execution_count": null,
      "outputs": [
        {
          "output_type": "stream",
          "text": [
            "0.5639445300462249\n"
          ],
          "name": "stdout"
        }
      ]
    },
    {
      "cell_type": "code",
      "metadata": {
        "id": "mh5l59-74kbU"
      },
      "source": [
        "writeResultsInFile(accuracy_score(y_test, y_pred), f1_score(y_test, y_pred, average='weighted'), random_seed=RANDOM_SEED)"
      ],
      "execution_count": null,
      "outputs": []
    },
    {
      "cell_type": "markdown",
      "metadata": {
        "id": "WgY6nnIx9m1t"
      },
      "source": [
        "# SemEval 2019 TASK 5"
      ]
    },
    {
      "cell_type": "code",
      "metadata": {
        "colab": {
          "base_uri": "https://localhost:8080/"
        },
        "id": "HFpnzy7E9rUz",
        "outputId": "28475941-59ad-41ad-e9d8-c6fa22a4161b"
      },
      "source": [
        "%cd '/content/drive/MyDrive/TER BERTTweet/SemEval2019Task5/datasets'"
      ],
      "execution_count": null,
      "outputs": [
        {
          "output_type": "stream",
          "text": [
            "/content/drive/.shortcut-targets-by-id/17CE24Rj2KkFXfKV0IKGKdgQ9DW8PLJeH/TER BERTTweet/SemEval2019Task5/datasets\n"
          ],
          "name": "stdout"
        }
      ]
    },
    {
      "cell_type": "code",
      "metadata": {
        "colab": {
          "base_uri": "https://localhost:8080/"
        },
        "id": "KBL_pzCe-CRt",
        "outputId": "4ee25f7d-9d7f-48ee-abcc-2b44cba5039e"
      },
      "source": [
        "!ls"
      ],
      "execution_count": null,
      "outputs": [
        {
          "output_type": "stream",
          "text": [
            "best_model_state.bin\t  hateval2019_es_train.csv\n",
            "hateval2019_en_dev.csv\t  log\n",
            "hateval2019_en_test.csv   log_bert\n",
            "hateval2019_en_train.csv  log_roberta\n",
            "hateval2019_es_dev.csv\t  Roberta_best_model_state.bin\n",
            "hateval2019_es_test.csv\n"
          ],
          "name": "stdout"
        }
      ]
    },
    {
      "cell_type": "code",
      "metadata": {
        "id": "hj92Bfym94UR"
      },
      "source": [
        "df_semEval19_train = pd.read_csv('hateval2019_en_train.csv', sep = \",\")\n",
        "#df_semEval19_train_val = pd.read_csv('hateval2019_en_dev.csv', sep = \"\\t\")\n",
        "df_semEval19_valid = pd.read_csv('hateval2019_en_dev.csv',  sep = \",\")\n",
        "df_test_gold = pd.read_csv('hateval2019_en_test.csv', sep = \",\")\n",
        "#df_result = pd.read_csv('en_a.tsv', sep = \"\\t\", names=[\"id\", \"target\"])\n",
        "#df_test_gold = pd.concat([df_semEval19_test, df_result.target], axis=1)"
      ],
      "execution_count": null,
      "outputs": []
    },
    {
      "cell_type": "code",
      "metadata": {
        "colab": {
          "base_uri": "https://localhost:8080/",
          "height": 419
        },
        "id": "ZSLde_lejdyz",
        "outputId": "e91f7aab-c36b-4557-ee9f-2c659831458c"
      },
      "source": [
        "df_test_gold"
      ],
      "execution_count": null,
      "outputs": [
        {
          "output_type": "execute_result",
          "data": {
            "text/html": [
              "<div>\n",
              "<style scoped>\n",
              "    .dataframe tbody tr th:only-of-type {\n",
              "        vertical-align: middle;\n",
              "    }\n",
              "\n",
              "    .dataframe tbody tr th {\n",
              "        vertical-align: top;\n",
              "    }\n",
              "\n",
              "    .dataframe thead th {\n",
              "        text-align: right;\n",
              "    }\n",
              "</style>\n",
              "<table border=\"1\" class=\"dataframe\">\n",
              "  <thead>\n",
              "    <tr style=\"text-align: right;\">\n",
              "      <th></th>\n",
              "      <th>id</th>\n",
              "      <th>text</th>\n",
              "      <th>HS</th>\n",
              "      <th>TR</th>\n",
              "      <th>AG</th>\n",
              "    </tr>\n",
              "  </thead>\n",
              "  <tbody>\n",
              "    <tr>\n",
              "      <th>0</th>\n",
              "      <td>34243</td>\n",
              "      <td>@local1025 @njdotcom @GovMurphy Oh, I could ha...</td>\n",
              "      <td>0</td>\n",
              "      <td>0</td>\n",
              "      <td>0</td>\n",
              "    </tr>\n",
              "    <tr>\n",
              "      <th>1</th>\n",
              "      <td>30593</td>\n",
              "      <td>Several of the wild fires in #california and #...</td>\n",
              "      <td>0</td>\n",
              "      <td>0</td>\n",
              "      <td>0</td>\n",
              "    </tr>\n",
              "    <tr>\n",
              "      <th>2</th>\n",
              "      <td>31427</td>\n",
              "      <td>@JudicialWatch My question is how do you reset...</td>\n",
              "      <td>0</td>\n",
              "      <td>0</td>\n",
              "      <td>0</td>\n",
              "    </tr>\n",
              "    <tr>\n",
              "      <th>3</th>\n",
              "      <td>31694</td>\n",
              "      <td>#Europe, you've got a problem!   We must hurry...</td>\n",
              "      <td>1</td>\n",
              "      <td>0</td>\n",
              "      <td>0</td>\n",
              "    </tr>\n",
              "    <tr>\n",
              "      <th>4</th>\n",
              "      <td>31865</td>\n",
              "      <td>This is outrageous! #StopIllegalImmigration  #...</td>\n",
              "      <td>1</td>\n",
              "      <td>0</td>\n",
              "      <td>0</td>\n",
              "    </tr>\n",
              "    <tr>\n",
              "      <th>...</th>\n",
              "      <td>...</td>\n",
              "      <td>...</td>\n",
              "      <td>...</td>\n",
              "      <td>...</td>\n",
              "      <td>...</td>\n",
              "    </tr>\n",
              "    <tr>\n",
              "      <th>2995</th>\n",
              "      <td>31368</td>\n",
              "      <td>you can never take a L off a real bitch😩 im ho...</td>\n",
              "      <td>1</td>\n",
              "      <td>1</td>\n",
              "      <td>0</td>\n",
              "    </tr>\n",
              "    <tr>\n",
              "      <th>2996</th>\n",
              "      <td>30104</td>\n",
              "      <td>@Brian_202 likes to call me a cunt &amp; a bitch b...</td>\n",
              "      <td>1</td>\n",
              "      <td>1</td>\n",
              "      <td>0</td>\n",
              "    </tr>\n",
              "    <tr>\n",
              "      <th>2997</th>\n",
              "      <td>31912</td>\n",
              "      <td>@kusha1a @Camio_the_wise @shoe0nhead 1. Never ...</td>\n",
              "      <td>1</td>\n",
              "      <td>1</td>\n",
              "      <td>0</td>\n",
              "    </tr>\n",
              "    <tr>\n",
              "      <th>2998</th>\n",
              "      <td>31000</td>\n",
              "      <td>If i see and know you a hoe why would i hit yo...</td>\n",
              "      <td>1</td>\n",
              "      <td>1</td>\n",
              "      <td>0</td>\n",
              "    </tr>\n",
              "    <tr>\n",
              "      <th>2999</th>\n",
              "      <td>30870</td>\n",
              "      <td>You be chasing them hoes fuck what a bitch think</td>\n",
              "      <td>1</td>\n",
              "      <td>1</td>\n",
              "      <td>0</td>\n",
              "    </tr>\n",
              "  </tbody>\n",
              "</table>\n",
              "<p>3000 rows × 5 columns</p>\n",
              "</div>"
            ],
            "text/plain": [
              "         id                                               text  HS  TR  AG\n",
              "0     34243  @local1025 @njdotcom @GovMurphy Oh, I could ha...   0   0   0\n",
              "1     30593  Several of the wild fires in #california and #...   0   0   0\n",
              "2     31427  @JudicialWatch My question is how do you reset...   0   0   0\n",
              "3     31694  #Europe, you've got a problem!   We must hurry...   1   0   0\n",
              "4     31865  This is outrageous! #StopIllegalImmigration  #...   1   0   0\n",
              "...     ...                                                ...  ..  ..  ..\n",
              "2995  31368  you can never take a L off a real bitch😩 im ho...   1   1   0\n",
              "2996  30104  @Brian_202 likes to call me a cunt & a bitch b...   1   1   0\n",
              "2997  31912  @kusha1a @Camio_the_wise @shoe0nhead 1. Never ...   1   1   0\n",
              "2998  31000  If i see and know you a hoe why would i hit yo...   1   1   0\n",
              "2999  30870   You be chasing them hoes fuck what a bitch think   1   1   0\n",
              "\n",
              "[3000 rows x 5 columns]"
            ]
          },
          "metadata": {
            "tags": []
          },
          "execution_count": 95
        }
      ]
    },
    {
      "cell_type": "code",
      "metadata": {
        "id": "VGpwJN4t_a13"
      },
      "source": [
        "df_train = df_semEval19_train.drop(columns=['TR', 'AG']).rename(columns = {\"text\" : \"body\", \"HS\" : \"target\"})\n",
        "#df_train_val = df_semEval19_train_val.drop(columns=['TR', 'AG']).rename(columns = {\"text\" : \"body\", \"HS\" : \"target\"})\n",
        "df_val = df_semEval19_valid.drop(columns=['TR', 'AG']).rename(columns = {\"text\" : \"body\", \"HS\" : \"target\"})\n",
        "df_test = df_test_gold.drop(columns=['TR', 'AG']).rename(columns = {\"text\" : \"body\", \"HS\" : \"target\"})"
      ],
      "execution_count": null,
      "outputs": []
    },
    {
      "cell_type": "code",
      "metadata": {
        "colab": {
          "base_uri": "https://localhost:8080/",
          "height": 419
        },
        "id": "YRohD4Scp80r",
        "outputId": "f3e31add-8304-4cb2-d284-eee3e248122d"
      },
      "source": [
        "df_train"
      ],
      "execution_count": null,
      "outputs": [
        {
          "output_type": "execute_result",
          "data": {
            "text/html": [
              "<div>\n",
              "<style scoped>\n",
              "    .dataframe tbody tr th:only-of-type {\n",
              "        vertical-align: middle;\n",
              "    }\n",
              "\n",
              "    .dataframe tbody tr th {\n",
              "        vertical-align: top;\n",
              "    }\n",
              "\n",
              "    .dataframe thead th {\n",
              "        text-align: right;\n",
              "    }\n",
              "</style>\n",
              "<table border=\"1\" class=\"dataframe\">\n",
              "  <thead>\n",
              "    <tr style=\"text-align: right;\">\n",
              "      <th></th>\n",
              "      <th>id</th>\n",
              "      <th>body</th>\n",
              "      <th>target</th>\n",
              "    </tr>\n",
              "  </thead>\n",
              "  <tbody>\n",
              "    <tr>\n",
              "      <th>0</th>\n",
              "      <td>201</td>\n",
              "      <td>Hurray, saving us $$$ in so many ways @potus @...</td>\n",
              "      <td>1</td>\n",
              "    </tr>\n",
              "    <tr>\n",
              "      <th>1</th>\n",
              "      <td>202</td>\n",
              "      <td>Why would young fighting age men be the vast m...</td>\n",
              "      <td>1</td>\n",
              "    </tr>\n",
              "    <tr>\n",
              "      <th>2</th>\n",
              "      <td>203</td>\n",
              "      <td>@KamalaHarris Illegals Dump their Kids at the ...</td>\n",
              "      <td>1</td>\n",
              "    </tr>\n",
              "    <tr>\n",
              "      <th>3</th>\n",
              "      <td>204</td>\n",
              "      <td>NY Times: 'Nearly All White' States Pose 'an A...</td>\n",
              "      <td>0</td>\n",
              "    </tr>\n",
              "    <tr>\n",
              "      <th>4</th>\n",
              "      <td>205</td>\n",
              "      <td>Orban in Brussels: European leaders are ignori...</td>\n",
              "      <td>0</td>\n",
              "    </tr>\n",
              "    <tr>\n",
              "      <th>...</th>\n",
              "      <td>...</td>\n",
              "      <td>...</td>\n",
              "      <td>...</td>\n",
              "    </tr>\n",
              "    <tr>\n",
              "      <th>8995</th>\n",
              "      <td>9196</td>\n",
              "      <td>@mmdwriter @JRubinBlogger @BenSasse I am proud...</td>\n",
              "      <td>0</td>\n",
              "    </tr>\n",
              "    <tr>\n",
              "      <th>8996</th>\n",
              "      <td>9197</td>\n",
              "      <td>@CheriJacobus Hollywood is complicit in the ra...</td>\n",
              "      <td>0</td>\n",
              "    </tr>\n",
              "    <tr>\n",
              "      <th>8997</th>\n",
              "      <td>9198</td>\n",
              "      <td>@amaziah_filani What a fucking cunt I hate see...</td>\n",
              "      <td>1</td>\n",
              "    </tr>\n",
              "    <tr>\n",
              "      <th>8998</th>\n",
              "      <td>9199</td>\n",
              "      <td>Hysterical woman like @CoryBooker</td>\n",
              "      <td>0</td>\n",
              "    </tr>\n",
              "    <tr>\n",
              "      <th>8999</th>\n",
              "      <td>9200</td>\n",
              "      <td>Nearly every woman I know has #meToo in their ...</td>\n",
              "      <td>0</td>\n",
              "    </tr>\n",
              "  </tbody>\n",
              "</table>\n",
              "<p>9000 rows × 3 columns</p>\n",
              "</div>"
            ],
            "text/plain": [
              "        id                                               body  target\n",
              "0      201  Hurray, saving us $$$ in so many ways @potus @...       1\n",
              "1      202  Why would young fighting age men be the vast m...       1\n",
              "2      203  @KamalaHarris Illegals Dump their Kids at the ...       1\n",
              "3      204  NY Times: 'Nearly All White' States Pose 'an A...       0\n",
              "4      205  Orban in Brussels: European leaders are ignori...       0\n",
              "...    ...                                                ...     ...\n",
              "8995  9196  @mmdwriter @JRubinBlogger @BenSasse I am proud...       0\n",
              "8996  9197  @CheriJacobus Hollywood is complicit in the ra...       0\n",
              "8997  9198  @amaziah_filani What a fucking cunt I hate see...       1\n",
              "8998  9199                  Hysterical woman like @CoryBooker       0\n",
              "8999  9200  Nearly every woman I know has #meToo in their ...       0\n",
              "\n",
              "[9000 rows x 3 columns]"
            ]
          },
          "metadata": {
            "tags": []
          },
          "execution_count": 97
        }
      ]
    },
    {
      "cell_type": "code",
      "metadata": {
        "colab": {
          "base_uri": "https://localhost:8080/",
          "height": 419
        },
        "id": "cUGeS5XAH9-q",
        "outputId": "972151ed-2a16-44c4-ad9a-0b22096a08f9"
      },
      "source": [
        "df_train_val = pd.concat([df_train, df_val], axis = 0)\n",
        "df_train_val"
      ],
      "execution_count": null,
      "outputs": [
        {
          "output_type": "execute_result",
          "data": {
            "text/html": [
              "<div>\n",
              "<style scoped>\n",
              "    .dataframe tbody tr th:only-of-type {\n",
              "        vertical-align: middle;\n",
              "    }\n",
              "\n",
              "    .dataframe tbody tr th {\n",
              "        vertical-align: top;\n",
              "    }\n",
              "\n",
              "    .dataframe thead th {\n",
              "        text-align: right;\n",
              "    }\n",
              "</style>\n",
              "<table border=\"1\" class=\"dataframe\">\n",
              "  <thead>\n",
              "    <tr style=\"text-align: right;\">\n",
              "      <th></th>\n",
              "      <th>id</th>\n",
              "      <th>body</th>\n",
              "      <th>target</th>\n",
              "    </tr>\n",
              "  </thead>\n",
              "  <tbody>\n",
              "    <tr>\n",
              "      <th>0</th>\n",
              "      <td>201</td>\n",
              "      <td>Hurray, saving us $$$ in so many ways @potus @...</td>\n",
              "      <td>1</td>\n",
              "    </tr>\n",
              "    <tr>\n",
              "      <th>1</th>\n",
              "      <td>202</td>\n",
              "      <td>Why would young fighting age men be the vast m...</td>\n",
              "      <td>1</td>\n",
              "    </tr>\n",
              "    <tr>\n",
              "      <th>2</th>\n",
              "      <td>203</td>\n",
              "      <td>@KamalaHarris Illegals Dump their Kids at the ...</td>\n",
              "      <td>1</td>\n",
              "    </tr>\n",
              "    <tr>\n",
              "      <th>3</th>\n",
              "      <td>204</td>\n",
              "      <td>NY Times: 'Nearly All White' States Pose 'an A...</td>\n",
              "      <td>0</td>\n",
              "    </tr>\n",
              "    <tr>\n",
              "      <th>4</th>\n",
              "      <td>205</td>\n",
              "      <td>Orban in Brussels: European leaders are ignori...</td>\n",
              "      <td>0</td>\n",
              "    </tr>\n",
              "    <tr>\n",
              "      <th>...</th>\n",
              "      <td>...</td>\n",
              "      <td>...</td>\n",
              "      <td>...</td>\n",
              "    </tr>\n",
              "    <tr>\n",
              "      <th>995</th>\n",
              "      <td>19196</td>\n",
              "      <td>@SamEnvers you unfollowed me? Fuck you pussy</td>\n",
              "      <td>0</td>\n",
              "    </tr>\n",
              "    <tr>\n",
              "      <th>996</th>\n",
              "      <td>19197</td>\n",
              "      <td>@DanReynolds STFU BITCH! AND YOU GO MAKE SOME ...</td>\n",
              "      <td>1</td>\n",
              "    </tr>\n",
              "    <tr>\n",
              "      <th>997</th>\n",
              "      <td>19198</td>\n",
              "      <td>@2beornotbeing Honey, as a fellow white chick,...</td>\n",
              "      <td>0</td>\n",
              "    </tr>\n",
              "    <tr>\n",
              "      <th>998</th>\n",
              "      <td>19199</td>\n",
              "      <td>I hate bitches who talk about niggaz with kids...</td>\n",
              "      <td>1</td>\n",
              "    </tr>\n",
              "    <tr>\n",
              "      <th>999</th>\n",
              "      <td>19200</td>\n",
              "      <td>@AnnCoulter @DonaldJTrumpJr You won the\" life ...</td>\n",
              "      <td>1</td>\n",
              "    </tr>\n",
              "  </tbody>\n",
              "</table>\n",
              "<p>10000 rows × 3 columns</p>\n",
              "</div>"
            ],
            "text/plain": [
              "        id                                               body  target\n",
              "0      201  Hurray, saving us $$$ in so many ways @potus @...       1\n",
              "1      202  Why would young fighting age men be the vast m...       1\n",
              "2      203  @KamalaHarris Illegals Dump their Kids at the ...       1\n",
              "3      204  NY Times: 'Nearly All White' States Pose 'an A...       0\n",
              "4      205  Orban in Brussels: European leaders are ignori...       0\n",
              "..     ...                                                ...     ...\n",
              "995  19196       @SamEnvers you unfollowed me? Fuck you pussy       0\n",
              "996  19197  @DanReynolds STFU BITCH! AND YOU GO MAKE SOME ...       1\n",
              "997  19198  @2beornotbeing Honey, as a fellow white chick,...       0\n",
              "998  19199  I hate bitches who talk about niggaz with kids...       1\n",
              "999  19200  @AnnCoulter @DonaldJTrumpJr You won the\" life ...       1\n",
              "\n",
              "[10000 rows x 3 columns]"
            ]
          },
          "metadata": {
            "tags": []
          },
          "execution_count": 98
        }
      ]
    },
    {
      "cell_type": "code",
      "metadata": {
        "id": "_kvnchP7FN13"
      },
      "source": [
        "df_train, df_val = train_test_split(df_train_val, test_size=0.1, random_state=RANDOM_SEED)"
      ],
      "execution_count": null,
      "outputs": []
    },
    {
      "cell_type": "code",
      "metadata": {
        "id": "SokwvJ6K-jet"
      },
      "source": [
        "token_lens = []\n",
        "for txt in df_train.body:\n",
        "  tokens = tokenizer.encode(txt, max_length=128)\n",
        "  token_lens.append(len(tokens))"
      ],
      "execution_count": null,
      "outputs": []
    },
    {
      "cell_type": "code",
      "metadata": {
        "colab": {
          "base_uri": "https://localhost:8080/",
          "height": 279
        },
        "id": "vF6nVKyG-6n5",
        "outputId": "2d5d1190-af67-4000-93d6-0f34307f6b5f"
      },
      "source": [
        "sns.histplot(token_lens)\n",
        "plt.xlim([0, 128]);\n",
        "plt.xlabel('Token count');"
      ],
      "execution_count": null,
      "outputs": [
        {
          "output_type": "display_data",
          "data": {
            "image/png": "[encoded data removed]",
            "text/plain": [
              "<Figure size 432x288 with 1 Axes>"
            ]
          },
          "metadata": {
            "tags": []
          }
        }
      ]
    },
    {
      "cell_type": "code",
      "metadata": {
        "id": "bFUmqUje8U-H"
      },
      "source": [
        "MAX_LEN = np.max(token_lens)\n",
        "BATCH_SIZE = 32"
      ],
      "execution_count": null,
      "outputs": []
    },
    {
      "cell_type": "code",
      "metadata": {
        "id": "8Y6NjU0w-__c"
      },
      "source": [
        "train_data_loader = create_data_loader(df_train, tokenizer, MAX_LEN, BATCH_SIZE)\n",
        "val_data_loader = create_data_loader(df_val, tokenizer, MAX_LEN, BATCH_SIZE)"
      ],
      "execution_count": null,
      "outputs": []
    },
    {
      "cell_type": "code",
      "metadata": {
        "colab": {
          "base_uri": "https://localhost:8080/"
        },
        "id": "oqvldmhOCpl3",
        "outputId": "7ba80d6a-0f4b-4392-8801-c8eb67bc5c28"
      },
      "source": [
        "data = next(iter(train_data_loader))\n",
        "data.keys()"
      ],
      "execution_count": null,
      "outputs": [
        {
          "output_type": "execute_result",
          "data": {
            "text/plain": [
              "dict_keys(['tweet_text', 'input_ids', 'attention_mask', 'targets'])"
            ]
          },
          "metadata": {
            "tags": []
          },
          "execution_count": 104
        }
      ]
    },
    {
      "cell_type": "code",
      "metadata": {
        "colab": {
          "base_uri": "https://localhost:8080/"
        },
        "id": "s8tAWY6hCpl4",
        "outputId": "e1950d96-d3a0-41d9-b507-f311604e40a2"
      },
      "source": [
        "data = next(iter(val_data_loader))\n",
        "data.keys()"
      ],
      "execution_count": null,
      "outputs": [
        {
          "output_type": "execute_result",
          "data": {
            "text/plain": [
              "dict_keys(['tweet_text', 'input_ids', 'attention_mask', 'targets'])"
            ]
          },
          "metadata": {
            "tags": []
          },
          "execution_count": 105
        }
      ]
    },
    {
      "cell_type": "code",
      "metadata": {
        "id": "y0D0fc3FCpl5"
      },
      "source": [
        "n_classes = 2\n",
        "class_names = ['hateful', 'non-hateful']"
      ],
      "execution_count": null,
      "outputs": []
    },
    {
      "cell_type": "code",
      "metadata": {
        "colab": {
          "base_uri": "https://localhost:8080/"
        },
        "id": "jLrzw4hDCpl5",
        "outputId": "0ae5bd10-addf-438d-b16f-d1761560d466"
      },
      "source": [
        "input_ids = data['input_ids'].to(device)\n",
        "attention_mask = data['attention_mask'].to(device)\n",
        "\n",
        "print(input_ids.shape) # batch size x seq length\n",
        "print(attention_mask.shape) # batch size x seq length"
      ],
      "execution_count": null,
      "outputs": [
        {
          "output_type": "stream",
          "text": [
            "torch.Size([32, 128])\n",
            "torch.Size([32, 128])\n"
          ],
          "name": "stdout"
        }
      ]
    },
    {
      "cell_type": "code",
      "metadata": {
        "id": "_bDUrU16Cpl5"
      },
      "source": [
        "model = SentimentClassifier(n_classes)\n",
        "model = model.to(device)"
      ],
      "execution_count": null,
      "outputs": []
    },
    {
      "cell_type": "code",
      "metadata": {
        "id": "WZ7ud5hgCpl6"
      },
      "source": [
        "EPOCHS = 30\n",
        "\n",
        "optimizer = optim.AdamW(model.parameters(), lr=1e-5)\n",
        "total_steps = len(train_data_loader) * EPOCHS\n",
        "\n",
        "scheduler = transformers.get_linear_schedule_with_warmup(\n",
        "  optimizer,\n",
        "  num_warmup_steps=0,\n",
        "  num_training_steps=total_steps\n",
        ")\n",
        "\n",
        "loss_fn = nn.CrossEntropyLoss().to(device)"
      ],
      "execution_count": null,
      "outputs": []
    },
    {
      "cell_type": "code",
      "metadata": {
        "colab": {
          "base_uri": "https://localhost:8080/"
        },
        "id": "TdVYRjABCpl6",
        "outputId": "4e883bcb-6b45-4e29-e22e-0ca28b5fb801"
      },
      "source": [
        "%%time\n",
        "\n",
        "history = defaultdict(list)\n",
        "best_accuracy = 0\n",
        "early_stop = 0\n",
        "\n",
        "for epoch in range(EPOCHS):\n",
        "\n",
        "  print(f'Epoch {epoch + 1}/{EPOCHS}')\n",
        "  print('-' * 10)\n",
        "\n",
        "  train_acc, train_loss = train_epoch(\n",
        "    model,\n",
        "    train_data_loader,    \n",
        "    loss_fn, \n",
        "    optimizer, \n",
        "    device, \n",
        "    len(df_train)\n",
        "  )\n",
        "\n",
        "  print(f'Train loss {train_loss} accuracy {train_acc}')\n",
        "\n",
        "  val_acc, val_loss = eval_model(\n",
        "    model,\n",
        "    val_data_loader,\n",
        "    loss_fn, \n",
        "    device, \n",
        "    len(df_val)\n",
        "  )\n",
        "\n",
        "  print(f'Val   loss {val_loss} accuracy {val_acc}')\n",
        "  print()\n",
        "\n",
        "  history['train_acc'].append(train_acc)\n",
        "  history['train_loss'].append(train_loss)\n",
        "  history['val_acc'].append(val_acc)\n",
        "  history['val_loss'].append(val_loss)\n",
        "\n",
        "  if val_acc > best_accuracy:\n",
        "    torch.save(model.state_dict(), 'best_model_state.bin')\n",
        "    best_accuracy = val_acc\n",
        "    early_stop = 0\n",
        "  else:\n",
        "      early_stop = early_stop + 1\n",
        "      if early_stop == 5:\n",
        "        break"
      ],
      "execution_count": null,
      "outputs": [
        {
          "output_type": "stream",
          "text": [
            "Epoch 1/30\n",
            "----------\n",
            "Train loss 0.5228026124602514 accuracy 0.7377777777777779\n",
            "Val   loss 0.46141532994806767 accuracy 0.798\n",
            "\n",
            "Epoch 2/30\n",
            "----------\n",
            "Train loss 0.37750874908891974 accuracy 0.8271111111111111\n",
            "Val   loss 0.4686213484965265 accuracy 0.807\n",
            "\n",
            "Epoch 3/30\n",
            "----------\n",
            "Train loss 0.26688647701517276 accuracy 0.8893333333333334\n",
            "Val   loss 0.5300403111614287 accuracy 0.798\n",
            "\n",
            "Epoch 4/30\n",
            "----------\n",
            "Train loss 0.17642969445239567 accuracy 0.9328888888888889\n",
            "Val   loss 0.5941238738596439 accuracy 0.795\n",
            "\n",
            "Epoch 5/30\n",
            "----------\n",
            "Train loss 0.12183836738228904 accuracy 0.9543333333333334\n",
            "Val   loss 0.6606376357376575 accuracy 0.808\n",
            "\n",
            "Epoch 6/30\n",
            "----------\n",
            "Train loss 0.09338063421388361 accuracy 0.9684444444444444\n",
            "Val   loss 0.6719344537705183 accuracy 0.803\n",
            "\n",
            "Epoch 7/30\n",
            "----------\n",
            "Train loss 0.06816025398975463 accuracy 0.9771111111111112\n",
            "Val   loss 0.7751701818779111 accuracy 0.81\n",
            "\n",
            "Epoch 8/30\n",
            "----------\n",
            "Train loss 0.05012134655051805 accuracy 0.9851111111111112\n",
            "Val   loss 0.8038819637149572 accuracy 0.796\n",
            "\n",
            "Epoch 9/30\n",
            "----------\n",
            "Train loss 0.04212526904405854 accuracy 0.9885555555555556\n",
            "Val   loss 0.8088492443785071 accuracy 0.81\n",
            "\n",
            "Epoch 10/30\n",
            "----------\n",
            "Train loss 0.04201410274955952 accuracy 0.9890000000000001\n",
            "Val   loss 0.7906023263931274 accuracy 0.799\n",
            "\n",
            "Epoch 11/30\n",
            "----------\n",
            "Train loss 0.029483528614559388 accuracy 0.9913333333333334\n",
            "Val   loss 0.8476192206144333 accuracy 0.804\n",
            "\n",
            "Epoch 12/30\n",
            "----------\n",
            "Train loss 0.030020053685867354 accuracy 0.9915555555555556\n",
            "Val   loss 0.8732410492375493 accuracy 0.787\n",
            "\n",
            "CPU times: user 24min 21s, sys: 17min 20s, total: 41min 41s\n",
            "Wall time: 42min 5s\n"
          ],
          "name": "stdout"
        }
      ]
    },
    {
      "cell_type": "code",
      "metadata": {
        "colab": {
          "base_uri": "https://localhost:8080/"
        },
        "id": "gWL_D8xsBhxO",
        "outputId": "11a34126-65b1-4935-d087-57917fe2c062"
      },
      "source": [
        "\n",
        "model.load_state_dict(torch.load('best_model_state.bin'))"
      ],
      "execution_count": null,
      "outputs": [
        {
          "output_type": "execute_result",
          "data": {
            "text/plain": [
              "<All keys matched successfully>"
            ]
          },
          "metadata": {
            "tags": []
          },
          "execution_count": 111
        }
      ]
    },
    {
      "cell_type": "code",
      "metadata": {
        "id": "fRF8uWq9DM1j"
      },
      "source": [
        "test_data_loader = create_data_loader(df_test, tokenizer, MAX_LEN, BATCH_SIZE)"
      ],
      "execution_count": null,
      "outputs": []
    },
    {
      "cell_type": "code",
      "metadata": {
        "colab": {
          "base_uri": "https://localhost:8080/"
        },
        "id": "qe8pPwxaDM1r",
        "outputId": "b2b65438-e272-44d2-ea5e-822563e25962"
      },
      "source": [
        "test_acc, _ = eval_model(\n",
        "  model,\n",
        "  test_data_loader,\n",
        "  loss_fn,\n",
        "  device,\n",
        "  len(df_test)\n",
        ")\n",
        "\n",
        "test_acc.item()"
      ],
      "execution_count": null,
      "outputs": [
        {
          "output_type": "execute_result",
          "data": {
            "text/plain": [
              "0.539"
            ]
          },
          "metadata": {
            "tags": []
          },
          "execution_count": 113
        }
      ]
    },
    {
      "cell_type": "code",
      "metadata": {
        "id": "p_8px6MDDM1r"
      },
      "source": [
        "y_tweet_texts, y_pred, y_pred_probs, y_test = get_predictions(\n",
        "  model,\n",
        "  test_data_loader\n",
        ")"
      ],
      "execution_count": null,
      "outputs": []
    },
    {
      "cell_type": "code",
      "metadata": {
        "colab": {
          "base_uri": "https://localhost:8080/"
        },
        "id": "Dy7-I3ngDM1s",
        "outputId": "31319f4a-401b-44c3-ae2f-12cbf74356ae"
      },
      "source": [
        "print(classification_report(y_test, y_pred, target_names=class_names))"
      ],
      "execution_count": null,
      "outputs": [
        {
          "output_type": "stream",
          "text": [
            "              precision    recall  f1-score   support\n",
            "\n",
            "     hateful       0.86      0.24      0.38      1740\n",
            " non-hateful       0.48      0.95      0.63      1260\n",
            "\n",
            "    accuracy                           0.54      3000\n",
            "   macro avg       0.67      0.60      0.51      3000\n",
            "weighted avg       0.70      0.54      0.49      3000\n",
            "\n"
          ],
          "name": "stdout"
        }
      ]
    },
    {
      "cell_type": "code",
      "metadata": {
        "colab": {
          "base_uri": "https://localhost:8080/",
          "height": 307
        },
        "id": "8ReYNDgvDM1s",
        "outputId": "19a48e73-b834-4438-c39b-04d8d51f1cb8"
      },
      "source": [
        "cm = confusion_matrix(y_test, y_pred)\n",
        "df_cm = pd.DataFrame(cm, index=class_names, columns=class_names)\n",
        "show_confusion_matrix(df_cm)"
      ],
      "execution_count": null,
      "outputs": [
        {
          "output_type": "display_data",
          "data": {
            "image/png": "[encoded data removed]",
            "text/plain": [
              "<Figure size 432x288 with 2 Axes>"
            ]
          },
          "metadata": {
            "tags": []
          }
        }
      ]
    },
    {
      "cell_type": "code",
      "metadata": {
        "colab": {
          "base_uri": "https://localhost:8080/"
        },
        "id": "ihaoo95gDM1s",
        "outputId": "1d94b928-aa73-4f97-fe55-343fcbc2580e"
      },
      "source": [
        "accuracy_score(y_test, y_pred)"
      ],
      "execution_count": null,
      "outputs": [
        {
          "output_type": "execute_result",
          "data": {
            "text/plain": [
              "0.539"
            ]
          },
          "metadata": {
            "tags": []
          },
          "execution_count": 117
        }
      ]
    },
    {
      "cell_type": "code",
      "metadata": {
        "colab": {
          "base_uri": "https://localhost:8080/"
        },
        "id": "9HCrmVxQDPkr",
        "outputId": "804ef13f-c098-4061-e2d8-3b7d2529b598"
      },
      "source": [
        "f1_score(y_test, y_pred)"
      ],
      "execution_count": null,
      "outputs": [
        {
          "output_type": "execute_result",
          "data": {
            "text/plain": [
              "0.6330591668877686"
            ]
          },
          "metadata": {
            "tags": []
          },
          "execution_count": 118
        }
      ]
    },
    {
      "cell_type": "code",
      "metadata": {
        "id": "aeDVzuRf40UO"
      },
      "source": [
        "writeResultsInFile(accuracy_score(y_test, y_pred), f1_score(y_test, y_pred, average='weighted'), random_seed=RANDOM_SEED)"
      ],
      "execution_count": null,
      "outputs": []
    },
    {
      "cell_type": "markdown",
      "metadata": {
        "id": "vRyRiq_FB-d3"
      },
      "source": [
        "# SemEval 2016 Task 6"
      ]
    },
    {
      "cell_type": "code",
      "metadata": {
        "colab": {
          "base_uri": "https://localhost:8080/"
        },
        "id": "kghfh06QK4i8",
        "outputId": "36144080-8b55-4c36-a846-3559759ca218"
      },
      "source": [
        "%cd \"/content/drive/MyDrive/TER BERTTweet/SemEval2016Task6\""
      ],
      "execution_count": null,
      "outputs": [
        {
          "output_type": "stream",
          "text": [
            "/content/drive/.shortcut-targets-by-id/17CE24Rj2KkFXfKV0IKGKdgQ9DW8PLJeH/TER BERTTweet/SemEval2016Task6\n"
          ],
          "name": "stdout"
        }
      ]
    },
    {
      "cell_type": "code",
      "metadata": {
        "colab": {
          "base_uri": "https://localhost:8080/"
        },
        "id": "aH7C0RS7Oj7G",
        "outputId": "172c4cef-06a8-4f34-d0f7-e6bddf6aab09"
      },
      "source": [
        "!ls -l"
      ],
      "execution_count": null,
      "outputs": [
        {
          "output_type": "stream",
          "text": [
            "total 910753\n",
            "-rw------- 1 root root 433338016 Jan 30 12:22 best_model_state.bin\n",
            "-rw------- 1 root root       234 Jan 29 08:45 log\n",
            "-rw------- 1 root root        78 Jan 30 12:25 log_bert\n",
            "-rw------- 1 root root       130 Jan 31 00:32 log_roberta\n",
            "-rw------- 1 root root 498679457 Jan 31 00:29 Roberta_best_model_state.bin\n",
            "-rw------- 1 root root    179446 Jan 29 06:26 test_gold.txt\n",
            "-rw------- 1 root root    397092 Jan 29 06:26 train.txt\n",
            "-rw------- 1 root root     13911 Jan 29 06:28 trial.txt\n"
          ],
          "name": "stdout"
        }
      ]
    },
    {
      "cell_type": "code",
      "metadata": {
        "id": "NBF5UeAPDmsT"
      },
      "source": [
        "df_sem16train = pd.read_csv(\"train.txt\", sep=\"\\t\", encoding = \"ISO-8859-1\")\n",
        "df_sem16val = pd.read_csv(\"trial.txt\", sep=\"\\t\", encoding = \"ISO-8859-1\")\n",
        "df_sem16test = pd.read_csv(\"test_gold.txt\", sep=\"\\t\", encoding = \"ISO-8859-1\")"
      ],
      "execution_count": null,
      "outputs": []
    },
    {
      "cell_type": "code",
      "metadata": {
        "colab": {
          "base_uri": "https://localhost:8080/"
        },
        "id": "L_qkjSfVOqTn",
        "outputId": "237fa264-74d1-4272-daf0-04fb0038b83d"
      },
      "source": [
        "df_sem16train[\"Stance\"].unique()"
      ],
      "execution_count": null,
      "outputs": [
        {
          "output_type": "execute_result",
          "data": {
            "text/plain": [
              "array(['AGAINST', 'FAVOR', 'NONE'], dtype=object)"
            ]
          },
          "metadata": {
            "tags": []
          },
          "execution_count": 82
        }
      ]
    },
    {
      "cell_type": "code",
      "metadata": {
        "colab": {
          "base_uri": "https://localhost:8080/"
        },
        "id": "ZQSiHr-vOv_A",
        "outputId": "d03a8ac3-7b17-41ce-d71a-52b6266e2671"
      },
      "source": [
        "df_sem16train[\"Target\"].unique()"
      ],
      "execution_count": null,
      "outputs": [
        {
          "output_type": "execute_result",
          "data": {
            "text/plain": [
              "array(['Atheism', 'Climate Change is a Real Concern', 'Feminist Movement',\n",
              "       'Hillary Clinton', 'Legalization of Abortion'], dtype=object)"
            ]
          },
          "metadata": {
            "tags": []
          },
          "execution_count": 83
        }
      ]
    },
    {
      "cell_type": "code",
      "metadata": {
        "id": "GzH51BowTjFc"
      },
      "source": [
        "df_sem16train[\"Target\"] = df_sem16train[\"Target\"].astype('category')\n",
        "df_sem16train['target'] = df_sem16train['Target'].cat.codes"
      ],
      "execution_count": null,
      "outputs": []
    },
    {
      "cell_type": "code",
      "metadata": {
        "id": "qD9ajbBGURGF"
      },
      "source": [
        "df_train = df_sem16train[[\"Tweet\", \"Stance\"]]\n",
        "df_val = df_sem16val[[\"Tweet\", \"Stance\"]]"
      ],
      "execution_count": null,
      "outputs": []
    },
    {
      "cell_type": "code",
      "metadata": {
        "id": "0YdVVGsRW819"
      },
      "source": [
        "df_train = df_val.append(df_train)"
      ],
      "execution_count": null,
      "outputs": []
    },
    {
      "cell_type": "code",
      "metadata": {
        "colab": {
          "base_uri": "https://localhost:8080/",
          "height": 419
        },
        "id": "7sP0SZ04XuVH",
        "outputId": "bffe1833-ff68-46b6-bfcb-5d9219a6e65b"
      },
      "source": [
        "df_train"
      ],
      "execution_count": null,
      "outputs": [
        {
          "output_type": "execute_result",
          "data": {
            "text/html": [
              "<div>\n",
              "<style scoped>\n",
              "    .dataframe tbody tr th:only-of-type {\n",
              "        vertical-align: middle;\n",
              "    }\n",
              "\n",
              "    .dataframe tbody tr th {\n",
              "        vertical-align: top;\n",
              "    }\n",
              "\n",
              "    .dataframe thead th {\n",
              "        text-align: right;\n",
              "    }\n",
              "</style>\n",
              "<table border=\"1\" class=\"dataframe\">\n",
              "  <thead>\n",
              "    <tr style=\"text-align: right;\">\n",
              "      <th></th>\n",
              "      <th>Tweet</th>\n",
              "      <th>Stance</th>\n",
              "    </tr>\n",
              "  </thead>\n",
              "  <tbody>\n",
              "    <tr>\n",
              "      <th>0</th>\n",
              "      <td>@tedcruz And, #HandOverTheServer she wiped cle...</td>\n",
              "      <td>AGAINST</td>\n",
              "    </tr>\n",
              "    <tr>\n",
              "      <th>1</th>\n",
              "      <td>Hillary is our best choice if we truly want to...</td>\n",
              "      <td>FAVOR</td>\n",
              "    </tr>\n",
              "    <tr>\n",
              "      <th>2</th>\n",
              "      <td>@TheView I think our country is ready for a fe...</td>\n",
              "      <td>AGAINST</td>\n",
              "    </tr>\n",
              "    <tr>\n",
              "      <th>3</th>\n",
              "      <td>I just gave an unhealthy amount of my hard-ear...</td>\n",
              "      <td>AGAINST</td>\n",
              "    </tr>\n",
              "    <tr>\n",
              "      <th>4</th>\n",
              "      <td>@PortiaABoulger Thank you for adding me to you...</td>\n",
              "      <td>NONE</td>\n",
              "    </tr>\n",
              "    <tr>\n",
              "      <th>...</th>\n",
              "      <td>...</td>\n",
              "      <td>...</td>\n",
              "    </tr>\n",
              "    <tr>\n",
              "      <th>2809</th>\n",
              "      <td>There's a law protecting unborn eagles, but no...</td>\n",
              "      <td>AGAINST</td>\n",
              "    </tr>\n",
              "    <tr>\n",
              "      <th>2810</th>\n",
              "      <td>I am 1 in 3... I have had an abortion #Abortio...</td>\n",
              "      <td>AGAINST</td>\n",
              "    </tr>\n",
              "    <tr>\n",
              "      <th>2811</th>\n",
              "      <td>How dare you say my sexual preference is a cho...</td>\n",
              "      <td>AGAINST</td>\n",
              "    </tr>\n",
              "    <tr>\n",
              "      <th>2812</th>\n",
              "      <td>Equal rights for those 'born that way', no rig...</td>\n",
              "      <td>AGAINST</td>\n",
              "    </tr>\n",
              "    <tr>\n",
              "      <th>2813</th>\n",
              "      <td>#POTUS seals his legacy w/ 1/2 doz wins. The #...</td>\n",
              "      <td>AGAINST</td>\n",
              "    </tr>\n",
              "  </tbody>\n",
              "</table>\n",
              "<p>2914 rows × 2 columns</p>\n",
              "</div>"
            ],
            "text/plain": [
              "                                                  Tweet   Stance\n",
              "0     @tedcruz And, #HandOverTheServer she wiped cle...  AGAINST\n",
              "1     Hillary is our best choice if we truly want to...    FAVOR\n",
              "2     @TheView I think our country is ready for a fe...  AGAINST\n",
              "3     I just gave an unhealthy amount of my hard-ear...  AGAINST\n",
              "4     @PortiaABoulger Thank you for adding me to you...     NONE\n",
              "...                                                 ...      ...\n",
              "2809  There's a law protecting unborn eagles, but no...  AGAINST\n",
              "2810  I am 1 in 3... I have had an abortion #Abortio...  AGAINST\n",
              "2811  How dare you say my sexual preference is a cho...  AGAINST\n",
              "2812  Equal rights for those 'born that way', no rig...  AGAINST\n",
              "2813  #POTUS seals his legacy w/ 1/2 doz wins. The #...  AGAINST\n",
              "\n",
              "[2914 rows x 2 columns]"
            ]
          },
          "metadata": {
            "tags": []
          },
          "execution_count": 87
        }
      ]
    },
    {
      "cell_type": "code",
      "metadata": {
        "colab": {
          "base_uri": "https://localhost:8080/",
          "height": 419
        },
        "id": "0Ti3wMPRXwOF",
        "outputId": "6034c918-e651-409c-a79b-715b0ddb5078"
      },
      "source": [
        "df_val"
      ],
      "execution_count": null,
      "outputs": [
        {
          "output_type": "execute_result",
          "data": {
            "text/html": [
              "<div>\n",
              "<style scoped>\n",
              "    .dataframe tbody tr th:only-of-type {\n",
              "        vertical-align: middle;\n",
              "    }\n",
              "\n",
              "    .dataframe tbody tr th {\n",
              "        vertical-align: top;\n",
              "    }\n",
              "\n",
              "    .dataframe thead th {\n",
              "        text-align: right;\n",
              "    }\n",
              "</style>\n",
              "<table border=\"1\" class=\"dataframe\">\n",
              "  <thead>\n",
              "    <tr style=\"text-align: right;\">\n",
              "      <th></th>\n",
              "      <th>Tweet</th>\n",
              "      <th>Stance</th>\n",
              "    </tr>\n",
              "  </thead>\n",
              "  <tbody>\n",
              "    <tr>\n",
              "      <th>0</th>\n",
              "      <td>@tedcruz And, #HandOverTheServer she wiped cle...</td>\n",
              "      <td>AGAINST</td>\n",
              "    </tr>\n",
              "    <tr>\n",
              "      <th>1</th>\n",
              "      <td>Hillary is our best choice if we truly want to...</td>\n",
              "      <td>FAVOR</td>\n",
              "    </tr>\n",
              "    <tr>\n",
              "      <th>2</th>\n",
              "      <td>@TheView I think our country is ready for a fe...</td>\n",
              "      <td>AGAINST</td>\n",
              "    </tr>\n",
              "    <tr>\n",
              "      <th>3</th>\n",
              "      <td>I just gave an unhealthy amount of my hard-ear...</td>\n",
              "      <td>AGAINST</td>\n",
              "    </tr>\n",
              "    <tr>\n",
              "      <th>4</th>\n",
              "      <td>@PortiaABoulger Thank you for adding me to you...</td>\n",
              "      <td>NONE</td>\n",
              "    </tr>\n",
              "    <tr>\n",
              "      <th>...</th>\n",
              "      <td>...</td>\n",
              "      <td>...</td>\n",
              "    </tr>\n",
              "    <tr>\n",
              "      <th>95</th>\n",
              "      <td>@Corey_Frizzell @PEILiberalParty and most Isla...</td>\n",
              "      <td>NONE</td>\n",
              "    </tr>\n",
              "    <tr>\n",
              "      <th>96</th>\n",
              "      <td>@Docjp Pressure? It's their job and they are f...</td>\n",
              "      <td>NONE</td>\n",
              "    </tr>\n",
              "    <tr>\n",
              "      <th>97</th>\n",
              "      <td>I love how #liberals only accuse #conservative...</td>\n",
              "      <td>AGAINST</td>\n",
              "    </tr>\n",
              "    <tr>\n",
              "      <th>98</th>\n",
              "      <td>Help your friend figure out how they're going ...</td>\n",
              "      <td>NONE</td>\n",
              "    </tr>\n",
              "    <tr>\n",
              "      <th>99</th>\n",
              "      <td>@JimDDaniels1 Plenty of reasons for Christians...</td>\n",
              "      <td>AGAINST</td>\n",
              "    </tr>\n",
              "  </tbody>\n",
              "</table>\n",
              "<p>100 rows × 2 columns</p>\n",
              "</div>"
            ],
            "text/plain": [
              "                                                Tweet   Stance\n",
              "0   @tedcruz And, #HandOverTheServer she wiped cle...  AGAINST\n",
              "1   Hillary is our best choice if we truly want to...    FAVOR\n",
              "2   @TheView I think our country is ready for a fe...  AGAINST\n",
              "3   I just gave an unhealthy amount of my hard-ear...  AGAINST\n",
              "4   @PortiaABoulger Thank you for adding me to you...     NONE\n",
              "..                                                ...      ...\n",
              "95  @Corey_Frizzell @PEILiberalParty and most Isla...     NONE\n",
              "96  @Docjp Pressure? It's their job and they are f...     NONE\n",
              "97  I love how #liberals only accuse #conservative...  AGAINST\n",
              "98  Help your friend figure out how they're going ...     NONE\n",
              "99  @JimDDaniels1 Plenty of reasons for Christians...  AGAINST\n",
              "\n",
              "[100 rows x 2 columns]"
            ]
          },
          "metadata": {
            "tags": []
          },
          "execution_count": 88
        }
      ]
    },
    {
      "cell_type": "code",
      "metadata": {
        "id": "E11NRTGkzXFp"
      },
      "source": [
        "def sentiment_encode(sentiment):\n",
        "  if sentiment == 'AGAINST':\n",
        "    return 0\n",
        "  elif sentiment == 'NONE':\n",
        "    return 1\n",
        "  else: \n",
        "    return 2"
      ],
      "execution_count": null,
      "outputs": []
    },
    {
      "cell_type": "code",
      "metadata": {
        "id": "dAJG3YtugwTm"
      },
      "source": [
        "df_train['target'] = df_train.Stance.apply(sentiment_encode)"
      ],
      "execution_count": null,
      "outputs": []
    },
    {
      "cell_type": "code",
      "metadata": {
        "id": "dCNFy4U8zSv1"
      },
      "source": [
        "class_names = ['negative', 'neutral', 'positive']"
      ],
      "execution_count": null,
      "outputs": []
    },
    {
      "cell_type": "code",
      "metadata": {
        "id": "_mPe5fANZB1C"
      },
      "source": [
        "df_train = df_train.rename(columns={'Tweet' : 'body'});"
      ],
      "execution_count": null,
      "outputs": []
    },
    {
      "cell_type": "code",
      "metadata": {
        "id": "4iuEUYQ_loqt"
      },
      "source": [
        "df_test = df_sem16test\n",
        "df_test['target'] = df_test.Stance.apply(sentiment_encode)\n",
        "df_test = df_test.rename(columns={'Tweet' : 'body'});"
      ],
      "execution_count": null,
      "outputs": []
    },
    {
      "cell_type": "code",
      "metadata": {
        "id": "TLTIVawkXpog"
      },
      "source": [
        "df_train, df_val = train_test_split(df_train, test_size=0.1, random_state=RANDOM_SEED)"
      ],
      "execution_count": null,
      "outputs": []
    },
    {
      "cell_type": "code",
      "metadata": {
        "colab": {
          "base_uri": "https://localhost:8080/",
          "height": 419
        },
        "id": "qVXsLttkZDPT",
        "outputId": "be091d93-487e-4486-d64f-f84d07bba2dc"
      },
      "source": [
        "df_train"
      ],
      "execution_count": null,
      "outputs": [
        {
          "output_type": "execute_result",
          "data": {
            "text/html": [
              "<div>\n",
              "<style scoped>\n",
              "    .dataframe tbody tr th:only-of-type {\n",
              "        vertical-align: middle;\n",
              "    }\n",
              "\n",
              "    .dataframe tbody tr th {\n",
              "        vertical-align: top;\n",
              "    }\n",
              "\n",
              "    .dataframe thead th {\n",
              "        text-align: right;\n",
              "    }\n",
              "</style>\n",
              "<table border=\"1\" class=\"dataframe\">\n",
              "  <thead>\n",
              "    <tr style=\"text-align: right;\">\n",
              "      <th></th>\n",
              "      <th>body</th>\n",
              "      <th>Stance</th>\n",
              "      <th>target</th>\n",
              "    </tr>\n",
              "  </thead>\n",
              "  <tbody>\n",
              "    <tr>\n",
              "      <th>340</th>\n",
              "      <td>@_kissmysassyass and you don't support equalit...</td>\n",
              "      <td>NONE</td>\n",
              "      <td>1</td>\n",
              "    </tr>\n",
              "    <tr>\n",
              "      <th>2122</th>\n",
              "      <td>@sunbeltgirl @9975Ts @bobwilsonn \"@HillaryClin...</td>\n",
              "      <td>AGAINST</td>\n",
              "      <td>0</td>\n",
              "    </tr>\n",
              "    <tr>\n",
              "      <th>1357</th>\n",
              "      <td>They don't call it MALE-volent for no reason #...</td>\n",
              "      <td>FAVOR</td>\n",
              "      <td>2</td>\n",
              "    </tr>\n",
              "    <tr>\n",
              "      <th>1298</th>\n",
              "      <td>Those fucking feminists...   Sir Tim Hunt was ...</td>\n",
              "      <td>AGAINST</td>\n",
              "      <td>0</td>\n",
              "    </tr>\n",
              "    <tr>\n",
              "      <th>771</th>\n",
              "      <td>As the world emitted CO2 water vapour built up...</td>\n",
              "      <td>FAVOR</td>\n",
              "      <td>2</td>\n",
              "    </tr>\n",
              "    <tr>\n",
              "      <th>...</th>\n",
              "      <td>...</td>\n",
              "      <td>...</td>\n",
              "      <td>...</td>\n",
              "    </tr>\n",
              "    <tr>\n",
              "      <th>1503</th>\n",
              "      <td>How to spot a fashion-#Feminist - they claim f...</td>\n",
              "      <td>AGAINST</td>\n",
              "      <td>0</td>\n",
              "    </tr>\n",
              "    <tr>\n",
              "      <th>2450</th>\n",
              "      <td>@ProLifeYouth Precisely! In God's eyes, ALL li...</td>\n",
              "      <td>AGAINST</td>\n",
              "      <td>0</td>\n",
              "    </tr>\n",
              "    <tr>\n",
              "      <th>437</th>\n",
              "      <td>The most important thing in this world with me...</td>\n",
              "      <td>AGAINST</td>\n",
              "      <td>0</td>\n",
              "    </tr>\n",
              "    <tr>\n",
              "      <th>1120</th>\n",
              "      <td>Eating a bagel by myself rocking out to \"Man! ...</td>\n",
              "      <td>FAVOR</td>\n",
              "      <td>2</td>\n",
              "    </tr>\n",
              "    <tr>\n",
              "      <th>75</th>\n",
              "      <td>I will not allow the accuser to accuse me, for...</td>\n",
              "      <td>AGAINST</td>\n",
              "      <td>0</td>\n",
              "    </tr>\n",
              "  </tbody>\n",
              "</table>\n",
              "<p>2622 rows × 3 columns</p>\n",
              "</div>"
            ],
            "text/plain": [
              "                                                   body   Stance  target\n",
              "340   @_kissmysassyass and you don't support equalit...     NONE       1\n",
              "2122  @sunbeltgirl @9975Ts @bobwilsonn \"@HillaryClin...  AGAINST       0\n",
              "1357  They don't call it MALE-volent for no reason #...    FAVOR       2\n",
              "1298  Those fucking feminists...   Sir Tim Hunt was ...  AGAINST       0\n",
              "771   As the world emitted CO2 water vapour built up...    FAVOR       2\n",
              "...                                                 ...      ...     ...\n",
              "1503  How to spot a fashion-#Feminist - they claim f...  AGAINST       0\n",
              "2450  @ProLifeYouth Precisely! In God's eyes, ALL li...  AGAINST       0\n",
              "437   The most important thing in this world with me...  AGAINST       0\n",
              "1120  Eating a bagel by myself rocking out to \"Man! ...    FAVOR       2\n",
              "75    I will not allow the accuser to accuse me, for...  AGAINST       0\n",
              "\n",
              "[2622 rows x 3 columns]"
            ]
          },
          "metadata": {
            "tags": []
          },
          "execution_count": 95
        }
      ]
    },
    {
      "cell_type": "code",
      "metadata": {
        "id": "IcWqGKl4cFba"
      },
      "source": [
        "token_lens = []\n",
        "for txt in df_train.body:\n",
        "  tokens = tokenizer.encode(txt, max_length=128)\n",
        "  token_lens.append(len(tokens))"
      ],
      "execution_count": null,
      "outputs": []
    },
    {
      "cell_type": "code",
      "metadata": {
        "colab": {
          "base_uri": "https://localhost:8080/",
          "height": 279
        },
        "id": "7JgLGuROcFbe",
        "outputId": "ca404cb0-7fbc-4a16-8f3c-462752cb4a51"
      },
      "source": [
        "sns.histplot(token_lens)\n",
        "plt.xlim([0, 128]);\n",
        "plt.xlabel('Token count');"
      ],
      "execution_count": null,
      "outputs": [
        {
          "output_type": "display_data",
          "data": {
            "image/png": "[encoded data removed]",
            "text/plain": [
              "<Figure size 432x288 with 1 Axes>"
            ]
          },
          "metadata": {
            "tags": []
          }
        }
      ]
    },
    {
      "cell_type": "code",
      "metadata": {
        "id": "r-UerINkcFbf"
      },
      "source": [
        "MAX_LEN = np.max(token_lens)\n",
        "BATCH_SIZE = 32"
      ],
      "execution_count": null,
      "outputs": []
    },
    {
      "cell_type": "code",
      "metadata": {
        "id": "52bCgn5gcFbg"
      },
      "source": [
        "train_data_loader = create_data_loader(df_train, tokenizer, MAX_LEN, BATCH_SIZE)\n",
        "val_data_loader = create_data_loader(df_val, tokenizer, MAX_LEN, BATCH_SIZE)"
      ],
      "execution_count": null,
      "outputs": []
    },
    {
      "cell_type": "code",
      "metadata": {
        "colab": {
          "base_uri": "https://localhost:8080/"
        },
        "id": "ojT8SqJXcFbg",
        "outputId": "149d3dcf-ad66-4702-ee38-e1b185db567a"
      },
      "source": [
        "data = next(iter(train_data_loader))\n",
        "data.keys()"
      ],
      "execution_count": null,
      "outputs": [
        {
          "output_type": "execute_result",
          "data": {
            "text/plain": [
              "dict_keys(['tweet_text', 'input_ids', 'attention_mask', 'targets'])"
            ]
          },
          "metadata": {
            "tags": []
          },
          "execution_count": 102
        }
      ]
    },
    {
      "cell_type": "code",
      "metadata": {
        "colab": {
          "base_uri": "https://localhost:8080/"
        },
        "id": "nZTyFeqIcFbg",
        "outputId": "3ddb6153-5804-46c6-cedd-6c2e4078f0af"
      },
      "source": [
        "data = next(iter(val_data_loader))\n",
        "data.keys()"
      ],
      "execution_count": null,
      "outputs": [
        {
          "output_type": "execute_result",
          "data": {
            "text/plain": [
              "dict_keys(['tweet_text', 'input_ids', 'attention_mask', 'targets'])"
            ]
          },
          "metadata": {
            "tags": []
          },
          "execution_count": 103
        }
      ]
    },
    {
      "cell_type": "code",
      "metadata": {
        "id": "AYaEVQRCcFbg"
      },
      "source": [
        "n_classes = 3\n",
        "class_names = ['postive', 'negative', 'neutral']"
      ],
      "execution_count": null,
      "outputs": []
    },
    {
      "cell_type": "code",
      "metadata": {
        "colab": {
          "base_uri": "https://localhost:8080/"
        },
        "id": "O7rC0dYkcFbh",
        "outputId": "a21b531c-2adb-4847-c8c3-9739585c6993"
      },
      "source": [
        "input_ids = data['input_ids'].to(device)\n",
        "attention_mask = data['attention_mask'].to(device)\n",
        "\n",
        "print(input_ids.shape) # batch size x seq length\n",
        "print(attention_mask.shape) # batch size x seq length"
      ],
      "execution_count": null,
      "outputs": [
        {
          "output_type": "stream",
          "text": [
            "torch.Size([32, 71])\n",
            "torch.Size([32, 71])\n"
          ],
          "name": "stdout"
        }
      ]
    },
    {
      "cell_type": "code",
      "metadata": {
        "id": "lgCgLAfdcFbh"
      },
      "source": [
        "model = SentimentClassifier(n_classes)\n",
        "model = model.to(device)"
      ],
      "execution_count": null,
      "outputs": []
    },
    {
      "cell_type": "code",
      "metadata": {
        "id": "27_bUYAwcFbh"
      },
      "source": [
        "EPOCHS = 30\n",
        "\n",
        "optimizer = optim.AdamW(model.parameters(), lr=1e-5)\n",
        "total_steps = len(train_data_loader) * EPOCHS\n",
        "\n",
        "scheduler = transformers.get_linear_schedule_with_warmup(\n",
        "  optimizer,\n",
        "  num_warmup_steps=0,\n",
        "  num_training_steps=total_steps\n",
        ")\n",
        "\n",
        "loss_fn = nn.CrossEntropyLoss().to(device)"
      ],
      "execution_count": null,
      "outputs": []
    },
    {
      "cell_type": "code",
      "metadata": {
        "colab": {
          "base_uri": "https://localhost:8080/"
        },
        "id": "mJgahtQicFbh",
        "outputId": "78aeac3a-b10f-412d-8d5b-b9aea5bf5185"
      },
      "source": [
        "%%time\n",
        "\n",
        "history = defaultdict(list)\n",
        "best_accuracy = 0\n",
        "early_stop = 0\n",
        "\n",
        "for epoch in range(EPOCHS):\n",
        "\n",
        "  print(f'Epoch {epoch + 1}/{EPOCHS}')\n",
        "  print('-' * 10)\n",
        "\n",
        "  train_acc, train_loss = train_epoch(\n",
        "    model,\n",
        "    train_data_loader,    \n",
        "    loss_fn, \n",
        "    optimizer, \n",
        "    device, \n",
        "    len(df_train)\n",
        "  )\n",
        "\n",
        "  print(f'Train loss {train_loss} accuracy {train_acc}')\n",
        "\n",
        "  val_acc, val_loss = eval_model(\n",
        "    model,\n",
        "    val_data_loader,\n",
        "    loss_fn, \n",
        "    device, \n",
        "    len(df_val)\n",
        "  )\n",
        "\n",
        "  print(f'Val   loss {val_loss} accuracy {val_acc}')\n",
        "  print()\n",
        "\n",
        "  history['train_acc'].append(train_acc)\n",
        "  history['train_loss'].append(train_loss)\n",
        "  history['val_acc'].append(val_acc)\n",
        "  history['val_loss'].append(val_loss)\n",
        "\n",
        "  if val_acc > best_accuracy:\n",
        "    torch.save(model.state_dict(), 'best_model_state.bin')\n",
        "    best_accuracy = val_acc\n",
        "    early_stop = 0\n",
        "  else:\n",
        "      early_stop = early_stop + 1\n",
        "      if early_stop == 5:\n",
        "        break"
      ],
      "execution_count": null,
      "outputs": [
        {
          "output_type": "stream",
          "text": [
            "Epoch 1/30\n",
            "----------\n",
            "Train loss 1.0363396188107932 accuracy 0.48436308161708624\n",
            "Val   loss 0.9765233874320984 accuracy 0.5205479452054794\n",
            "\n",
            "Epoch 2/30\n",
            "----------\n",
            "Train loss 0.8843016951549344 accuracy 0.5999237223493517\n",
            "Val   loss 0.8526095449924469 accuracy 0.6027397260273972\n",
            "\n",
            "Epoch 3/30\n",
            "----------\n",
            "Train loss 0.6752310391606354 accuracy 0.7337909992372236\n",
            "Val   loss 0.8085805803537369 accuracy 0.6301369863013698\n",
            "\n",
            "Epoch 4/30\n",
            "----------\n",
            "Train loss 0.4854252312968417 accuracy 0.8199847444698704\n",
            "Val   loss 0.8220203638076782 accuracy 0.6712328767123288\n",
            "\n",
            "Epoch 5/30\n",
            "----------\n",
            "Train loss 0.338317528548764 accuracy 0.8867276887871854\n",
            "Val   loss 0.8434690743684768 accuracy 0.6678082191780822\n",
            "\n",
            "Epoch 6/30\n",
            "----------\n",
            "Train loss 0.2720213294392679 accuracy 0.9088482074752098\n",
            "Val   loss 0.8524957150220871 accuracy 0.6506849315068493\n",
            "\n",
            "Epoch 7/30\n",
            "----------\n",
            "Train loss 0.1802873897661523 accuracy 0.9450800915331808\n",
            "Val   loss 1.00500745177269 accuracy 0.6541095890410958\n",
            "\n",
            "Epoch 8/30\n",
            "----------\n",
            "Train loss 0.12210348148534937 accuracy 0.9668192219679634\n",
            "Val   loss 0.9785324960947037 accuracy 0.6575342465753424\n",
            "\n",
            "Epoch 9/30\n",
            "----------\n",
            "Train loss 0.07878930858767978 accuracy 0.9816933638443937\n",
            "Val   loss 1.1040115177631378 accuracy 0.6678082191780822\n",
            "\n",
            "CPU times: user 3min 22s, sys: 2min 9s, total: 5min 32s\n",
            "Wall time: 5min 47s\n"
          ],
          "name": "stdout"
        }
      ]
    },
    {
      "cell_type": "code",
      "metadata": {
        "colab": {
          "base_uri": "https://localhost:8080/"
        },
        "id": "9T4i56lOcFbi",
        "outputId": "4ed395d8-7329-4bca-b300-1bb811e5ea83"
      },
      "source": [
        "\n",
        "model.load_state_dict(torch.load('best_model_state.bin'))"
      ],
      "execution_count": null,
      "outputs": [
        {
          "output_type": "execute_result",
          "data": {
            "text/plain": [
              "<All keys matched successfully>"
            ]
          },
          "metadata": {
            "tags": []
          },
          "execution_count": 105
        }
      ]
    },
    {
      "cell_type": "code",
      "metadata": {
        "colab": {
          "base_uri": "https://localhost:8080/",
          "height": 419
        },
        "id": "ewzdXUbDlYh0",
        "outputId": "67e0a935-4e29-47f8-8f0d-2afc3160f1df"
      },
      "source": [
        "df_sem16test"
      ],
      "execution_count": null,
      "outputs": [
        {
          "output_type": "execute_result",
          "data": {
            "text/html": [
              "<div>\n",
              "<style scoped>\n",
              "    .dataframe tbody tr th:only-of-type {\n",
              "        vertical-align: middle;\n",
              "    }\n",
              "\n",
              "    .dataframe tbody tr th {\n",
              "        vertical-align: top;\n",
              "    }\n",
              "\n",
              "    .dataframe thead th {\n",
              "        text-align: right;\n",
              "    }\n",
              "</style>\n",
              "<table border=\"1\" class=\"dataframe\">\n",
              "  <thead>\n",
              "    <tr style=\"text-align: right;\">\n",
              "      <th></th>\n",
              "      <th>ID</th>\n",
              "      <th>Target</th>\n",
              "      <th>Tweet</th>\n",
              "      <th>Stance</th>\n",
              "      <th>target</th>\n",
              "    </tr>\n",
              "  </thead>\n",
              "  <tbody>\n",
              "    <tr>\n",
              "      <th>0</th>\n",
              "      <td>10001</td>\n",
              "      <td>Atheism</td>\n",
              "      <td>He who exalts himself shall      be humbled; a...</td>\n",
              "      <td>AGAINST</td>\n",
              "      <td>0</td>\n",
              "    </tr>\n",
              "    <tr>\n",
              "      <th>1</th>\n",
              "      <td>10002</td>\n",
              "      <td>Atheism</td>\n",
              "      <td>RT @prayerbullets: I remove Nehushtan -previou...</td>\n",
              "      <td>AGAINST</td>\n",
              "      <td>0</td>\n",
              "    </tr>\n",
              "    <tr>\n",
              "      <th>2</th>\n",
              "      <td>10003</td>\n",
              "      <td>Atheism</td>\n",
              "      <td>@Brainman365 @heidtjj @BenjaminLives I have so...</td>\n",
              "      <td>AGAINST</td>\n",
              "      <td>0</td>\n",
              "    </tr>\n",
              "    <tr>\n",
              "      <th>3</th>\n",
              "      <td>10004</td>\n",
              "      <td>Atheism</td>\n",
              "      <td>#God is utterly powerless without Human interv...</td>\n",
              "      <td>AGAINST</td>\n",
              "      <td>0</td>\n",
              "    </tr>\n",
              "    <tr>\n",
              "      <th>4</th>\n",
              "      <td>10005</td>\n",
              "      <td>Atheism</td>\n",
              "      <td>@David_Cameron   Miracles of #Multiculturalism...</td>\n",
              "      <td>AGAINST</td>\n",
              "      <td>0</td>\n",
              "    </tr>\n",
              "    <tr>\n",
              "      <th>...</th>\n",
              "      <td>...</td>\n",
              "      <td>...</td>\n",
              "      <td>...</td>\n",
              "      <td>...</td>\n",
              "      <td>...</td>\n",
              "    </tr>\n",
              "    <tr>\n",
              "      <th>1244</th>\n",
              "      <td>11245</td>\n",
              "      <td>Legalization of Abortion</td>\n",
              "      <td>@MetalheadMonty @tom_six I followed him before...</td>\n",
              "      <td>NONE</td>\n",
              "      <td>1</td>\n",
              "    </tr>\n",
              "    <tr>\n",
              "      <th>1245</th>\n",
              "      <td>11246</td>\n",
              "      <td>Legalization of Abortion</td>\n",
              "      <td>For he who avenges blood remembers, he does no...</td>\n",
              "      <td>AGAINST</td>\n",
              "      <td>0</td>\n",
              "    </tr>\n",
              "    <tr>\n",
              "      <th>1246</th>\n",
              "      <td>11247</td>\n",
              "      <td>Legalization of Abortion</td>\n",
              "      <td>Life is sacred on all levels. Abortion does no...</td>\n",
              "      <td>AGAINST</td>\n",
              "      <td>0</td>\n",
              "    </tr>\n",
              "    <tr>\n",
              "      <th>1247</th>\n",
              "      <td>11248</td>\n",
              "      <td>Legalization of Abortion</td>\n",
              "      <td>@ravensymone U refer to \"WE\" which =\"YOU\" &amp; a ...</td>\n",
              "      <td>AGAINST</td>\n",
              "      <td>0</td>\n",
              "    </tr>\n",
              "    <tr>\n",
              "      <th>1248</th>\n",
              "      <td>11249</td>\n",
              "      <td>Legalization of Abortion</td>\n",
              "      <td>Al Robertson's mom #DuckDynasty  chose life as...</td>\n",
              "      <td>AGAINST</td>\n",
              "      <td>0</td>\n",
              "    </tr>\n",
              "  </tbody>\n",
              "</table>\n",
              "<p>1249 rows × 5 columns</p>\n",
              "</div>"
            ],
            "text/plain": [
              "         ID                    Target  ...   Stance target\n",
              "0     10001                   Atheism  ...  AGAINST      0\n",
              "1     10002                   Atheism  ...  AGAINST      0\n",
              "2     10003                   Atheism  ...  AGAINST      0\n",
              "3     10004                   Atheism  ...  AGAINST      0\n",
              "4     10005                   Atheism  ...  AGAINST      0\n",
              "...     ...                       ...  ...      ...    ...\n",
              "1244  11245  Legalization of Abortion  ...     NONE      1\n",
              "1245  11246  Legalization of Abortion  ...  AGAINST      0\n",
              "1246  11247  Legalization of Abortion  ...  AGAINST      0\n",
              "1247  11248  Legalization of Abortion  ...  AGAINST      0\n",
              "1248  11249  Legalization of Abortion  ...  AGAINST      0\n",
              "\n",
              "[1249 rows x 5 columns]"
            ]
          },
          "metadata": {
            "tags": []
          },
          "execution_count": 106
        }
      ]
    },
    {
      "cell_type": "code",
      "metadata": {
        "id": "prNqoD0pcFbj"
      },
      "source": [
        "test_data_loader = create_data_loader(df_test, tokenizer, MAX_LEN, BATCH_SIZE)"
      ],
      "execution_count": null,
      "outputs": []
    },
    {
      "cell_type": "code",
      "metadata": {
        "colab": {
          "base_uri": "https://localhost:8080/"
        },
        "id": "sCL9Cti2cFbj",
        "outputId": "c12549fb-884b-4b0e-aa3c-aec0d9656a6c"
      },
      "source": [
        "test_acc, _ = eval_model(\n",
        "  model,\n",
        "  test_data_loader,\n",
        "  loss_fn,\n",
        "  device,\n",
        "  len(df_test)\n",
        ")\n",
        "\n",
        "test_acc.item()"
      ],
      "execution_count": null,
      "outputs": [
        {
          "output_type": "execute_result",
          "data": {
            "text/plain": [
              "0.6901521216973578"
            ]
          },
          "metadata": {
            "tags": []
          },
          "execution_count": 108
        }
      ]
    },
    {
      "cell_type": "code",
      "metadata": {
        "id": "q9rhVXhIcFbk"
      },
      "source": [
        "y_tweet_texts, y_pred, y_pred_probs, y_test = get_predictions(\n",
        "  model,\n",
        "  test_data_loader\n",
        ")"
      ],
      "execution_count": null,
      "outputs": []
    },
    {
      "cell_type": "code",
      "metadata": {
        "colab": {
          "base_uri": "https://localhost:8080/"
        },
        "id": "wZAu6f9ScFbk",
        "outputId": "ea9d0b67-db76-4aea-ede2-118f1f5ab6f2"
      },
      "source": [
        "print(classification_report(y_test, y_pred, target_names=class_names))"
      ],
      "execution_count": null,
      "outputs": [
        {
          "output_type": "stream",
          "text": [
            "              precision    recall  f1-score   support\n",
            "\n",
            "     postive       0.78      0.75      0.76       715\n",
            "    negative       0.54      0.63      0.58       230\n",
            "     neutral       0.63      0.60      0.61       304\n",
            "\n",
            "    accuracy                           0.69      1249\n",
            "   macro avg       0.65      0.66      0.65      1249\n",
            "weighted avg       0.70      0.69      0.69      1249\n",
            "\n"
          ],
          "name": "stdout"
        }
      ]
    },
    {
      "cell_type": "code",
      "metadata": {
        "colab": {
          "base_uri": "https://localhost:8080/",
          "height": 300
        },
        "id": "nJFoLPA5cFbl",
        "outputId": "1cb11bf7-ea96-4810-ab4c-942329bfa9be"
      },
      "source": [
        "cm = confusion_matrix(y_test, y_pred)\n",
        "df_cm = pd.DataFrame(cm, index=class_names, columns=class_names)\n",
        "show_confusion_matrix(df_cm)"
      ],
      "execution_count": null,
      "outputs": [
        {
          "output_type": "display_data",
          "data": {
            "image/png": "[encoded data removed]",
            "text/plain": [
              "<Figure size 432x288 with 2 Axes>"
            ]
          },
          "metadata": {
            "tags": []
          }
        }
      ]
    },
    {
      "cell_type": "code",
      "metadata": {
        "colab": {
          "base_uri": "https://localhost:8080/"
        },
        "id": "ytom0TKbcFbl",
        "outputId": "47439fe0-8ac4-4c28-8669-47fa9129d5ed"
      },
      "source": [
        "accuracy_score(y_test, y_pred)"
      ],
      "execution_count": null,
      "outputs": [
        {
          "output_type": "execute_result",
          "data": {
            "text/plain": [
              "0.6901521216973578"
            ]
          },
          "metadata": {
            "tags": []
          },
          "execution_count": 112
        }
      ]
    },
    {
      "cell_type": "code",
      "metadata": {
        "colab": {
          "base_uri": "https://localhost:8080/"
        },
        "id": "6H5mcxkqcFbl",
        "outputId": "381e0bed-8c83-419e-9bd9-3af3df663b87"
      },
      "source": [
        "f1_score(y_test, y_pred, average='weighted')"
      ],
      "execution_count": null,
      "outputs": [
        {
          "output_type": "execute_result",
          "data": {
            "text/plain": [
              "0.6921348838371798"
            ]
          },
          "metadata": {
            "tags": []
          },
          "execution_count": 113
        }
      ]
    },
    {
      "cell_type": "code",
      "metadata": {
        "id": "nDzdPWOW45b2"
      },
      "source": [
        "writeResultsInFile(accuracy_score(y_test, y_pred), f1_score(y_test, y_pred, average='weighted'), random_seed=RANDOM_SEED)"
      ],
      "execution_count": null,
      "outputs": []
    },
    {
      "cell_type": "markdown",
      "metadata": {
        "id": "vU6ClVE8VH-v"
      },
      "source": [
        "# SemEval2020Task9"
      ]
    },
    {
      "cell_type": "code",
      "metadata": {
        "colab": {
          "base_uri": "https://localhost:8080/"
        },
        "id": "-4LeJwJuVNPZ",
        "outputId": "87a93ebe-2cba-4e39-e09d-6cd526249f65"
      },
      "source": [
        "%cd \"/content/drive/MyDrive/TER BERTTweet/SemEval2020Task9\""
      ],
      "execution_count": null,
      "outputs": [
        {
          "output_type": "stream",
          "text": [
            "/content/drive/.shortcut-targets-by-id/17CE24Rj2KkFXfKV0IKGKdgQ9DW8PLJeH/TER BERTTweet/SemEval2020Task9\n"
          ],
          "name": "stdout"
        }
      ]
    },
    {
      "cell_type": "code",
      "metadata": {
        "colab": {
          "base_uri": "https://localhost:8080/"
        },
        "id": "S-zOrtnDVmNP",
        "outputId": "1698affc-f019-4a16-dc5e-e5f6a0f6a03a"
      },
      "source": [
        "!ls"
      ],
      "execution_count": null,
      "outputs": [
        {
          "output_type": "stream",
          "text": [
            "best_model_state.bin\t\t\t Roberta_best_model_state.bin\n",
            "dev_3k_split_conll.txt\t\t\t Spanglish\n",
            "FinalTest.tsv.txt\t\t\t test_labels_hinglish.txt\n",
            "Hindi_test_unalbelled_conll_updated.txt  train_14k_split_conll.txt\n",
            "Hinglish\t\t\t\t TrainV1.tsv.txt\n",
            "log\t\t\t\t\t Ty.txt\n",
            "log_roberta\t\t\t\t ValidationV1.tsv.txt\n"
          ],
          "name": "stdout"
        }
      ]
    },
    {
      "cell_type": "code",
      "metadata": {
        "id": "4Z4YfSodVMAu"
      },
      "source": [
        " df_train = pd.read_csv(\"TrainV1.tsv.txt\", sep=\"\\t\", header=None,  names=['id', 'body', 'target'])\n",
        "df_val = pd.read_csv(\"ValidationV1.tsv.txt\", sep=\"\\t\", header=None,  names=['id', 'body', 'target'])\n",
        "df_test = pd.read_csv(\"FinalTest.tsv.txt\", sep=\"\\t\", header=None,  names=['id', 'body'])\n",
        "df_ytest = pd.read_csv(\"test_labels_hinglish.txt\", sep=\",\", header=0, names=['id', 'sentiment'])"
      ],
      "execution_count": null,
      "outputs": []
    },
    {
      "cell_type": "code",
      "metadata": {
        "id": "1CEUx-DMWZHB"
      },
      "source": [
        "df_train = df_val.append(df_train)"
      ],
      "execution_count": null,
      "outputs": []
    },
    {
      "cell_type": "code",
      "metadata": {
        "id": "3f-ngVOvZzjO"
      },
      "source": [
        "df_test = df_test.merge(df_ytest)"
      ],
      "execution_count": null,
      "outputs": []
    },
    {
      "cell_type": "code",
      "metadata": {
        "id": "umQ8-NGCfhoe"
      },
      "source": [
        "df_train, df_val = train_test_split(df_train, test_size=0.1, random_state=RANDOM_SEED)"
      ],
      "execution_count": null,
      "outputs": []
    },
    {
      "cell_type": "code",
      "metadata": {
        "id": "42cep52jfhop"
      },
      "source": [
        "df_train = df_train.dropna()"
      ],
      "execution_count": null,
      "outputs": []
    },
    {
      "cell_type": "code",
      "metadata": {
        "colab": {
          "base_uri": "https://localhost:8080/"
        },
        "id": "E76v_xOqgVBP",
        "outputId": "81312068-4da2-43cd-caf6-5fcac3f4f2f6"
      },
      "source": [
        "df_train['target'].unique()"
      ],
      "execution_count": null,
      "outputs": [
        {
          "output_type": "execute_result",
          "data": {
            "text/plain": [
              "array([1, 0, 2])"
            ]
          },
          "metadata": {
            "tags": []
          },
          "execution_count": 30
        }
      ]
    },
    {
      "cell_type": "code",
      "metadata": {
        "colab": {
          "base_uri": "https://localhost:8080/"
        },
        "id": "Xz5dTa9wfhoq",
        "outputId": "31f4ce75-6a2f-4d12-ecc9-e7d105abac7a"
      },
      "source": [
        "token_lens = []\n",
        "for txt in df_train.body:\n",
        "  tokens = tokenizer.encode(txt, max_length=128)\n",
        "  token_lens.append(len(tokens))"
      ],
      "execution_count": null,
      "outputs": [
        {
          "output_type": "stream",
          "text": [
            "Truncation was not explicitly activated but `max_length` is provided a specific value, please use `truncation=True` to explicitly truncate examples to max length. Defaulting to 'longest_first' truncation strategy. If you encode pairs of sequences (GLUE-style) with the tokenizer you can select this strategy more precisely by providing a specific strategy to `truncation`.\n"
          ],
          "name": "stderr"
        }
      ]
    },
    {
      "cell_type": "code",
      "metadata": {
        "colab": {
          "base_uri": "https://localhost:8080/",
          "height": 279
        },
        "id": "t69wdR2Afhor",
        "outputId": "134e14ff-1993-42de-c262-dc2850f781ab"
      },
      "source": [
        "sns.histplot(token_lens)\n",
        "plt.xlim([0, 128]);\n",
        "plt.xlabel('Token count');"
      ],
      "execution_count": null,
      "outputs": [
        {
          "output_type": "display_data",
          "data": {
            "image/png": "[encoded data removed]",
            "text/plain": [
              "<Figure size 432x288 with 1 Axes>"
            ]
          },
          "metadata": {
            "tags": []
          }
        }
      ]
    },
    {
      "cell_type": "code",
      "metadata": {
        "id": "7gH4PFSkfhos"
      },
      "source": [
        "MAX_LEN = np.max(token_lens)\n",
        "BATCH_SIZE = 32"
      ],
      "execution_count": null,
      "outputs": []
    },
    {
      "cell_type": "code",
      "metadata": {
        "id": "5xP9TRKsfhos"
      },
      "source": [
        "train_data_loader = create_data_loader(df_train, tokenizer, MAX_LEN, BATCH_SIZE)\n",
        "val_data_loader = create_data_loader(df_val, tokenizer, MAX_LEN, BATCH_SIZE)"
      ],
      "execution_count": null,
      "outputs": []
    },
    {
      "cell_type": "code",
      "metadata": {
        "colab": {
          "base_uri": "https://localhost:8080/"
        },
        "id": "zaggEZ5lfhot",
        "outputId": "f979e153-4195-412f-a17c-2b4ac0be3839"
      },
      "source": [
        "data = next(iter(train_data_loader))\n",
        "data.keys()"
      ],
      "execution_count": null,
      "outputs": [
        {
          "output_type": "execute_result",
          "data": {
            "text/plain": [
              "dict_keys(['tweet_text', 'input_ids', 'attention_mask', 'targets'])"
            ]
          },
          "metadata": {
            "tags": []
          },
          "execution_count": 35
        }
      ]
    },
    {
      "cell_type": "code",
      "metadata": {
        "colab": {
          "base_uri": "https://localhost:8080/"
        },
        "id": "14IHQIHqfhot",
        "outputId": "a61ad07b-be7f-4b31-9395-0800c5f6b2c6"
      },
      "source": [
        "data = next(iter(val_data_loader))\n",
        "data.keys()"
      ],
      "execution_count": null,
      "outputs": [
        {
          "output_type": "execute_result",
          "data": {
            "text/plain": [
              "dict_keys(['tweet_text', 'input_ids', 'attention_mask', 'targets'])"
            ]
          },
          "metadata": {
            "tags": []
          },
          "execution_count": 36
        }
      ]
    },
    {
      "cell_type": "code",
      "metadata": {
        "id": "emII8MJmfhou"
      },
      "source": [
        "n_classes = 3\n",
        "class_names = ['postive', 'neutral', 'negative']"
      ],
      "execution_count": null,
      "outputs": []
    },
    {
      "cell_type": "code",
      "metadata": {
        "colab": {
          "base_uri": "https://localhost:8080/"
        },
        "id": "4uXy4ATQfhou",
        "outputId": "912c454c-c452-46ab-92f3-2dda6defc801"
      },
      "source": [
        "input_ids = data['input_ids'].to(device)\n",
        "attention_mask = data['attention_mask'].to(device)\n",
        "\n",
        "print(input_ids.shape) # batch size x seq length\n",
        "print(attention_mask.shape) # batch size x seq length"
      ],
      "execution_count": null,
      "outputs": [
        {
          "output_type": "stream",
          "text": [
            "torch.Size([32, 128])\n",
            "torch.Size([32, 128])\n"
          ],
          "name": "stdout"
        }
      ]
    },
    {
      "cell_type": "code",
      "metadata": {
        "id": "q-zXMZtLfhou"
      },
      "source": [
        "model = SentimentClassifier(n_classes)\n",
        "model = model.to(device)"
      ],
      "execution_count": null,
      "outputs": []
    },
    {
      "cell_type": "code",
      "metadata": {
        "id": "AigjdkUCfhou"
      },
      "source": [
        "EPOCHS = 30\n",
        "\n",
        "optimizer = optim.AdamW(model.parameters(), lr=1e-5)\n",
        "total_steps = len(train_data_loader) * EPOCHS\n",
        "\n",
        "scheduler = transformers.get_linear_schedule_with_warmup(\n",
        "  optimizer,\n",
        "  num_warmup_steps=0,\n",
        "  num_training_steps=total_steps\n",
        ")\n",
        "\n",
        "loss_fn = nn.CrossEntropyLoss().to(device)"
      ],
      "execution_count": null,
      "outputs": []
    },
    {
      "cell_type": "code",
      "metadata": {
        "colab": {
          "base_uri": "https://localhost:8080/",
          "height": 1000
        },
        "id": "eh-OWqulfhov",
        "outputId": "6f6bfcae-c303-4bd7-ce91-f9f4123fc293"
      },
      "source": [
        "%%time\n",
        "\n",
        "history = defaultdict(list)\n",
        "best_accuracy = 0\n",
        "early_stop = 0\n",
        "\n",
        "for epoch in range(EPOCHS):\n",
        "\n",
        "  print(f'Epoch {epoch + 1}/{EPOCHS}')\n",
        "  print('-' * 10)\n",
        "\n",
        "  train_acc, train_loss = train_epoch(\n",
        "    model,\n",
        "    train_data_loader,    \n",
        "    loss_fn, \n",
        "    optimizer, \n",
        "    device, \n",
        "    len(df_train)\n",
        "  )\n",
        "\n",
        "  print(f'Train loss {train_loss} accuracy {train_acc}')\n",
        "\n",
        "  val_acc, val_loss = eval_model(\n",
        "    model,\n",
        "    val_data_loader,\n",
        "    loss_fn, \n",
        "    device, \n",
        "    len(df_val)\n",
        "  )\n",
        "\n",
        "  print(f'Val   loss {val_loss} accuracy {val_acc}')\n",
        "  print()\n",
        "\n",
        "  history['train_acc'].append(train_acc)\n",
        "  history['train_loss'].append(train_loss)\n",
        "  history['val_acc'].append(val_acc)\n",
        "  history['val_loss'].append(val_loss)\n",
        "\n",
        "  if val_acc > best_accuracy:\n",
        "    torch.save(model.state_dict(), 'best_model_state.bin')\n",
        "    best_accuracy = val_acc\n",
        "    early_stop = 0\n",
        "  else:\n",
        "      early_stop = early_stop + 1\n",
        "      if early_stop == 5:\n",
        "        break"
      ],
      "execution_count": null,
      "outputs": [
        {
          "output_type": "stream",
          "text": [
            "Epoch 1/30\n",
            "----------\n",
            "Train loss 0.9231095265860509 accuracy 0.5401986210386488\n",
            "Val   loss 0.9059449856931513 accuracy 0.5863636363636363\n",
            "\n",
            "Epoch 2/30\n",
            "----------\n",
            "Train loss 0.7751603605169238 accuracy 0.6448858245303308\n",
            "Val   loss 0.8739763162352822 accuracy 0.6130681818181818\n",
            "\n",
            "Epoch 3/30\n",
            "----------\n",
            "Train loss 0.6672345910710518 accuracy 0.7141501676260358\n",
            "Val   loss 0.9288547819310968 accuracy 0.6232954545454545\n",
            "\n",
            "Epoch 4/30\n",
            "----------\n",
            "Train loss 0.5506914023460463 accuracy 0.7789233980643936\n",
            "Val   loss 1.0126571124250239 accuracy 0.6318181818181818\n",
            "\n",
            "Epoch 5/30\n",
            "----------\n",
            "Train loss 0.4455909148724091 accuracy 0.8269340249225124\n",
            "Val   loss 1.005760955810547 accuracy 0.6505681818181818\n",
            "\n",
            "Epoch 6/30\n",
            "----------\n",
            "Train loss 0.3732110239245524 accuracy 0.8595736605730913\n",
            "Val   loss 1.0604927854104476 accuracy 0.6670454545454545\n",
            "\n",
            "Epoch 7/30\n",
            "----------\n",
            "Train loss 0.3072069619189609 accuracy 0.8878486937820228\n",
            "Val   loss 1.0818747011097996 accuracy 0.6749999999999999\n",
            "\n",
            "Epoch 8/30\n",
            "----------\n",
            "Train loss 0.2696618208642861 accuracy 0.9020810930482636\n",
            "Val   loss 1.2122431722554294 accuracy 0.6659090909090909\n",
            "\n",
            "Epoch 9/30\n",
            "----------\n",
            "Train loss 0.22153423191471533 accuracy 0.9216901764817509\n",
            "Val   loss 1.2492689577015963 accuracy 0.6749999999999999\n",
            "\n",
            "Epoch 10/30\n",
            "----------\n",
            "Train loss 0.18669680805519373 accuracy 0.9360490859636915\n",
            "Val   loss 1.3630812254819002 accuracy 0.6613636363636364\n",
            "\n",
            "Epoch 11/30\n",
            "----------\n"
          ],
          "name": "stdout"
        },
        {
          "output_type": "error",
          "ename": "KeyboardInterrupt",
          "evalue": "ignored",
          "traceback": [
            "\u001b[0;31m---------------------------------------------------------------------------\u001b[0m",
            "\u001b[0;31mKeyboardInterrupt\u001b[0m                         Traceback (most recent call last)",
            "\u001b[0;32m<ipython-input-41-69cec28fc7b0>\u001b[0m in \u001b[0;36m<module>\u001b[0;34m()\u001b[0m\n\u001b[0;32m----> 1\u001b[0;31m \u001b[0mget_ipython\u001b[0m\u001b[0;34m(\u001b[0m\u001b[0;34m)\u001b[0m\u001b[0;34m.\u001b[0m\u001b[0mrun_cell_magic\u001b[0m\u001b[0;34m(\u001b[0m\u001b[0;34m'time'\u001b[0m\u001b[0;34m,\u001b[0m \u001b[0;34m''\u001b[0m\u001b[0;34m,\u001b[0m \u001b[0;34m\"\\nhistory = defaultdict(list)\\nbest_accuracy = 0\\nearly_stop = 0\\n\\nfor epoch in range(EPOCHS):\\n\\n  print(f'Epoch {epoch + 1}/{EPOCHS}')\\n  print('-' * 10)\\n\\n  train_acc, train_loss = train_epoch(\\n    model,\\n    train_data_loader,    \\n    loss_fn, \\n    optimizer, \\n    device, \\n    len(df_train)\\n  )\\n\\n  print(f'Train loss {train_loss} accuracy {train_acc}')\\n\\n  val_acc, val_loss = eval_model(\\n    model,\\n    val_data_loader,\\n    loss_fn, \\n    device, \\n    len(df_val)\\n  )\\n\\n  print(f'Val   loss {val_loss} accuracy {val_acc}')\\n  print()\\n\\n  history['train_acc'].append(train_acc)\\n  history['train_loss'].append(train_loss)\\n  history['val_acc'].append(val_acc)\\n  history['val_loss'].append(val_loss)\\n\\n  if val_acc > best_accuracy:\\n    torch.save(model.state_dict(), 'best_model_state.bin')\\n    best_accuracy = val_acc\\n    early_stop = 0\\n  else:\\n      early_stop = early_stop + 1\\n      if early_stop == 5:\\n        break\"\u001b[0m\u001b[0;34m)\u001b[0m\u001b[0;34m\u001b[0m\u001b[0;34m\u001b[0m\u001b[0m\n\u001b[0m",
            "\u001b[0;32m/usr/local/lib/python3.6/dist-packages/IPython/core/interactiveshell.py\u001b[0m in \u001b[0;36mrun_cell_magic\u001b[0;34m(self, magic_name, line, cell)\u001b[0m\n\u001b[1;32m   2115\u001b[0m             \u001b[0mmagic_arg_s\u001b[0m \u001b[0;34m=\u001b[0m \u001b[0mself\u001b[0m\u001b[0;34m.\u001b[0m\u001b[0mvar_expand\u001b[0m\u001b[0;34m(\u001b[0m\u001b[0mline\u001b[0m\u001b[0;34m,\u001b[0m \u001b[0mstack_depth\u001b[0m\u001b[0;34m)\u001b[0m\u001b[0;34m\u001b[0m\u001b[0;34m\u001b[0m\u001b[0m\n\u001b[1;32m   2116\u001b[0m             \u001b[0;32mwith\u001b[0m \u001b[0mself\u001b[0m\u001b[0;34m.\u001b[0m\u001b[0mbuiltin_trap\u001b[0m\u001b[0;34m:\u001b[0m\u001b[0;34m\u001b[0m\u001b[0;34m\u001b[0m\u001b[0m\n\u001b[0;32m-> 2117\u001b[0;31m                 \u001b[0mresult\u001b[0m \u001b[0;34m=\u001b[0m \u001b[0mfn\u001b[0m\u001b[0;34m(\u001b[0m\u001b[0mmagic_arg_s\u001b[0m\u001b[0;34m,\u001b[0m \u001b[0mcell\u001b[0m\u001b[0;34m)\u001b[0m\u001b[0;34m\u001b[0m\u001b[0;34m\u001b[0m\u001b[0m\n\u001b[0m\u001b[1;32m   2118\u001b[0m             \u001b[0;32mreturn\u001b[0m \u001b[0mresult\u001b[0m\u001b[0;34m\u001b[0m\u001b[0;34m\u001b[0m\u001b[0m\n\u001b[1;32m   2119\u001b[0m \u001b[0;34m\u001b[0m\u001b[0m\n",
            "\u001b[0;32m<decorator-gen-60>\u001b[0m in \u001b[0;36mtime\u001b[0;34m(self, line, cell, local_ns)\u001b[0m\n",
            "\u001b[0;32m/usr/local/lib/python3.6/dist-packages/IPython/core/magic.py\u001b[0m in \u001b[0;36m<lambda>\u001b[0;34m(f, *a, **k)\u001b[0m\n\u001b[1;32m    186\u001b[0m     \u001b[0;31m# but it's overkill for just that one bit of state.\u001b[0m\u001b[0;34m\u001b[0m\u001b[0;34m\u001b[0m\u001b[0;34m\u001b[0m\u001b[0m\n\u001b[1;32m    187\u001b[0m     \u001b[0;32mdef\u001b[0m \u001b[0mmagic_deco\u001b[0m\u001b[0;34m(\u001b[0m\u001b[0marg\u001b[0m\u001b[0;34m)\u001b[0m\u001b[0;34m:\u001b[0m\u001b[0;34m\u001b[0m\u001b[0;34m\u001b[0m\u001b[0m\n\u001b[0;32m--> 188\u001b[0;31m         \u001b[0mcall\u001b[0m \u001b[0;34m=\u001b[0m \u001b[0;32mlambda\u001b[0m \u001b[0mf\u001b[0m\u001b[0;34m,\u001b[0m \u001b[0;34m*\u001b[0m\u001b[0ma\u001b[0m\u001b[0;34m,\u001b[0m \u001b[0;34m**\u001b[0m\u001b[0mk\u001b[0m\u001b[0;34m:\u001b[0m \u001b[0mf\u001b[0m\u001b[0;34m(\u001b[0m\u001b[0;34m*\u001b[0m\u001b[0ma\u001b[0m\u001b[0;34m,\u001b[0m \u001b[0;34m**\u001b[0m\u001b[0mk\u001b[0m\u001b[0;34m)\u001b[0m\u001b[0;34m\u001b[0m\u001b[0;34m\u001b[0m\u001b[0m\n\u001b[0m\u001b[1;32m    189\u001b[0m \u001b[0;34m\u001b[0m\u001b[0m\n\u001b[1;32m    190\u001b[0m         \u001b[0;32mif\u001b[0m \u001b[0mcallable\u001b[0m\u001b[0;34m(\u001b[0m\u001b[0marg\u001b[0m\u001b[0;34m)\u001b[0m\u001b[0;34m:\u001b[0m\u001b[0;34m\u001b[0m\u001b[0;34m\u001b[0m\u001b[0m\n",
            "\u001b[0;32m/usr/local/lib/python3.6/dist-packages/IPython/core/magics/execution.py\u001b[0m in \u001b[0;36mtime\u001b[0;34m(self, line, cell, local_ns)\u001b[0m\n\u001b[1;32m   1191\u001b[0m         \u001b[0;32melse\u001b[0m\u001b[0;34m:\u001b[0m\u001b[0;34m\u001b[0m\u001b[0;34m\u001b[0m\u001b[0m\n\u001b[1;32m   1192\u001b[0m             \u001b[0mst\u001b[0m \u001b[0;34m=\u001b[0m \u001b[0mclock2\u001b[0m\u001b[0;34m(\u001b[0m\u001b[0;34m)\u001b[0m\u001b[0;34m\u001b[0m\u001b[0;34m\u001b[0m\u001b[0m\n\u001b[0;32m-> 1193\u001b[0;31m             \u001b[0mexec\u001b[0m\u001b[0;34m(\u001b[0m\u001b[0mcode\u001b[0m\u001b[0;34m,\u001b[0m \u001b[0mglob\u001b[0m\u001b[0;34m,\u001b[0m \u001b[0mlocal_ns\u001b[0m\u001b[0;34m)\u001b[0m\u001b[0;34m\u001b[0m\u001b[0;34m\u001b[0m\u001b[0m\n\u001b[0m\u001b[1;32m   1194\u001b[0m             \u001b[0mend\u001b[0m \u001b[0;34m=\u001b[0m \u001b[0mclock2\u001b[0m\u001b[0;34m(\u001b[0m\u001b[0;34m)\u001b[0m\u001b[0;34m\u001b[0m\u001b[0;34m\u001b[0m\u001b[0m\n\u001b[1;32m   1195\u001b[0m             \u001b[0mout\u001b[0m \u001b[0;34m=\u001b[0m \u001b[0;32mNone\u001b[0m\u001b[0;34m\u001b[0m\u001b[0;34m\u001b[0m\u001b[0m\n",
            "\u001b[0;32m<timed exec>\u001b[0m in \u001b[0;36m<module>\u001b[0;34m()\u001b[0m\n",
            "\u001b[0;32m<ipython-input-17-58d835ff3459>\u001b[0m in \u001b[0;36mtrain_epoch\u001b[0;34m(model, data_loader, loss_fn, optimizer, device, n_examples)\u001b[0m\n\u001b[1;32m     21\u001b[0m     \u001b[0mlosses\u001b[0m\u001b[0;34m.\u001b[0m\u001b[0mappend\u001b[0m\u001b[0;34m(\u001b[0m\u001b[0mloss\u001b[0m\u001b[0;34m.\u001b[0m\u001b[0mitem\u001b[0m\u001b[0;34m(\u001b[0m\u001b[0;34m)\u001b[0m\u001b[0;34m)\u001b[0m\u001b[0;34m\u001b[0m\u001b[0;34m\u001b[0m\u001b[0m\n\u001b[1;32m     22\u001b[0m \u001b[0;34m\u001b[0m\u001b[0m\n\u001b[0;32m---> 23\u001b[0;31m     \u001b[0mloss\u001b[0m\u001b[0;34m.\u001b[0m\u001b[0mbackward\u001b[0m\u001b[0;34m(\u001b[0m\u001b[0;34m)\u001b[0m\u001b[0;34m\u001b[0m\u001b[0;34m\u001b[0m\u001b[0m\n\u001b[0m\u001b[1;32m     24\u001b[0m     \u001b[0moptimizer\u001b[0m\u001b[0;34m.\u001b[0m\u001b[0mstep\u001b[0m\u001b[0;34m(\u001b[0m\u001b[0;34m)\u001b[0m\u001b[0;34m\u001b[0m\u001b[0;34m\u001b[0m\u001b[0m\n\u001b[1;32m     25\u001b[0m     \u001b[0moptimizer\u001b[0m\u001b[0;34m.\u001b[0m\u001b[0mzero_grad\u001b[0m\u001b[0;34m(\u001b[0m\u001b[0;34m)\u001b[0m\u001b[0;34m\u001b[0m\u001b[0;34m\u001b[0m\u001b[0m\n",
            "\u001b[0;32m/usr/local/lib/python3.6/dist-packages/torch/tensor.py\u001b[0m in \u001b[0;36mbackward\u001b[0;34m(self, gradient, retain_graph, create_graph)\u001b[0m\n\u001b[1;32m    219\u001b[0m                 \u001b[0mretain_graph\u001b[0m\u001b[0;34m=\u001b[0m\u001b[0mretain_graph\u001b[0m\u001b[0;34m,\u001b[0m\u001b[0;34m\u001b[0m\u001b[0;34m\u001b[0m\u001b[0m\n\u001b[1;32m    220\u001b[0m                 create_graph=create_graph)\n\u001b[0;32m--> 221\u001b[0;31m         \u001b[0mtorch\u001b[0m\u001b[0;34m.\u001b[0m\u001b[0mautograd\u001b[0m\u001b[0;34m.\u001b[0m\u001b[0mbackward\u001b[0m\u001b[0;34m(\u001b[0m\u001b[0mself\u001b[0m\u001b[0;34m,\u001b[0m \u001b[0mgradient\u001b[0m\u001b[0;34m,\u001b[0m \u001b[0mretain_graph\u001b[0m\u001b[0;34m,\u001b[0m \u001b[0mcreate_graph\u001b[0m\u001b[0;34m)\u001b[0m\u001b[0;34m\u001b[0m\u001b[0;34m\u001b[0m\u001b[0m\n\u001b[0m\u001b[1;32m    222\u001b[0m \u001b[0;34m\u001b[0m\u001b[0m\n\u001b[1;32m    223\u001b[0m     \u001b[0;32mdef\u001b[0m \u001b[0mregister_hook\u001b[0m\u001b[0;34m(\u001b[0m\u001b[0mself\u001b[0m\u001b[0;34m,\u001b[0m \u001b[0mhook\u001b[0m\u001b[0;34m)\u001b[0m\u001b[0;34m:\u001b[0m\u001b[0;34m\u001b[0m\u001b[0;34m\u001b[0m\u001b[0m\n",
            "\u001b[0;32m/usr/local/lib/python3.6/dist-packages/torch/autograd/__init__.py\u001b[0m in \u001b[0;36mbackward\u001b[0;34m(tensors, grad_tensors, retain_graph, create_graph, grad_variables)\u001b[0m\n\u001b[1;32m    130\u001b[0m     Variable._execution_engine.run_backward(\n\u001b[1;32m    131\u001b[0m         \u001b[0mtensors\u001b[0m\u001b[0;34m,\u001b[0m \u001b[0mgrad_tensors_\u001b[0m\u001b[0;34m,\u001b[0m \u001b[0mretain_graph\u001b[0m\u001b[0;34m,\u001b[0m \u001b[0mcreate_graph\u001b[0m\u001b[0;34m,\u001b[0m\u001b[0;34m\u001b[0m\u001b[0;34m\u001b[0m\u001b[0m\n\u001b[0;32m--> 132\u001b[0;31m         allow_unreachable=True)  # allow_unreachable flag\n\u001b[0m\u001b[1;32m    133\u001b[0m \u001b[0;34m\u001b[0m\u001b[0m\n\u001b[1;32m    134\u001b[0m \u001b[0;34m\u001b[0m\u001b[0m\n",
            "\u001b[0;31mKeyboardInterrupt\u001b[0m: "
          ]
        }
      ]
    },
    {
      "cell_type": "code",
      "metadata": {
        "colab": {
          "base_uri": "https://localhost:8080/"
        },
        "id": "V2l_xeuDfhov",
        "outputId": "07b32f19-54ea-450c-9eae-efee4363c457"
      },
      "source": [
        "\n",
        "model.load_state_dict(torch.load('best_model_state.bin'))"
      ],
      "execution_count": null,
      "outputs": [
        {
          "output_type": "execute_result",
          "data": {
            "text/plain": [
              "<All keys matched successfully>"
            ]
          },
          "metadata": {
            "tags": []
          },
          "execution_count": 42
        }
      ]
    },
    {
      "cell_type": "code",
      "metadata": {
        "id": "bgrzy8T6hmhe"
      },
      "source": [
        "def sentiment_encode(sentiment):\n",
        "  if sentiment == 'negative':\n",
        "    return 0\n",
        "  elif sentiment == 'neutral':\n",
        "    return 1\n",
        "  else: \n",
        "    return 2"
      ],
      "execution_count": null,
      "outputs": []
    },
    {
      "cell_type": "code",
      "metadata": {
        "id": "YxFAcco5Codp"
      },
      "source": [
        "df_test['target'] = df_test.sentiment.apply(sentiment_encode)"
      ],
      "execution_count": null,
      "outputs": []
    },
    {
      "cell_type": "code",
      "metadata": {
        "id": "SCazdlaUfhov"
      },
      "source": [
        "test_data_loader = create_data_loader(df_test, tokenizer, MAX_LEN, BATCH_SIZE)"
      ],
      "execution_count": null,
      "outputs": []
    },
    {
      "cell_type": "code",
      "metadata": {
        "colab": {
          "base_uri": "https://localhost:8080/"
        },
        "id": "bO6dM84sfhow",
        "outputId": "081e5486-cc60-4fb3-ea02-d337cb4b3710"
      },
      "source": [
        "test_acc, _ = eval_model(\n",
        "  model,\n",
        "  test_data_loader,\n",
        "  loss_fn,\n",
        "  device,\n",
        "  len(df_test)\n",
        ")\n",
        "\n",
        "test_acc.item()"
      ],
      "execution_count": null,
      "outputs": [
        {
          "output_type": "execute_result",
          "data": {
            "text/plain": [
              "0.6403333333333333"
            ]
          },
          "metadata": {
            "tags": []
          },
          "execution_count": 46
        }
      ]
    },
    {
      "cell_type": "code",
      "metadata": {
        "id": "9L8SHFg9fhow"
      },
      "source": [
        "y_tweet_texts, y_pred, y_pred_probs, y_test = get_predictions(\n",
        "  model,\n",
        "  test_data_loader\n",
        ")"
      ],
      "execution_count": null,
      "outputs": []
    },
    {
      "cell_type": "code",
      "metadata": {
        "colab": {
          "base_uri": "https://localhost:8080/"
        },
        "id": "P67_GNK4fhow",
        "outputId": "1cae0b4d-7b92-4125-9840-58963ed840de"
      },
      "source": [
        "print(classification_report(y_test, y_pred, target_names=class_names))"
      ],
      "execution_count": null,
      "outputs": [
        {
          "output_type": "stream",
          "text": [
            "              precision    recall  f1-score   support\n",
            "\n",
            "     postive       0.67      0.66      0.66       900\n",
            "     neutral       0.54      0.60      0.57      1100\n",
            "    negative       0.75      0.66      0.70      1000\n",
            "\n",
            "    accuracy                           0.64      3000\n",
            "   macro avg       0.65      0.64      0.65      3000\n",
            "weighted avg       0.65      0.64      0.64      3000\n",
            "\n"
          ],
          "name": "stdout"
        }
      ]
    },
    {
      "cell_type": "code",
      "metadata": {
        "colab": {
          "base_uri": "https://localhost:8080/",
          "height": 300
        },
        "id": "qfoeiSpifhow",
        "outputId": "af73b99a-8017-4a91-928f-bc76447c8b95"
      },
      "source": [
        "cm = confusion_matrix(y_test, y_pred)\n",
        "df_cm = pd.DataFrame(cm, index=class_names, columns=class_names)\n",
        "show_confusion_matrix(df_cm)"
      ],
      "execution_count": null,
      "outputs": [
        {
          "output_type": "display_data",
          "data": {
            "image/png": "[encoded data removed]",
            "text/plain": [
              "<Figure size 432x288 with 2 Axes>"
            ]
          },
          "metadata": {
            "tags": []
          }
        }
      ]
    },
    {
      "cell_type": "code",
      "metadata": {
        "colab": {
          "base_uri": "https://localhost:8080/"
        },
        "id": "NM_fpcEGfhow",
        "outputId": "5bf88a48-4c69-43bb-b164-f810e74e090f"
      },
      "source": [
        "accuracy_score(y_test, y_pred)"
      ],
      "execution_count": null,
      "outputs": [
        {
          "output_type": "execute_result",
          "data": {
            "text/plain": [
              "0.6403333333333333"
            ]
          },
          "metadata": {
            "tags": []
          },
          "execution_count": 50
        }
      ]
    },
    {
      "cell_type": "code",
      "metadata": {
        "colab": {
          "base_uri": "https://localhost:8080/"
        },
        "id": "iVbLWJ-zfhox",
        "outputId": "6e1c8661-bea4-403b-b04e-05ab52839c20"
      },
      "source": [
        "f1_score(y_test, y_pred, average='weighted')"
      ],
      "execution_count": null,
      "outputs": [
        {
          "output_type": "execute_result",
          "data": {
            "text/plain": [
              "0.6430240853447026"
            ]
          },
          "metadata": {
            "tags": []
          },
          "execution_count": 51
        }
      ]
    },
    {
      "cell_type": "code",
      "metadata": {
        "id": "JOKYDqmqwRda"
      },
      "source": [
        "writeResultsInFile(accuracy_score(y_test, y_pred), f1_score(y_test, y_pred, average='weighted'), random_seed=RANDOM_SEED)"
      ],
      "execution_count": null,
      "outputs": []
    },
    {
      "cell_type": "markdown",
      "metadata": {
        "id": "GyRon-H3ZDpS"
      },
      "source": [
        "# SemEval 2019 task 6\n"
      ]
    },
    {
      "cell_type": "code",
      "metadata": {
        "colab": {
          "base_uri": "https://localhost:8080/"
        },
        "id": "FLQYMo-upPhk",
        "outputId": "0720ab19-e4c0-4ebc-ff47-2e27b2cd11c4"
      },
      "source": [
        "%cd /content/drive/MyDrive/TER BERTTweet/SemEval2019Task6"
      ],
      "execution_count": null,
      "outputs": [
        {
          "output_type": "stream",
          "text": [
            "/content/drive/.shortcut-targets-by-id/17CE24Rj2KkFXfKV0IKGKdgQ9DW8PLJeH/TER BERTTweet/SemEval2019Task6\n"
          ],
          "name": "stdout"
        }
      ]
    },
    {
      "cell_type": "code",
      "metadata": {
        "colab": {
          "base_uri": "https://localhost:8080/"
        },
        "id": "KwT0I2b0ZX3C",
        "outputId": "cb342fd7-8d00-44b3-f158-b086743e74c7"
      },
      "source": [
        "!ls"
      ],
      "execution_count": null,
      "outputs": [
        {
          "output_type": "stream",
          "text": [
            "best_model_state.bin  log_roberta\t\t    testset-levela.tsv\n",
            "labels-levela.csv     olid-annotation.txt\t    testset-levelb.tsv\n",
            "labels-levelb.csv     olid-training-v1.0.tsv\t    testset-levelc.tsv\n",
            "labels-levelc.csv     README.txt\n",
            "log\t\t      Roberta_best_model_state.bin\n"
          ],
          "name": "stdout"
        }
      ]
    },
    {
      "cell_type": "code",
      "metadata": {
        "id": "IAm5EB56ZX3F"
      },
      "source": [
        "df_train = pd.read_csv(\"olid-training-v1.0.tsv\", sep=\"\\t\", header=0,  names=['id', 'body', 'target', 'dropme', 'dropme2'])\n",
        "df_test = pd.read_csv(\"testset-levela.tsv\", sep=\"\\t\", header=0,  names=['id', 'body'])\n",
        "df_ytest = pd.read_csv(\"labels-levela.csv\", sep=\",\", header=0, names=['id', 'sentiment'])"
      ],
      "execution_count": null,
      "outputs": []
    },
    {
      "cell_type": "code",
      "metadata": {
        "id": "9XGtt4dLZX3G"
      },
      "source": [
        "df_test = df_test.merge(df_ytest)"
      ],
      "execution_count": null,
      "outputs": []
    },
    {
      "cell_type": "code",
      "metadata": {
        "colab": {
          "base_uri": "https://localhost:8080/",
          "height": 419
        },
        "id": "YZDtqs1xZX3H",
        "outputId": "ec9d0efd-ef2d-46dc-e9a1-a9d7fc552d2a"
      },
      "source": [
        "df_train"
      ],
      "execution_count": null,
      "outputs": [
        {
          "output_type": "execute_result",
          "data": {
            "text/html": [
              "<div>\n",
              "<style scoped>\n",
              "    .dataframe tbody tr th:only-of-type {\n",
              "        vertical-align: middle;\n",
              "    }\n",
              "\n",
              "    .dataframe tbody tr th {\n",
              "        vertical-align: top;\n",
              "    }\n",
              "\n",
              "    .dataframe thead th {\n",
              "        text-align: right;\n",
              "    }\n",
              "</style>\n",
              "<table border=\"1\" class=\"dataframe\">\n",
              "  <thead>\n",
              "    <tr style=\"text-align: right;\">\n",
              "      <th></th>\n",
              "      <th>id</th>\n",
              "      <th>body</th>\n",
              "      <th>target</th>\n",
              "      <th>dropme</th>\n",
              "      <th>dropme2</th>\n",
              "    </tr>\n",
              "  </thead>\n",
              "  <tbody>\n",
              "    <tr>\n",
              "      <th>0</th>\n",
              "      <td>86426</td>\n",
              "      <td>@USER She should ask a few native Americans wh...</td>\n",
              "      <td>OFF</td>\n",
              "      <td>UNT</td>\n",
              "      <td>NaN</td>\n",
              "    </tr>\n",
              "    <tr>\n",
              "      <th>1</th>\n",
              "      <td>90194</td>\n",
              "      <td>@USER @USER Go home you’re drunk!!! @USER #MAG...</td>\n",
              "      <td>OFF</td>\n",
              "      <td>TIN</td>\n",
              "      <td>IND</td>\n",
              "    </tr>\n",
              "    <tr>\n",
              "      <th>2</th>\n",
              "      <td>16820</td>\n",
              "      <td>Amazon is investigating Chinese employees who ...</td>\n",
              "      <td>NOT</td>\n",
              "      <td>NaN</td>\n",
              "      <td>NaN</td>\n",
              "    </tr>\n",
              "    <tr>\n",
              "      <th>3</th>\n",
              "      <td>62688</td>\n",
              "      <td>@USER Someone should'veTaken\" this piece of sh...</td>\n",
              "      <td>OFF</td>\n",
              "      <td>UNT</td>\n",
              "      <td>NaN</td>\n",
              "    </tr>\n",
              "    <tr>\n",
              "      <th>4</th>\n",
              "      <td>43605</td>\n",
              "      <td>@USER @USER Obama wanted liberals &amp;amp; illega...</td>\n",
              "      <td>NOT</td>\n",
              "      <td>NaN</td>\n",
              "      <td>NaN</td>\n",
              "    </tr>\n",
              "    <tr>\n",
              "      <th>...</th>\n",
              "      <td>...</td>\n",
              "      <td>...</td>\n",
              "      <td>...</td>\n",
              "      <td>...</td>\n",
              "      <td>...</td>\n",
              "    </tr>\n",
              "    <tr>\n",
              "      <th>13235</th>\n",
              "      <td>95338</td>\n",
              "      <td>@USER Sometimes I get strong vibes from people...</td>\n",
              "      <td>OFF</td>\n",
              "      <td>TIN</td>\n",
              "      <td>IND</td>\n",
              "    </tr>\n",
              "    <tr>\n",
              "      <th>13236</th>\n",
              "      <td>67210</td>\n",
              "      <td>Benidorm ✅  Creamfields ✅  Maga ✅   Not too sh...</td>\n",
              "      <td>NOT</td>\n",
              "      <td>NaN</td>\n",
              "      <td>NaN</td>\n",
              "    </tr>\n",
              "    <tr>\n",
              "      <th>13237</th>\n",
              "      <td>82921</td>\n",
              "      <td>@USER And why report this garbage.  We don't g...</td>\n",
              "      <td>OFF</td>\n",
              "      <td>TIN</td>\n",
              "      <td>OTH</td>\n",
              "    </tr>\n",
              "    <tr>\n",
              "      <th>13238</th>\n",
              "      <td>27429</td>\n",
              "      <td>@USER Pussy</td>\n",
              "      <td>OFF</td>\n",
              "      <td>UNT</td>\n",
              "      <td>NaN</td>\n",
              "    </tr>\n",
              "    <tr>\n",
              "      <th>13239</th>\n",
              "      <td>46552</td>\n",
              "      <td>#Spanishrevenge vs. #justice #HumanRights and ...</td>\n",
              "      <td>NOT</td>\n",
              "      <td>NaN</td>\n",
              "      <td>NaN</td>\n",
              "    </tr>\n",
              "  </tbody>\n",
              "</table>\n",
              "<p>13240 rows × 5 columns</p>\n",
              "</div>"
            ],
            "text/plain": [
              "          id                                               body  ... dropme dropme2\n",
              "0      86426  @USER She should ask a few native Americans wh...  ...    UNT     NaN\n",
              "1      90194  @USER @USER Go home you’re drunk!!! @USER #MAG...  ...    TIN     IND\n",
              "2      16820  Amazon is investigating Chinese employees who ...  ...    NaN     NaN\n",
              "3      62688  @USER Someone should'veTaken\" this piece of sh...  ...    UNT     NaN\n",
              "4      43605  @USER @USER Obama wanted liberals &amp; illega...  ...    NaN     NaN\n",
              "...      ...                                                ...  ...    ...     ...\n",
              "13235  95338  @USER Sometimes I get strong vibes from people...  ...    TIN     IND\n",
              "13236  67210  Benidorm ✅  Creamfields ✅  Maga ✅   Not too sh...  ...    NaN     NaN\n",
              "13237  82921  @USER And why report this garbage.  We don't g...  ...    TIN     OTH\n",
              "13238  27429                                        @USER Pussy  ...    UNT     NaN\n",
              "13239  46552  #Spanishrevenge vs. #justice #HumanRights and ...  ...    NaN     NaN\n",
              "\n",
              "[13240 rows x 5 columns]"
            ]
          },
          "metadata": {
            "tags": []
          },
          "execution_count": 65
        }
      ]
    },
    {
      "cell_type": "code",
      "metadata": {
        "colab": {
          "base_uri": "https://localhost:8080/",
          "height": 419
        },
        "id": "Cu8Qel5IcA8j",
        "outputId": "08f4140f-5cfd-405a-a0b4-7abf780574eb"
      },
      "source": [
        "df_test"
      ],
      "execution_count": null,
      "outputs": [
        {
          "output_type": "execute_result",
          "data": {
            "text/html": [
              "<div>\n",
              "<style scoped>\n",
              "    .dataframe tbody tr th:only-of-type {\n",
              "        vertical-align: middle;\n",
              "    }\n",
              "\n",
              "    .dataframe tbody tr th {\n",
              "        vertical-align: top;\n",
              "    }\n",
              "\n",
              "    .dataframe thead th {\n",
              "        text-align: right;\n",
              "    }\n",
              "</style>\n",
              "<table border=\"1\" class=\"dataframe\">\n",
              "  <thead>\n",
              "    <tr style=\"text-align: right;\">\n",
              "      <th></th>\n",
              "      <th>id</th>\n",
              "      <th>body</th>\n",
              "      <th>sentiment</th>\n",
              "    </tr>\n",
              "  </thead>\n",
              "  <tbody>\n",
              "    <tr>\n",
              "      <th>0</th>\n",
              "      <td>27014</td>\n",
              "      <td>#ConstitutionDay is revered by Conservatives, ...</td>\n",
              "      <td>NOT</td>\n",
              "    </tr>\n",
              "    <tr>\n",
              "      <th>1</th>\n",
              "      <td>30530</td>\n",
              "      <td>#FOXNews #NRA #MAGA #POTUS #TRUMP #2ndAmendmen...</td>\n",
              "      <td>NOT</td>\n",
              "    </tr>\n",
              "    <tr>\n",
              "      <th>2</th>\n",
              "      <td>13876</td>\n",
              "      <td>#Watching #Boomer getting the news that she is...</td>\n",
              "      <td>NOT</td>\n",
              "    </tr>\n",
              "    <tr>\n",
              "      <th>3</th>\n",
              "      <td>60133</td>\n",
              "      <td>#NoPasaran: Unity demo to oppose the far-right...</td>\n",
              "      <td>OFF</td>\n",
              "    </tr>\n",
              "    <tr>\n",
              "      <th>4</th>\n",
              "      <td>83681</td>\n",
              "      <td>. . . What the fuck did he do this time?</td>\n",
              "      <td>OFF</td>\n",
              "    </tr>\n",
              "    <tr>\n",
              "      <th>...</th>\n",
              "      <td>...</td>\n",
              "      <td>...</td>\n",
              "      <td>...</td>\n",
              "    </tr>\n",
              "    <tr>\n",
              "      <th>854</th>\n",
              "      <td>73439</td>\n",
              "      <td>#DespicableDems lie again about rifles. Dem Di...</td>\n",
              "      <td>OFF</td>\n",
              "    </tr>\n",
              "    <tr>\n",
              "      <th>855</th>\n",
              "      <td>25657</td>\n",
              "      <td>#MeetTheSpeakers 🙌 @USER will present in our e...</td>\n",
              "      <td>NOT</td>\n",
              "    </tr>\n",
              "    <tr>\n",
              "      <th>856</th>\n",
              "      <td>67018</td>\n",
              "      <td>3 people just unfollowed me for talking about ...</td>\n",
              "      <td>OFF</td>\n",
              "    </tr>\n",
              "    <tr>\n",
              "      <th>857</th>\n",
              "      <td>50665</td>\n",
              "      <td>#WednesdayWisdom Antifa calls the right fascis...</td>\n",
              "      <td>NOT</td>\n",
              "    </tr>\n",
              "    <tr>\n",
              "      <th>858</th>\n",
              "      <td>24583</td>\n",
              "      <td>#Kavanaugh typical #liberals , #Democrats URL</td>\n",
              "      <td>NOT</td>\n",
              "    </tr>\n",
              "  </tbody>\n",
              "</table>\n",
              "<p>859 rows × 3 columns</p>\n",
              "</div>"
            ],
            "text/plain": [
              "        id                                               body sentiment\n",
              "0    27014  #ConstitutionDay is revered by Conservatives, ...       NOT\n",
              "1    30530  #FOXNews #NRA #MAGA #POTUS #TRUMP #2ndAmendmen...       NOT\n",
              "2    13876  #Watching #Boomer getting the news that she is...       NOT\n",
              "3    60133  #NoPasaran: Unity demo to oppose the far-right...       OFF\n",
              "4    83681           . . . What the fuck did he do this time?       OFF\n",
              "..     ...                                                ...       ...\n",
              "854  73439  #DespicableDems lie again about rifles. Dem Di...       OFF\n",
              "855  25657  #MeetTheSpeakers 🙌 @USER will present in our e...       NOT\n",
              "856  67018  3 people just unfollowed me for talking about ...       OFF\n",
              "857  50665  #WednesdayWisdom Antifa calls the right fascis...       NOT\n",
              "858  24583      #Kavanaugh typical #liberals , #Democrats URL       NOT\n",
              "\n",
              "[859 rows x 3 columns]"
            ]
          },
          "metadata": {
            "tags": []
          },
          "execution_count": 66
        }
      ]
    },
    {
      "cell_type": "code",
      "metadata": {
        "colab": {
          "base_uri": "https://localhost:8080/"
        },
        "id": "AMFaH5ysZX3H",
        "outputId": "80a3c69b-fbe5-4b7e-dbba-eb9817e0b7a4"
      },
      "source": [
        "df_train['target'].unique()"
      ],
      "execution_count": null,
      "outputs": [
        {
          "output_type": "execute_result",
          "data": {
            "text/plain": [
              "array(['OFF', 'NOT'], dtype=object)"
            ]
          },
          "metadata": {
            "tags": []
          },
          "execution_count": 67
        }
      ]
    },
    {
      "cell_type": "code",
      "metadata": {
        "id": "F1WQl701byGd"
      },
      "source": [
        "def sentiment_encode(sentiment):\n",
        "  if sentiment == 'OFF':\n",
        "    return 0\n",
        "  elif sentiment == 'NOT':\n",
        "    return 1"
      ],
      "execution_count": null,
      "outputs": []
    },
    {
      "cell_type": "code",
      "metadata": {
        "id": "6xZXLY2EbyGk"
      },
      "source": [
        "df_train['target'] = df_train.target.apply(sentiment_encode)"
      ],
      "execution_count": null,
      "outputs": []
    },
    {
      "cell_type": "code",
      "metadata": {
        "id": "Z-GaUFVoZX3G"
      },
      "source": [
        "df_train, df_val = train_test_split(df_train, test_size=0.1, random_state=RANDOM_SEED)"
      ],
      "execution_count": null,
      "outputs": []
    },
    {
      "cell_type": "code",
      "metadata": {
        "id": "diQaMxbAZX3H"
      },
      "source": [
        "token_lens = []\n",
        "for txt in df_train.body:\n",
        "  tokens = tokenizer.encode(txt, max_length=128)\n",
        "  token_lens.append(len(tokens))"
      ],
      "execution_count": null,
      "outputs": []
    },
    {
      "cell_type": "code",
      "metadata": {
        "colab": {
          "base_uri": "https://localhost:8080/",
          "height": 279
        },
        "id": "h_wZlNV0ZX3H",
        "outputId": "e0738e70-7a11-4021-9c2e-ef710584ccaf"
      },
      "source": [
        "sns.histplot(token_lens)\n",
        "plt.xlim([0, 128]);\n",
        "plt.xlabel('Token count');"
      ],
      "execution_count": null,
      "outputs": [
        {
          "output_type": "display_data",
          "data": {
            "image/png": "[encoded data removed]",
            "text/plain": [
              "<Figure size 432x288 with 1 Axes>"
            ]
          },
          "metadata": {
            "tags": []
          }
        }
      ]
    },
    {
      "cell_type": "code",
      "metadata": {
        "id": "z5l_WAbDZX3I"
      },
      "source": [
        "MAX_LEN = np.max(token_lens)\n",
        "BATCH_SIZE = 32"
      ],
      "execution_count": null,
      "outputs": []
    },
    {
      "cell_type": "code",
      "metadata": {
        "id": "aiTfodDuZX3I"
      },
      "source": [
        "train_data_loader = create_data_loader(df_train, tokenizer, MAX_LEN, BATCH_SIZE)\n",
        "val_data_loader = create_data_loader(df_val, tokenizer, MAX_LEN, BATCH_SIZE)"
      ],
      "execution_count": null,
      "outputs": []
    },
    {
      "cell_type": "code",
      "metadata": {
        "colab": {
          "base_uri": "https://localhost:8080/"
        },
        "id": "xY1Q8yTzZX3I",
        "outputId": "964e7996-d378-4e52-d270-50b4d1eb2f1e"
      },
      "source": [
        "data = next(iter(train_data_loader))\n",
        "data.keys()"
      ],
      "execution_count": null,
      "outputs": [
        {
          "output_type": "execute_result",
          "data": {
            "text/plain": [
              "dict_keys(['tweet_text', 'input_ids', 'attention_mask', 'targets'])"
            ]
          },
          "metadata": {
            "tags": []
          },
          "execution_count": 75
        }
      ]
    },
    {
      "cell_type": "code",
      "metadata": {
        "colab": {
          "base_uri": "https://localhost:8080/"
        },
        "id": "hZ2MWNBhZX3I",
        "outputId": "0df6402c-f05c-49f3-c8ff-f3457d5c5850"
      },
      "source": [
        "data = next(iter(val_data_loader))\n",
        "data.keys()"
      ],
      "execution_count": null,
      "outputs": [
        {
          "output_type": "execute_result",
          "data": {
            "text/plain": [
              "dict_keys(['tweet_text', 'input_ids', 'attention_mask', 'targets'])"
            ]
          },
          "metadata": {
            "tags": []
          },
          "execution_count": 76
        }
      ]
    },
    {
      "cell_type": "code",
      "metadata": {
        "id": "bhVHRCAfZX3J"
      },
      "source": [
        "n_classes = 2\n",
        "class_names = ['offensive', 'not_offensive']"
      ],
      "execution_count": null,
      "outputs": []
    },
    {
      "cell_type": "code",
      "metadata": {
        "colab": {
          "base_uri": "https://localhost:8080/"
        },
        "id": "LzMSszPMZX3J",
        "outputId": "9e112dae-1b55-4f24-fbce-8b59ede1073d"
      },
      "source": [
        "input_ids = data['input_ids'].to(device)\n",
        "attention_mask = data['attention_mask'].to(device)\n",
        "\n",
        "print(input_ids.shape) # batch size x seq length\n",
        "print(attention_mask.shape) # batch size x seq length"
      ],
      "execution_count": null,
      "outputs": [
        {
          "output_type": "stream",
          "text": [
            "torch.Size([32, 128])\n",
            "torch.Size([32, 128])\n"
          ],
          "name": "stdout"
        }
      ]
    },
    {
      "cell_type": "code",
      "metadata": {
        "id": "zj0zGgNBZX3J"
      },
      "source": [
        "model = SentimentClassifier(n_classes)\n",
        "model = model.to(device)"
      ],
      "execution_count": null,
      "outputs": []
    },
    {
      "cell_type": "code",
      "metadata": {
        "id": "fE8smJr1ZX3J"
      },
      "source": [
        "EPOCHS = 30\n",
        "\n",
        "optimizer = optim.AdamW(model.parameters(), lr=1e-5)\n",
        "total_steps = len(train_data_loader) * EPOCHS\n",
        "\n",
        "scheduler = transformers.get_linear_schedule_with_warmup(\n",
        "  optimizer,\n",
        "  num_warmup_steps=0,\n",
        "  num_training_steps=total_steps\n",
        ")\n",
        "\n",
        "loss_fn = nn.CrossEntropyLoss().to(device)"
      ],
      "execution_count": null,
      "outputs": []
    },
    {
      "cell_type": "code",
      "metadata": {
        "colab": {
          "base_uri": "https://localhost:8080/"
        },
        "id": "Xw0sM7ekZX3K",
        "outputId": "42f66e24-b59b-46ef-e663-db0300d3d912"
      },
      "source": [
        "%%time\n",
        "\n",
        "history = defaultdict(list)\n",
        "best_accuracy = 0\n",
        "early_stop = 0\n",
        "\n",
        "for epoch in range(EPOCHS):\n",
        "\n",
        "  print(f'Epoch {epoch + 1}/{EPOCHS}')\n",
        "  print('-' * 10)\n",
        "\n",
        "  train_acc, train_loss = train_epoch(\n",
        "    model,\n",
        "    train_data_loader,    \n",
        "    loss_fn, \n",
        "    optimizer, \n",
        "    device, \n",
        "    len(df_train)\n",
        "  )\n",
        "\n",
        "  print(f'Train loss {train_loss} accuracy {train_acc}')\n",
        "\n",
        "  val_acc, val_loss = eval_model(\n",
        "    model,\n",
        "    val_data_loader,\n",
        "    loss_fn, \n",
        "    device, \n",
        "    len(df_val)\n",
        "  )\n",
        "\n",
        "  print(f'Val   loss {val_loss} accuracy {val_acc}')\n",
        "  print()\n",
        "\n",
        "  history['train_acc'].append(train_acc)\n",
        "  history['train_loss'].append(train_loss)\n",
        "  history['val_acc'].append(val_acc)\n",
        "  history['val_loss'].append(val_loss)\n",
        "\n",
        "  if val_acc > best_accuracy:\n",
        "    torch.save(model.state_dict(), 'best_model_state.bin')\n",
        "    best_accuracy = val_acc\n",
        "    early_stop = 0\n",
        "  else:\n",
        "      early_stop = early_stop + 1\n",
        "      if early_stop == 5:\n",
        "        break"
      ],
      "execution_count": null,
      "outputs": [
        {
          "output_type": "stream",
          "text": [
            "Epoch 1/30\n",
            "----------\n",
            "Train loss 0.4859059655953988 accuracy 0.7682108089963074\n",
            "Val   loss 0.44074404594444094 accuracy 0.7915407854984894\n",
            "\n",
            "Epoch 2/30\n",
            "----------\n",
            "Train loss 0.37671474487228623 accuracy 0.8350956696878147\n",
            "Val   loss 0.4713850961554618 accuracy 0.7930513595166163\n",
            "\n",
            "Epoch 3/30\n",
            "----------\n",
            "Train loss 0.29138062594723124 accuracy 0.8815038603558241\n",
            "Val   loss 0.5423172932295572 accuracy 0.7802114803625377\n",
            "\n",
            "Epoch 4/30\n",
            "----------\n",
            "Train loss 0.20539491202921953 accuracy 0.9228768042967439\n",
            "Val   loss 0.7404387820334661 accuracy 0.7749244712990937\n",
            "\n",
            "Epoch 5/30\n",
            "----------\n",
            "Train loss 0.15756991686394323 accuracy 0.9435213158778113\n",
            "Val   loss 0.7595460024617967 accuracy 0.7802114803625377\n",
            "\n",
            "Epoch 6/30\n",
            "----------\n",
            "Train loss 0.12117123000084075 accuracy 0.957284323598523\n",
            "Val   loss 0.7525060581309455 accuracy 0.7817220543806647\n",
            "\n",
            "Epoch 7/30\n",
            "----------\n",
            "Train loss 0.08831077348815412 accuracy 0.9708794897616649\n",
            "Val   loss 0.8550950643562135 accuracy 0.790785498489426\n",
            "\n",
            "CPU times: user 18min 39s, sys: 13min 18s, total: 31min 58s\n",
            "Wall time: 32min 16s\n"
          ],
          "name": "stdout"
        }
      ]
    },
    {
      "cell_type": "code",
      "metadata": {
        "colab": {
          "base_uri": "https://localhost:8080/"
        },
        "id": "Y3sLIjUhZX3K",
        "outputId": "e5a9fd9b-476b-425f-e375-1e04e8b0b773"
      },
      "source": [
        "\n",
        "model.load_state_dict(torch.load('best_model_state.bin'))"
      ],
      "execution_count": null,
      "outputs": [
        {
          "output_type": "execute_result",
          "data": {
            "text/plain": [
              "<All keys matched successfully>"
            ]
          },
          "metadata": {
            "tags": []
          },
          "execution_count": 82
        }
      ]
    },
    {
      "cell_type": "code",
      "metadata": {
        "id": "00yLxKFpZX3K"
      },
      "source": [
        "df_test['target'] = df_test.sentiment.apply(sentiment_encode)"
      ],
      "execution_count": null,
      "outputs": []
    },
    {
      "cell_type": "code",
      "metadata": {
        "id": "sk0GYy7hZX3K"
      },
      "source": [
        "test_data_loader = create_data_loader(df_test, tokenizer, MAX_LEN, BATCH_SIZE)"
      ],
      "execution_count": null,
      "outputs": []
    },
    {
      "cell_type": "code",
      "metadata": {
        "colab": {
          "base_uri": "https://localhost:8080/"
        },
        "id": "H-qwU5bXZX3L",
        "outputId": "a33e444c-9b30-4871-ce98-2aaf3b56329a"
      },
      "source": [
        "test_acc, _ = eval_model(\n",
        "  model,\n",
        "  test_data_loader,\n",
        "  loss_fn,\n",
        "  device,\n",
        "  len(df_test)\n",
        ")\n",
        "\n",
        "test_acc.item()"
      ],
      "execution_count": null,
      "outputs": [
        {
          "output_type": "execute_result",
          "data": {
            "text/plain": [
              "0.8311990686845169"
            ]
          },
          "metadata": {
            "tags": []
          },
          "execution_count": 85
        }
      ]
    },
    {
      "cell_type": "code",
      "metadata": {
        "id": "20TikgoWZX3L"
      },
      "source": [
        "y_tweet_texts, y_pred, y_pred_probs, y_test = get_predictions(\n",
        "  model,\n",
        "  test_data_loader\n",
        ")"
      ],
      "execution_count": null,
      "outputs": []
    },
    {
      "cell_type": "code",
      "metadata": {
        "colab": {
          "base_uri": "https://localhost:8080/"
        },
        "id": "-8gAO3zaZX3L",
        "outputId": "9c53f9aa-10d1-4330-e1b6-2bf9a009bbbf"
      },
      "source": [
        "print(classification_report(y_test, y_pred, target_names=class_names))"
      ],
      "execution_count": null,
      "outputs": [
        {
          "output_type": "stream",
          "text": [
            "               precision    recall  f1-score   support\n",
            "\n",
            "    offensive       0.69      0.72      0.70       239\n",
            "not_offensive       0.89      0.88      0.88       620\n",
            "\n",
            "     accuracy                           0.83       859\n",
            "    macro avg       0.79      0.80      0.79       859\n",
            " weighted avg       0.83      0.83      0.83       859\n",
            "\n"
          ],
          "name": "stdout"
        }
      ]
    },
    {
      "cell_type": "code",
      "metadata": {
        "colab": {
          "base_uri": "https://localhost:8080/",
          "height": 312
        },
        "id": "51dXCLFiZX3L",
        "outputId": "e2ab0006-56f6-4645-f8ce-b2a389433ebd"
      },
      "source": [
        "cm = confusion_matrix(y_test, y_pred)\n",
        "df_cm = pd.DataFrame(cm, index=class_names, columns=class_names)\n",
        "show_confusion_matrix(df_cm)"
      ],
      "execution_count": null,
      "outputs": [
        {
          "output_type": "display_data",
          "data": {
            "image/png": "[encoded data removed]",
            "text/plain": [
              "<Figure size 432x288 with 2 Axes>"
            ]
          },
          "metadata": {
            "tags": []
          }
        }
      ]
    },
    {
      "cell_type": "code",
      "metadata": {
        "colab": {
          "base_uri": "https://localhost:8080/"
        },
        "id": "41ErFsl9ZX3L",
        "outputId": "353611fd-308e-48f7-e0a7-7fe7b8842bd1"
      },
      "source": [
        "accuracy_score(y_test, y_pred)"
      ],
      "execution_count": null,
      "outputs": [
        {
          "output_type": "execute_result",
          "data": {
            "text/plain": [
              "0.8311990686845169"
            ]
          },
          "metadata": {
            "tags": []
          },
          "execution_count": 89
        }
      ]
    },
    {
      "cell_type": "code",
      "metadata": {
        "colab": {
          "base_uri": "https://localhost:8080/"
        },
        "id": "Ip8OnMdDZX3L",
        "outputId": "841b47e4-fbb5-4cca-e975-6eed8766e0d8"
      },
      "source": [
        "f1_score(y_test, y_pred, average='weighted')"
      ],
      "execution_count": null,
      "outputs": [
        {
          "output_type": "execute_result",
          "data": {
            "text/plain": [
              "0.8321417681776657"
            ]
          },
          "metadata": {
            "tags": []
          },
          "execution_count": 90
        }
      ]
    },
    {
      "cell_type": "code",
      "metadata": {
        "id": "txHo4m6f5KX1"
      },
      "source": [
        "writeResultsInFile(accuracy_score(y_test, y_pred), f1_score(y_test, y_pred, average='weighted'), random_seed=RANDOM_SEED)"
      ],
      "execution_count": null,
      "outputs": []
    },
    {
      "cell_type": "markdown",
      "metadata": {
        "id": "tjpUJbHoAQYU"
      },
      "source": [
        "# SemEval2017\n"
      ]
    },
    {
      "cell_type": "code",
      "metadata": {
        "colab": {
          "base_uri": "https://localhost:8080/"
        },
        "id": "wW24ILrgxQ_V",
        "outputId": "36938b37-e27e-4a88-8b19-dc9b52ee53b3"
      },
      "source": [
        "%cd '/content/drive/My Drive/TER BERTTweet/SemEval-2017Task4A/Subtask_A'"
      ],
      "execution_count": null,
      "outputs": [
        {
          "output_type": "stream",
          "text": [
            "/content/drive/My Drive/TER BERTTweet/SemEval-2017Task4A/Subtask_A\n"
          ],
          "name": "stdout"
        }
      ]
    },
    {
      "cell_type": "code",
      "metadata": {
        "id": "FtldfStxt1Fu"
      },
      "source": [
        "df = pd.read_csv('semEvaltaskA_train.txt', sep = ',')"
      ],
      "execution_count": null,
      "outputs": []
    },
    {
      "cell_type": "code",
      "metadata": {
        "colab": {
          "base_uri": "https://localhost:8080/"
        },
        "id": "5_hhT0hvehAC",
        "outputId": "1e2a3744-df8b-4e27-ea4c-e78f3cba53d1"
      },
      "source": [
        "df_test = pd.DataFrame(columns=['id', 'sentiment', 'body'])\n",
        "import glob\n",
        "try:\n",
        "    for file in glob.glob(\"SemEval2017-task4-test.subtask-A.english.txt\"):\n",
        "        data = pd.DataFrame(columns=['id', 'sentiment', 'body'])\n",
        "        for line_id, line in enumerate(open(file, \"r\", encoding=\"utf-8\").readlines()):\n",
        "            columns = line.rstrip().split('\\t')\n",
        "\n",
        "            tweet_id = columns[0]\n",
        "            sentiment = columns[1]\n",
        "            text = columns[2]\n",
        "            data = data.append({'id': tweet_id, 'sentiment': sentiment, 'body': text}, ignore_index=True) \n",
        "        print(f'{file} ------- {len(data)}')\n",
        "        df_test = df_test.append(data, ignore_index=True)\n",
        "except Exception as e:\n",
        "    print(\"\\nWrong format in line:{} in file:{}\".format(line_id, file))\n",
        "    raise Exception"
      ],
      "execution_count": null,
      "outputs": [
        {
          "output_type": "stream",
          "text": [
            "SemEval2017-task4-test.subtask-A.english.txt ------- 12284\n"
          ],
          "name": "stdout"
        }
      ]
    },
    {
      "cell_type": "code",
      "metadata": {
        "id": "JUL1Tb4quYHK"
      },
      "source": [
        "df_train, df_val = train_test_split(df, test_size=0.1, random_state=RANDOM_SEED)"
      ],
      "execution_count": null,
      "outputs": []
    },
    {
      "cell_type": "code",
      "metadata": {
        "id": "UJH0Q0aDAT-u"
      },
      "source": [
        "def sentiment_encode(sentiment):\n",
        "  if sentiment == 'negative':\n",
        "    return 0\n",
        "  elif sentiment == 'neutral':\n",
        "    return 1\n",
        "  else: \n",
        "    return 2"
      ],
      "execution_count": null,
      "outputs": []
    },
    {
      "cell_type": "code",
      "metadata": {
        "colab": {
          "base_uri": "https://localhost:8080/"
        },
        "id": "iTC1s5lXzotr",
        "outputId": "cece5a40-1c76-46d1-b214-e4bba18f405c"
      },
      "source": [
        "df_train['target'] = df_train.sentiment.apply(sentiment_encode)\n",
        "df_val['target'] = df_val.sentiment.apply(sentiment_encode)\n",
        "df_test['target'] = df_test.sentiment.apply(sentiment_encode)"
      ],
      "execution_count": null,
      "outputs": [
        {
          "output_type": "stream",
          "text": [
            "/usr/local/lib/python3.6/dist-packages/ipykernel_launcher.py:1: SettingWithCopyWarning: \n",
            "A value is trying to be set on a copy of a slice from a DataFrame.\n",
            "Try using .loc[row_indexer,col_indexer] = value instead\n",
            "\n",
            "See the caveats in the documentation: https://pandas.pydata.org/pandas-docs/stable/user_guide/indexing.html#returning-a-view-versus-a-copy\n",
            "  \"\"\"Entry point for launching an IPython kernel.\n",
            "/usr/local/lib/python3.6/dist-packages/ipykernel_launcher.py:2: SettingWithCopyWarning: \n",
            "A value is trying to be set on a copy of a slice from a DataFrame.\n",
            "Try using .loc[row_indexer,col_indexer] = value instead\n",
            "\n",
            "See the caveats in the documentation: https://pandas.pydata.org/pandas-docs/stable/user_guide/indexing.html#returning-a-view-versus-a-copy\n",
            "  \n"
          ],
          "name": "stderr"
        }
      ]
    },
    {
      "cell_type": "code",
      "metadata": {
        "id": "C0doB1UrAT-v"
      },
      "source": [
        "df_test['target'] = df_test.sentiment.apply(sentiment_encode)"
      ],
      "execution_count": null,
      "outputs": []
    },
    {
      "cell_type": "code",
      "metadata": {
        "id": "kt38uw6KAT-v"
      },
      "source": [
        "class_names = ['negative', 'neutral', 'positive']"
      ],
      "execution_count": null,
      "outputs": []
    },
    {
      "cell_type": "code",
      "metadata": {
        "colab": {
          "base_uri": "https://localhost:8080/",
          "height": 204
        },
        "id": "FMv-rR1YvPGm",
        "outputId": "6af0cc88-d1f8-4df3-ba75-7c68e02e4ad2"
      },
      "source": [
        " df_train.head()"
      ],
      "execution_count": null,
      "outputs": [
        {
          "output_type": "execute_result",
          "data": {
            "text/html": [
              "<div>\n",
              "<style scoped>\n",
              "    .dataframe tbody tr th:only-of-type {\n",
              "        vertical-align: middle;\n",
              "    }\n",
              "\n",
              "    .dataframe tbody tr th {\n",
              "        vertical-align: top;\n",
              "    }\n",
              "\n",
              "    .dataframe thead th {\n",
              "        text-align: right;\n",
              "    }\n",
              "</style>\n",
              "<table border=\"1\" class=\"dataframe\">\n",
              "  <thead>\n",
              "    <tr style=\"text-align: right;\">\n",
              "      <th></th>\n",
              "      <th>id</th>\n",
              "      <th>sentiment</th>\n",
              "      <th>body</th>\n",
              "      <th>target</th>\n",
              "    </tr>\n",
              "  </thead>\n",
              "  <tbody>\n",
              "    <tr>\n",
              "      <th>18756</th>\n",
              "      <td>264229908493000704</td>\n",
              "      <td>negative</td>\n",
              "      <td>Morning all! Waking up at 1.30 to gamble may n...</td>\n",
              "      <td>0</td>\n",
              "    </tr>\n",
              "    <tr>\n",
              "      <th>2834</th>\n",
              "      <td>641318732829167616</td>\n",
              "      <td>neutral</td>\n",
              "      <td>Iran deal: Obama may have support he needs to ...</td>\n",
              "      <td>1</td>\n",
              "    </tr>\n",
              "    <tr>\n",
              "      <th>1471</th>\n",
              "      <td>636897294600810496</td>\n",
              "      <td>positive</td>\n",
              "      <td>12 years ago today, this guy asked me to be hi...</td>\n",
              "      <td>2</td>\n",
              "    </tr>\n",
              "    <tr>\n",
              "      <th>44223</th>\n",
              "      <td>640823298532753408</td>\n",
              "      <td>neutral</td>\n",
              "      <td>#SW5 Yoga for Running is on this Thursday 6-8p...</td>\n",
              "      <td>1</td>\n",
              "    </tr>\n",
              "    <tr>\n",
              "      <th>22206</th>\n",
              "      <td>100637319375224832</td>\n",
              "      <td>neutral</td>\n",
              "      <td>He smokes weed RT @TakeF_Light :O RT @ravensbu...</td>\n",
              "      <td>1</td>\n",
              "    </tr>\n",
              "  </tbody>\n",
              "</table>\n",
              "</div>"
            ],
            "text/plain": [
              "                       id  ... target\n",
              "18756  264229908493000704  ...      0\n",
              "2834   641318732829167616  ...      1\n",
              "1471   636897294600810496  ...      2\n",
              "44223  640823298532753408  ...      1\n",
              "22206  100637319375224832  ...      1\n",
              "\n",
              "[5 rows x 4 columns]"
            ]
          },
          "metadata": {
            "tags": []
          },
          "execution_count": 31
        }
      ]
    },
    {
      "cell_type": "code",
      "metadata": {
        "colab": {
          "base_uri": "https://localhost:8080/",
          "height": 204
        },
        "id": "pvcgS5glj9Kt",
        "outputId": "69ee5f44-6841-4bc0-ef1f-a23203323f1b"
      },
      "source": [
        "df_test.head()"
      ],
      "execution_count": null,
      "outputs": [
        {
          "output_type": "execute_result",
          "data": {
            "text/html": [
              "<div>\n",
              "<style scoped>\n",
              "    .dataframe tbody tr th:only-of-type {\n",
              "        vertical-align: middle;\n",
              "    }\n",
              "\n",
              "    .dataframe tbody tr th {\n",
              "        vertical-align: top;\n",
              "    }\n",
              "\n",
              "    .dataframe thead th {\n",
              "        text-align: right;\n",
              "    }\n",
              "</style>\n",
              "<table border=\"1\" class=\"dataframe\">\n",
              "  <thead>\n",
              "    <tr style=\"text-align: right;\">\n",
              "      <th></th>\n",
              "      <th>id</th>\n",
              "      <th>sentiment</th>\n",
              "      <th>body</th>\n",
              "      <th>target</th>\n",
              "    </tr>\n",
              "  </thead>\n",
              "  <tbody>\n",
              "    <tr>\n",
              "      <th>0</th>\n",
              "      <td>801989080477154944</td>\n",
              "      <td>neutral</td>\n",
              "      <td>#ArianaGrande Ari By Ariana Grande 80% Full ht...</td>\n",
              "      <td>1</td>\n",
              "    </tr>\n",
              "    <tr>\n",
              "      <th>1</th>\n",
              "      <td>801989272341453952</td>\n",
              "      <td>positive</td>\n",
              "      <td>Ariana Grande KIIS FM Yours Truly CD listening...</td>\n",
              "      <td>2</td>\n",
              "    </tr>\n",
              "    <tr>\n",
              "      <th>2</th>\n",
              "      <td>801990978424962944</td>\n",
              "      <td>positive</td>\n",
              "      <td>Ariana Grande White House Easter Egg Roll in W...</td>\n",
              "      <td>2</td>\n",
              "    </tr>\n",
              "    <tr>\n",
              "      <th>3</th>\n",
              "      <td>801996232553963008</td>\n",
              "      <td>positive</td>\n",
              "      <td>#CD #Musics Ariana Grande Sweet Like Candy 3.4...</td>\n",
              "      <td>2</td>\n",
              "    </tr>\n",
              "    <tr>\n",
              "      <th>4</th>\n",
              "      <td>801998343442407040</td>\n",
              "      <td>neutral</td>\n",
              "      <td>SIDE TO SIDE 😘 @arianagrande #sidetoside #aria...</td>\n",
              "      <td>1</td>\n",
              "    </tr>\n",
              "  </tbody>\n",
              "</table>\n",
              "</div>"
            ],
            "text/plain": [
              "                   id  ... target\n",
              "0  801989080477154944  ...      1\n",
              "1  801989272341453952  ...      2\n",
              "2  801990978424962944  ...      2\n",
              "3  801996232553963008  ...      2\n",
              "4  801998343442407040  ...      1\n",
              "\n",
              "[5 rows x 4 columns]"
            ]
          },
          "metadata": {
            "tags": []
          },
          "execution_count": 32
        }
      ]
    },
    {
      "cell_type": "code",
      "metadata": {
        "colab": {
          "base_uri": "https://localhost:8080/",
          "height": 204
        },
        "id": "hAeg1fpmrSvq",
        "outputId": "d790a75a-8360-44a6-8010-deb2b1c49eee"
      },
      "source": [
        "df_val.head()"
      ],
      "execution_count": null,
      "outputs": [
        {
          "output_type": "execute_result",
          "data": {
            "text/html": [
              "<div>\n",
              "<style scoped>\n",
              "    .dataframe tbody tr th:only-of-type {\n",
              "        vertical-align: middle;\n",
              "    }\n",
              "\n",
              "    .dataframe tbody tr th {\n",
              "        vertical-align: top;\n",
              "    }\n",
              "\n",
              "    .dataframe thead th {\n",
              "        text-align: right;\n",
              "    }\n",
              "</style>\n",
              "<table border=\"1\" class=\"dataframe\">\n",
              "  <thead>\n",
              "    <tr style=\"text-align: right;\">\n",
              "      <th></th>\n",
              "      <th>id</th>\n",
              "      <th>sentiment</th>\n",
              "      <th>body</th>\n",
              "      <th>target</th>\n",
              "    </tr>\n",
              "  </thead>\n",
              "  <tbody>\n",
              "    <tr>\n",
              "      <th>34832</th>\n",
              "      <td>631296619825119232</td>\n",
              "      <td>positive</td>\n",
              "      <td>@Michael5SOS come see Sam smith with @tragical...</td>\n",
              "      <td>2</td>\n",
              "    </tr>\n",
              "    <tr>\n",
              "      <th>28499</th>\n",
              "      <td>521637026743857152</td>\n",
              "      <td>neutral</td>\n",
              "      <td>\"As he won't be taking part in the #USAGP qual...</td>\n",
              "      <td>1</td>\n",
              "    </tr>\n",
              "    <tr>\n",
              "      <th>256</th>\n",
              "      <td>637719681298731008</td>\n",
              "      <td>neutral</td>\n",
              "      <td>See they should have announced Sting's appeara...</td>\n",
              "      <td>1</td>\n",
              "    </tr>\n",
              "    <tr>\n",
              "      <th>27760</th>\n",
              "      <td>519359389161897984</td>\n",
              "      <td>positive</td>\n",
              "      <td>Alright Godzilla then X-Men then Equalizer. Il...</td>\n",
              "      <td>2</td>\n",
              "    </tr>\n",
              "    <tr>\n",
              "      <th>49281</th>\n",
              "      <td>679307212750200832</td>\n",
              "      <td>negative</td>\n",
              "      <td>Iran Says New U.S. Visa Rule May Violate Nucle...</td>\n",
              "      <td>0</td>\n",
              "    </tr>\n",
              "  </tbody>\n",
              "</table>\n",
              "</div>"
            ],
            "text/plain": [
              "                       id  ... target\n",
              "34832  631296619825119232  ...      2\n",
              "28499  521637026743857152  ...      1\n",
              "256    637719681298731008  ...      1\n",
              "27760  519359389161897984  ...      2\n",
              "49281  679307212750200832  ...      0\n",
              "\n",
              "[5 rows x 4 columns]"
            ]
          },
          "metadata": {
            "tags": []
          },
          "execution_count": 33
        }
      ]
    },
    {
      "cell_type": "code",
      "metadata": {
        "id": "_BlQgvG3lr9U"
      },
      "source": [
        "BATCH_SIZE = 32"
      ],
      "execution_count": null,
      "outputs": []
    },
    {
      "cell_type": "code",
      "metadata": {
        "id": "8xq6SeUWtsd2"
      },
      "source": [
        "MAX_LEN = 104"
      ],
      "execution_count": null,
      "outputs": []
    },
    {
      "cell_type": "code",
      "metadata": {
        "colab": {
          "base_uri": "https://localhost:8080/"
        },
        "id": "FGHujwzuu5_I",
        "outputId": "1eb73c7a-5b84-4dca-fc7d-a823e12a3291"
      },
      "source": [
        "df_train.shape, df_val.shape, df_test.shape"
      ],
      "execution_count": null,
      "outputs": [
        {
          "output_type": "execute_result",
          "data": {
            "text/plain": [
              "((45300, 4), (5034, 4), (12284, 4))"
            ]
          },
          "metadata": {
            "tags": []
          },
          "execution_count": 36
        }
      ]
    },
    {
      "cell_type": "code",
      "metadata": {
        "id": "wlZaFXBqwGcw"
      },
      "source": [
        "train_data_loader = create_data_loader(df_train, tokenizer, MAX_LEN, BATCH_SIZE)\n",
        "val_data_loader = create_data_loader(df_val, tokenizer, MAX_LEN, BATCH_SIZE)\n",
        "test_data_loader = create_data_loader(df_test, tokenizer, MAX_LEN, BATCH_SIZE)"
      ],
      "execution_count": null,
      "outputs": []
    },
    {
      "cell_type": "code",
      "metadata": {
        "colab": {
          "base_uri": "https://localhost:8080/"
        },
        "id": "fuDnfonywKxg",
        "outputId": "d04188c7-3839-4d5e-962b-da730e9d6a2f"
      },
      "source": [
        "data = next(iter(train_data_loader))\n",
        "data.keys()"
      ],
      "execution_count": null,
      "outputs": [
        {
          "output_type": "execute_result",
          "data": {
            "text/plain": [
              "dict_keys(['tweet_text', 'input_ids', 'attention_mask', 'targets'])"
            ]
          },
          "metadata": {
            "tags": []
          },
          "execution_count": 38
        }
      ]
    },
    {
      "cell_type": "code",
      "metadata": {
        "id": "_3_3EXR53e5q"
      },
      "source": [
        "model = SentimentClassifier(len(class_names))\n",
        "model = model.to(device)"
      ],
      "execution_count": null,
      "outputs": []
    },
    {
      "cell_type": "code",
      "metadata": {
        "colab": {
          "base_uri": "https://localhost:8080/"
        },
        "id": "UraiW-LH3jPk",
        "outputId": "9677506f-db0a-4462-8b8d-2e3296b68000"
      },
      "source": [
        "input_ids = data['input_ids'].to(device)\n",
        "attention_mask = data['attention_mask'].to(device)\n",
        "\n",
        "print(input_ids.shape) # batch size x seq length\n",
        "print(attention_mask.shape) # batch size x seq length"
      ],
      "execution_count": null,
      "outputs": [
        {
          "output_type": "stream",
          "text": [
            "torch.Size([32, 104])\n",
            "torch.Size([32, 104])\n"
          ],
          "name": "stdout"
        }
      ]
    },
    {
      "cell_type": "code",
      "metadata": {
        "id": "ISCQwqGQBquu"
      },
      "source": [
        "EPOCHS = 30\n",
        "\n",
        "optimizer = optim.AdamW(model.parameters(), lr=1e-5)\n",
        "total_steps = len(train_data_loader) * EPOCHS\n",
        "\n",
        "scheduler = transformers.get_linear_schedule_with_warmup(\n",
        "  optimizer,\n",
        "  num_warmup_steps=0,\n",
        "  num_training_steps=total_steps\n",
        ")\n",
        "\n",
        "loss_fn = nn.CrossEntropyLoss().to(device)"
      ],
      "execution_count": null,
      "outputs": []
    },
    {
      "cell_type": "code",
      "metadata": {
        "colab": {
          "base_uri": "https://localhost:8080/"
        },
        "id": "z2vF55Xc7Crp",
        "outputId": "e7035524-82fc-412a-c9d4-239f4b91a4a9"
      },
      "source": [
        "%%time\n",
        "\n",
        "history = defaultdict(list)\n",
        "best_accuracy = 0\n",
        "early_stop = 0\n",
        "\n",
        "for epoch in range(EPOCHS):\n",
        "\n",
        "  print(f'Epoch {epoch + 1}/{EPOCHS}')\n",
        "  print('-' * 10)\n",
        "\n",
        "  train_acc, train_loss = train_epoch(\n",
        "    model,\n",
        "    train_data_loader,    \n",
        "    loss_fn, \n",
        "    optimizer, \n",
        "    device, \n",
        "    len(df_train)\n",
        "  )\n",
        "\n",
        "  print(f'Train loss {train_loss} accuracy {train_acc}')\n",
        "\n",
        "  val_acc, val_loss = eval_model(\n",
        "    model,\n",
        "    val_data_loader,\n",
        "    loss_fn, \n",
        "    device, \n",
        "    len(df_val)\n",
        "  )\n",
        "\n",
        "  print(f'Val   loss {val_loss} accuracy {val_acc}')\n",
        "  print()\n",
        "\n",
        "  history['train_acc'].append(train_acc)\n",
        "  history['train_loss'].append(train_loss)\n",
        "  history['val_acc'].append(val_acc)\n",
        "  history['val_loss'].append(val_loss)\n",
        "\n",
        "  if val_acc > best_accuracy:\n",
        "    torch.save(model.state_dict(), 'best_model_state.bin')\n",
        "    best_accuracy = val_acc\n",
        "    early_stop = 0\n",
        "  else:\n",
        "      early_stop = early_stop + 1\n",
        "      if early_stop == 5:\n",
        "        break"
      ],
      "execution_count": null,
      "outputs": [
        {
          "output_type": "stream",
          "text": [
            "Epoch 1/30\n",
            "----------\n",
            "Train loss 0.6889326388258382 accuracy 0.6846136865342163\n",
            "Val   loss 0.6434987660827516 accuracy 0.7081843464441796\n",
            "\n",
            "Epoch 2/30\n",
            "----------\n",
            "Train loss 0.5369454999112309 accuracy 0.7651434878587197\n",
            "Val   loss 0.6487921117981778 accuracy 0.7195073500198649\n",
            "\n",
            "Epoch 3/30\n",
            "----------\n",
            "Train loss 0.4153733968071766 accuracy 0.8284547461368653\n",
            "Val   loss 0.7295679167101655 accuracy 0.7214938418752483\n",
            "\n",
            "Epoch 4/30\n",
            "----------\n",
            "Train loss 0.29747084332472185 accuracy 0.8847682119205298\n",
            "Val   loss 0.8217743846434581 accuracy 0.72129519268971\n",
            "\n",
            "Epoch 5/30\n",
            "----------\n",
            "Train loss 0.21032054344518372 accuracy 0.9207284768211921\n",
            "Val   loss 0.9106530788578565 accuracy 0.72367898291617\n",
            "\n",
            "Epoch 6/30\n",
            "----------\n",
            "Train loss 0.16608479563317835 accuracy 0.9401103752759382\n",
            "Val   loss 1.0174371109733098 accuracy 0.7226857369884784\n",
            "\n",
            "Epoch 7/30\n",
            "----------\n",
            "Train loss 0.128055916424304 accuracy 0.9552980132450332\n",
            "Val   loss 1.0890543728689603 accuracy 0.7123559793404847\n",
            "\n",
            "Epoch 8/30\n",
            "----------\n",
            "Train loss 0.10223169015400838 accuracy 0.9648565121412803\n",
            "Val   loss 1.1307743955639344 accuracy 0.7244735796583234\n",
            "\n",
            "Epoch 9/30\n",
            "----------\n",
            "Train loss 0.08218269584694546 accuracy 0.9715452538631346\n",
            "Val   loss 1.1951322340512578 accuracy 0.7228843861740167\n",
            "\n",
            "Epoch 10/30\n",
            "----------\n",
            "Train loss 0.07207661508506895 accuracy 0.974812362030905\n",
            "Val   loss 1.238428845247136 accuracy 0.7232816845450933\n",
            "\n",
            "Epoch 11/30\n",
            "----------\n",
            "Train loss 0.05903429165227657 accuracy 0.980066225165563\n",
            "Val   loss 1.358131009566633 accuracy 0.7191100516487883\n",
            "\n",
            "Epoch 12/30\n",
            "----------\n",
            "Train loss 0.052816104558094254 accuracy 0.9822958057395144\n",
            "Val   loss 1.351009699551365 accuracy 0.7260627731426301\n",
            "\n",
            "Epoch 13/30\n",
            "----------\n",
            "Train loss 0.04784274014957068 accuracy 0.9832450331125828\n",
            "Val   loss 1.4204061529304408 accuracy 0.72248708780294\n",
            "\n",
            "Epoch 14/30\n",
            "----------\n",
            "Train loss 0.04541177229592735 accuracy 0.9849006622516556\n",
            "Val   loss 1.3642994344611712 accuracy 0.7203019467620183\n",
            "\n",
            "Epoch 15/30\n",
            "----------\n",
            "Train loss 0.03910259838378955 accuracy 0.986401766004415\n",
            "Val   loss 1.4254214903221856 accuracy 0.7248708780294001\n",
            "\n",
            "Epoch 16/30\n",
            "----------\n",
            "Train loss 0.035466949661016677 accuracy 0.9883002207505519\n",
            "Val   loss 1.5098686742631695 accuracy 0.72129519268971\n",
            "\n",
            "Epoch 17/30\n",
            "----------\n",
            "Train loss 0.035258924444521764 accuracy 0.9878366445916115\n",
            "Val   loss 1.4678206470193742 accuracy 0.7226857369884784\n",
            "\n",
            "CPU times: user 2h 23min 6s, sys: 1h 36min 7s, total: 3h 59min 13s\n",
            "Wall time: 4h 48s\n"
          ],
          "name": "stdout"
        }
      ]
    },
    {
      "cell_type": "code",
      "metadata": {
        "colab": {
          "base_uri": "https://localhost:8080/"
        },
        "id": "0fUBCiWH7bP6",
        "outputId": "c0f4aac9-34bb-4e16-8d77-fa272701460f"
      },
      "source": [
        "plt.plot(history['train_acc'], label='train accuracy')\n",
        "plt.plot(history['val_acc'], label='validation accuracy')\n",
        "\n",
        "plt.title('Training history')\n",
        "plt.ylabel('Accuracy')\n",
        "plt.xlabel('Epoch')\n",
        "plt.legend()\n",
        "plt.ylim([0, 1]);\n"
      ],
      "execution_count": null,
      "outputs": [
        {
          "output_type": "display_data",
          "data": {
            "image/png": "[encoded data removed]",
            "text/plain": [
              "<Figure size 432x288 with 1 Axes>"
            ]
          },
          "metadata": {
            "tags": [],
            "needs_background": "light"
          }
        }
      ]
    },
    {
      "cell_type": "code",
      "metadata": {
        "colab": {
          "base_uri": "https://localhost:8080/"
        },
        "id": "gi9Jd6us7_id",
        "outputId": "a6233966-b906-4aa1-c12e-1289ab41a7e6"
      },
      "source": [
        "history"
      ],
      "execution_count": null,
      "outputs": [
        {
          "output_type": "execute_result",
          "data": {
            "text/plain": [
              "defaultdict(list,\n",
              "            {'train_acc': [tensor(0.6846, device='cuda:0', dtype=torch.float64),\n",
              "              tensor(0.7651, device='cuda:0', dtype=torch.float64),\n",
              "              tensor(0.8285, device='cuda:0', dtype=torch.float64),\n",
              "              tensor(0.8848, device='cuda:0', dtype=torch.float64),\n",
              "              tensor(0.9207, device='cuda:0', dtype=torch.float64),\n",
              "              tensor(0.9401, device='cuda:0', dtype=torch.float64),\n",
              "              tensor(0.9553, device='cuda:0', dtype=torch.float64),\n",
              "              tensor(0.9649, device='cuda:0', dtype=torch.float64),\n",
              "              tensor(0.9715, device='cuda:0', dtype=torch.float64),\n",
              "              tensor(0.9748, device='cuda:0', dtype=torch.float64),\n",
              "              tensor(0.9801, device='cuda:0', dtype=torch.float64),\n",
              "              tensor(0.9823, device='cuda:0', dtype=torch.float64),\n",
              "              tensor(0.9832, device='cuda:0', dtype=torch.float64),\n",
              "              tensor(0.9849, device='cuda:0', dtype=torch.float64),\n",
              "              tensor(0.9864, device='cuda:0', dtype=torch.float64),\n",
              "              tensor(0.9883, device='cuda:0', dtype=torch.float64),\n",
              "              tensor(0.9878, device='cuda:0', dtype=torch.float64)],\n",
              "             'train_loss': [0.6889326388258382,\n",
              "              0.5369454999112309,\n",
              "              0.4153733968071766,\n",
              "              0.29747084332472185,\n",
              "              0.21032054344518372,\n",
              "              0.16608479563317835,\n",
              "              0.128055916424304,\n",
              "              0.10223169015400838,\n",
              "              0.08218269584694546,\n",
              "              0.07207661508506895,\n",
              "              0.05903429165227657,\n",
              "              0.052816104558094254,\n",
              "              0.04784274014957068,\n",
              "              0.04541177229592735,\n",
              "              0.03910259838378955,\n",
              "              0.035466949661016677,\n",
              "              0.035258924444521764],\n",
              "             'val_acc': [tensor(0.7082, device='cuda:0', dtype=torch.float64),\n",
              "              tensor(0.7195, device='cuda:0', dtype=torch.float64),\n",
              "              tensor(0.7215, device='cuda:0', dtype=torch.float64),\n",
              "              tensor(0.7213, device='cuda:0', dtype=torch.float64),\n",
              "              tensor(0.7237, device='cuda:0', dtype=torch.float64),\n",
              "              tensor(0.7227, device='cuda:0', dtype=torch.float64),\n",
              "              tensor(0.7124, device='cuda:0', dtype=torch.float64),\n",
              "              tensor(0.7245, device='cuda:0', dtype=torch.float64),\n",
              "              tensor(0.7229, device='cuda:0', dtype=torch.float64),\n",
              "              tensor(0.7233, device='cuda:0', dtype=torch.float64),\n",
              "              tensor(0.7191, device='cuda:0', dtype=torch.float64),\n",
              "              tensor(0.7261, device='cuda:0', dtype=torch.float64),\n",
              "              tensor(0.7225, device='cuda:0', dtype=torch.float64),\n",
              "              tensor(0.7203, device='cuda:0', dtype=torch.float64),\n",
              "              tensor(0.7249, device='cuda:0', dtype=torch.float64),\n",
              "              tensor(0.7213, device='cuda:0', dtype=torch.float64),\n",
              "              tensor(0.7227, device='cuda:0', dtype=torch.float64)],\n",
              "             'val_loss': [0.6434987660827516,\n",
              "              0.6487921117981778,\n",
              "              0.7295679167101655,\n",
              "              0.8217743846434581,\n",
              "              0.9106530788578565,\n",
              "              1.0174371109733098,\n",
              "              1.0890543728689603,\n",
              "              1.1307743955639344,\n",
              "              1.1951322340512578,\n",
              "              1.238428845247136,\n",
              "              1.358131009566633,\n",
              "              1.351009699551365,\n",
              "              1.4204061529304408,\n",
              "              1.3642994344611712,\n",
              "              1.4254214903221856,\n",
              "              1.5098686742631695,\n",
              "              1.4678206470193742]})"
            ]
          },
          "metadata": {
            "tags": []
          },
          "execution_count": 44
        }
      ]
    },
    {
      "cell_type": "code",
      "metadata": {
        "colab": {
          "base_uri": "https://localhost:8080/"
        },
        "id": "-6oU3XlxhwMj",
        "outputId": "a677c598-fb10-4db1-fbea-4cb01e3f2119"
      },
      "source": [
        "model.load_state_dict(torch.load('best_model_state.bin'))"
      ],
      "execution_count": null,
      "outputs": [
        {
          "output_type": "execute_result",
          "data": {
            "text/plain": [
              "<All keys matched successfully>"
            ]
          },
          "metadata": {
            "tags": []
          },
          "execution_count": 45
        }
      ]
    },
    {
      "cell_type": "code",
      "metadata": {
        "id": "AnBcNxQB7Ox-",
        "colab": {
          "base_uri": "https://localhost:8080/"
        },
        "outputId": "61cd968b-29d6-4a9b-db58-75284eac1025"
      },
      "source": [
        "test_acc, _ = eval_model(\n",
        "  model,\n",
        "  test_data_loader,\n",
        "  loss_fn,\n",
        "  device,\n",
        "  len(df_test)\n",
        ")\n",
        "\n",
        "test_acc.item()"
      ],
      "execution_count": null,
      "outputs": [
        {
          "output_type": "execute_result",
          "data": {
            "text/plain": [
              "0.6733148811462065"
            ]
          },
          "metadata": {
            "tags": []
          },
          "execution_count": 46
        }
      ]
    },
    {
      "cell_type": "code",
      "metadata": {
        "id": "YFHrAw1d9j0Y"
      },
      "source": [
        "test_data_loader = create_data_loader(df_test, tokenizer, MAX_LEN, BATCH_SIZE)"
      ],
      "execution_count": null,
      "outputs": []
    },
    {
      "cell_type": "code",
      "metadata": {
        "id": "h8k2X34a7iPM"
      },
      "source": [
        "y_tweet_texts, y_pred, y_pred_probs, y_test = get_predictions(\n",
        "  model,\n",
        "  test_data_loader\n",
        ")"
      ],
      "execution_count": null,
      "outputs": []
    },
    {
      "cell_type": "code",
      "metadata": {
        "id": "7R9IHGe07jkC",
        "colab": {
          "base_uri": "https://localhost:8080/"
        },
        "outputId": "0a35e8d2-7a84-4abc-b257-1387fc0a0c5e"
      },
      "source": [
        "print(classification_report(y_test, y_pred, target_names=class_names))"
      ],
      "execution_count": null,
      "outputs": [
        {
          "output_type": "stream",
          "text": [
            "              precision    recall  f1-score   support\n",
            "\n",
            "    negative       0.70      0.64      0.67      3972\n",
            "     neutral       0.67      0.70      0.69      5937\n",
            "    positive       0.64      0.67      0.65      2375\n",
            "\n",
            "    accuracy                           0.67     12284\n",
            "   macro avg       0.67      0.67      0.67     12284\n",
            "weighted avg       0.67      0.67      0.67     12284\n",
            "\n"
          ],
          "name": "stdout"
        }
      ]
    },
    {
      "cell_type": "code",
      "metadata": {
        "id": "JM_DYW8YCFeF",
        "colab": {
          "base_uri": "https://localhost:8080/"
        },
        "outputId": "f76c612b-d425-4c28-f6cf-622525ad9201"
      },
      "source": [
        "\n",
        "cm = confusion_matrix(y_test, y_pred)\n",
        "df_cm = pd.DataFrame(cm, index=class_names, columns=class_names)\n",
        "show_confusion_matrix(df_cm)"
      ],
      "execution_count": null,
      "outputs": [
        {
          "output_type": "display_data",
          "data": {
            "image/png": "[encoded data removed]",
            "text/plain": [
              "<Figure size 432x288 with 2 Axes>"
            ]
          },
          "metadata": {
            "tags": [],
            "needs_background": "light"
          }
        }
      ]
    },
    {
      "cell_type": "code",
      "metadata": {
        "id": "jxGoo4MhAga6",
        "colab": {
          "base_uri": "https://localhost:8080/"
        },
        "outputId": "438c2120-69b9-4b88-e787-0ee84af35090"
      },
      "source": [
        "f1_score(y_test, y_pred, average='weighted')"
      ],
      "execution_count": null,
      "outputs": [
        {
          "output_type": "execute_result",
          "data": {
            "text/plain": [
              "0.6732077660857182"
            ]
          },
          "metadata": {
            "tags": []
          },
          "execution_count": 51
        }
      ]
    },
    {
      "cell_type": "code",
      "metadata": {
        "id": "SQm9k8FfD6sP",
        "colab": {
          "base_uri": "https://localhost:8080/"
        },
        "outputId": "88f23a2e-1090-4bd4-afd3-c47b0003c45e"
      },
      "source": [
        "f1_score(y_test, y_pred, average=None)"
      ],
      "execution_count": null,
      "outputs": [
        {
          "output_type": "execute_result",
          "data": {
            "text/plain": [
              "array([0.66596639, 0.68587037, 0.65366455])"
            ]
          },
          "metadata": {
            "tags": []
          },
          "execution_count": 52
        }
      ]
    },
    {
      "cell_type": "code",
      "metadata": {
        "id": "tHNMoOFjEZrZ",
        "colab": {
          "base_uri": "https://localhost:8080/"
        },
        "outputId": "2464786d-0f49-414b-8ddd-2e00c3b34d8f"
      },
      "source": [
        "recall_score(y_test, y_pred, average = None)"
      ],
      "execution_count": null,
      "outputs": [
        {
          "output_type": "execute_result",
          "data": {
            "text/plain": [
              "array([0.63846928, 0.69782719, 0.67031579])"
            ]
          },
          "metadata": {
            "tags": []
          },
          "execution_count": 53
        }
      ]
    },
    {
      "cell_type": "code",
      "metadata": {
        "id": "MY5TxFp-Eilx",
        "colab": {
          "base_uri": "https://localhost:8080/"
        },
        "outputId": "7f06c0cd-0741-4b75-f865-1ed72d1b19cb"
      },
      "source": [
        "precision_score(y_test, y_pred, average = None)"
      ],
      "execution_count": null,
      "outputs": [
        {
          "output_type": "execute_result",
          "data": {
            "text/plain": [
              "array([0.69593853, 0.67431641, 0.63782051])"
            ]
          },
          "metadata": {
            "tags": []
          },
          "execution_count": 54
        }
      ]
    },
    {
      "cell_type": "code",
      "metadata": {
        "id": "FyBx4SLC5Rvg"
      },
      "source": [
        "writeResultsInFile(accuracy_score(y_test, y_pred), f1_score(y_test, y_pred, average='weighted'), random_seed=RANDOM_SEED)"
      ],
      "execution_count": null,
      "outputs": []
    },
    {
      "cell_type": "code",
      "metadata": {
        "id": "PYDoKQQwtXvm"
      },
      "source": [
        ""
      ],
      "execution_count": null,
      "outputs": []
    },
    {
      "cell_type": "markdown",
      "metadata": {
        "id": "-pJ3ZM9Yjaon"
      },
      "source": [
        "#SemEval 2020 Task 12"
      ]
    },
    {
      "cell_type": "code",
      "metadata": {
        "id": "sd4hwscFjgZt"
      },
      "source": [
        ""
      ],
      "execution_count": null,
      "outputs": []
    },
    {
      "cell_type": "code",
      "metadata": {
        "colab": {
          "base_uri": "https://localhost:8080/"
        },
        "id": "t1so_vccjhYJ",
        "outputId": "9c36df45-2910-40c0-b378-f101228763b8"
      },
      "source": [
        "%cd /content/drive/MyDrive/TER BERTTweet/SemEval2020Task12"
      ],
      "execution_count": null,
      "outputs": [
        {
          "output_type": "stream",
          "text": [
            "/content/drive/MyDrive/TER BERTTweet/SemEval2020Task12\n"
          ],
          "name": "stdout"
        }
      ]
    },
    {
      "cell_type": "code",
      "metadata": {
        "colab": {
          "base_uri": "https://localhost:8080/"
        },
        "id": "vJMZbYnOjhYR",
        "outputId": "a8564641-ccaf-4b3b-b4b4-cc59b8d81746"
      },
      "source": [
        "!ls"
      ],
      "execution_count": null,
      "outputs": [
        {
          "output_type": "stream",
          "text": [
            "task_a_distant.tsv\ttest_b_labels_all.csv\ttest_c_labels.csv\n",
            "test_a_labels_all.csv\ttest_b_labels.csv\ttest_c_labels_easy.csv\n",
            "test_a_labels.csv\ttest_b_labels_easy.csv\ttest_c_labels_hard.csv\n",
            "test_a_labels_easy.csv\ttest_b_labels_hard.csv\ttest_c_tweets_all.tsv\n",
            "test_a_labels_hard.csv\ttest_b_tweets_all.tsv\ttest_c_tweets.tsv\n",
            "test_a_tweets_all.tsv\ttest_b_tweets.tsv\n",
            "test_a_tweets.tsv\ttest_c_labels_all.csv\n"
          ],
          "name": "stdout"
        }
      ]
    },
    {
      "cell_type": "code",
      "metadata": {
        "id": "5aY0hp5bjhYR"
      },
      "source": [
        "df_train = pd.read_csv(\"task_a_distant.tsv\", sep=\"\\t\", header=0,  names=['id', 'body', 'target'])\n",
        "df_test = pd.read_csv(\"test_a_tweets_all.tsv\", sep=\"\\t\", header=0,  names=['id', 'body'])\n",
        "df_ytest = pd.read_csv(\"test_a_labels_all.csv\", sep=\",\", header=0, names=['id', 'sentiment'])"
      ],
      "execution_count": null,
      "outputs": []
    },
    {
      "cell_type": "code",
      "metadata": {
        "id": "ryzbeIVzjhYS"
      },
      "source": [
        "df_test = df_test.merge(df_ytest)"
      ],
      "execution_count": null,
      "outputs": []
    },
    {
      "cell_type": "code",
      "metadata": {
        "colab": {
          "base_uri": "https://localhost:8080/",
          "height": 419
        },
        "id": "G0l5HzYfjhYS",
        "outputId": "3daf8521-f973-4828-9e33-62276ed799cb"
      },
      "source": [
        "df_train"
      ],
      "execution_count": null,
      "outputs": [
        {
          "output_type": "execute_result",
          "data": {
            "text/html": [
              "<div>\n",
              "<style scoped>\n",
              "    .dataframe tbody tr th:only-of-type {\n",
              "        vertical-align: middle;\n",
              "    }\n",
              "\n",
              "    .dataframe tbody tr th {\n",
              "        vertical-align: top;\n",
              "    }\n",
              "\n",
              "    .dataframe thead th {\n",
              "        text-align: right;\n",
              "    }\n",
              "</style>\n",
              "<table border=\"1\" class=\"dataframe\">\n",
              "  <thead>\n",
              "    <tr style=\"text-align: right;\">\n",
              "      <th></th>\n",
              "      <th>id</th>\n",
              "      <th>body</th>\n",
              "      <th>target</th>\n",
              "    </tr>\n",
              "  </thead>\n",
              "  <tbody>\n",
              "    <tr>\n",
              "      <th>0</th>\n",
              "      <td>1159533701283352576</td>\n",
              "      <td>0.195773</td>\n",
              "      <td>0.187379</td>\n",
              "    </tr>\n",
              "    <tr>\n",
              "      <th>1</th>\n",
              "      <td>1159533703522992128</td>\n",
              "      <td>0.262401</td>\n",
              "      <td>0.145998</td>\n",
              "    </tr>\n",
              "    <tr>\n",
              "      <th>2</th>\n",
              "      <td>1159533703758061570</td>\n",
              "      <td>0.833391</td>\n",
              "      <td>0.140628</td>\n",
              "    </tr>\n",
              "    <tr>\n",
              "      <th>3</th>\n",
              "      <td>1159533703904800769</td>\n",
              "      <td>0.565238</td>\n",
              "      <td>0.187498</td>\n",
              "    </tr>\n",
              "    <tr>\n",
              "      <th>4</th>\n",
              "      <td>1159533705125343232</td>\n",
              "      <td>0.664921</td>\n",
              "      <td>0.097098</td>\n",
              "    </tr>\n",
              "    <tr>\n",
              "      <th>...</th>\n",
              "      <td>...</td>\n",
              "      <td>...</td>\n",
              "      <td>...</td>\n",
              "    </tr>\n",
              "    <tr>\n",
              "      <th>9089135</th>\n",
              "      <td>1187517463640137728</td>\n",
              "      <td>0.174259</td>\n",
              "      <td>0.205074</td>\n",
              "    </tr>\n",
              "    <tr>\n",
              "      <th>9089136</th>\n",
              "      <td>1187636341338710016</td>\n",
              "      <td>0.487383</td>\n",
              "      <td>0.067990</td>\n",
              "    </tr>\n",
              "    <tr>\n",
              "      <th>9089137</th>\n",
              "      <td>1187636341560889344</td>\n",
              "      <td>0.241537</td>\n",
              "      <td>0.176056</td>\n",
              "    </tr>\n",
              "    <tr>\n",
              "      <th>9089138</th>\n",
              "      <td>1187636341661679617</td>\n",
              "      <td>0.251834</td>\n",
              "      <td>0.170168</td>\n",
              "    </tr>\n",
              "    <tr>\n",
              "      <th>9089139</th>\n",
              "      <td>1187538959624261635</td>\n",
              "      <td>0.172389</td>\n",
              "      <td>0.196509</td>\n",
              "    </tr>\n",
              "  </tbody>\n",
              "</table>\n",
              "<p>9089140 rows × 3 columns</p>\n",
              "</div>"
            ],
            "text/plain": [
              "                          id      body    target\n",
              "0        1159533701283352576  0.195773  0.187379\n",
              "1        1159533703522992128  0.262401  0.145998\n",
              "2        1159533703758061570  0.833391  0.140628\n",
              "3        1159533703904800769  0.565238  0.187498\n",
              "4        1159533705125343232  0.664921  0.097098\n",
              "...                      ...       ...       ...\n",
              "9089135  1187517463640137728  0.174259  0.205074\n",
              "9089136  1187636341338710016  0.487383  0.067990\n",
              "9089137  1187636341560889344  0.241537  0.176056\n",
              "9089138  1187636341661679617  0.251834  0.170168\n",
              "9089139  1187538959624261635  0.172389  0.196509\n",
              "\n",
              "[9089140 rows x 3 columns]"
            ]
          },
          "metadata": {
            "tags": []
          },
          "execution_count": 152
        }
      ]
    },
    {
      "cell_type": "code",
      "metadata": {
        "colab": {
          "base_uri": "https://localhost:8080/",
          "height": 419
        },
        "id": "WvKJzHIljhYT",
        "outputId": "a9dfeaca-c30f-4d7d-9976-5030c4244888"
      },
      "source": [
        "df_test"
      ],
      "execution_count": null,
      "outputs": [
        {
          "output_type": "execute_result",
          "data": {
            "text/html": [
              "<div>\n",
              "<style scoped>\n",
              "    .dataframe tbody tr th:only-of-type {\n",
              "        vertical-align: middle;\n",
              "    }\n",
              "\n",
              "    .dataframe tbody tr th {\n",
              "        vertical-align: top;\n",
              "    }\n",
              "\n",
              "    .dataframe thead th {\n",
              "        text-align: right;\n",
              "    }\n",
              "</style>\n",
              "<table border=\"1\" class=\"dataframe\">\n",
              "  <thead>\n",
              "    <tr style=\"text-align: right;\">\n",
              "      <th></th>\n",
              "      <th>id</th>\n",
              "      <th>body</th>\n",
              "      <th>sentiment</th>\n",
              "    </tr>\n",
              "  </thead>\n",
              "  <tbody>\n",
              "    <tr>\n",
              "      <th>0</th>\n",
              "      <td>B0</td>\n",
              "      <td>Has @USER quit? I've not heard of any #knifecr...</td>\n",
              "      <td>NOT</td>\n",
              "    </tr>\n",
              "    <tr>\n",
              "      <th>1</th>\n",
              "      <td>B1</td>\n",
              "      <td>In celebration of Emancipation Day, we urge yo...</td>\n",
              "      <td>NOT</td>\n",
              "    </tr>\n",
              "    <tr>\n",
              "      <th>2</th>\n",
              "      <td>B2</td>\n",
              "      <td>@USER @USER It’d be a literal dream come true ...</td>\n",
              "      <td>NOT</td>\n",
              "    </tr>\n",
              "    <tr>\n",
              "      <th>3</th>\n",
              "      <td>B3</td>\n",
              "      <td>Brilliant news to read that Hoggy has signed a...</td>\n",
              "      <td>NOT</td>\n",
              "    </tr>\n",
              "    <tr>\n",
              "      <th>4</th>\n",
              "      <td>B4</td>\n",
              "      <td>@USER She speaks of the truth 😌</td>\n",
              "      <td>NOT</td>\n",
              "    </tr>\n",
              "    <tr>\n",
              "      <th>...</th>\n",
              "      <td>...</td>\n",
              "      <td>...</td>\n",
              "      <td>...</td>\n",
              "    </tr>\n",
              "    <tr>\n",
              "      <th>5987</th>\n",
              "      <td>BC2101</td>\n",
              "      <td>@USER @USER Nothing about trump is human or no...</td>\n",
              "      <td>OFF</td>\n",
              "    </tr>\n",
              "    <tr>\n",
              "      <th>5988</th>\n",
              "      <td>BC2102</td>\n",
              "      <td>@USER Oh shit. That sounds like a cool time tho</td>\n",
              "      <td>OFF</td>\n",
              "    </tr>\n",
              "    <tr>\n",
              "      <th>5989</th>\n",
              "      <td>BC2103</td>\n",
              "      <td>@USER @USER I gotta say that shit to you one t...</td>\n",
              "      <td>OFF</td>\n",
              "    </tr>\n",
              "    <tr>\n",
              "      <th>5990</th>\n",
              "      <td>BC2104</td>\n",
              "      <td>@USER tRUmp does everything he can to destroy ...</td>\n",
              "      <td>OFF</td>\n",
              "    </tr>\n",
              "    <tr>\n",
              "      <th>5991</th>\n",
              "      <td>BC2105</td>\n",
              "      <td>I was gonna tweet some shit like holding hands...</td>\n",
              "      <td>OFF</td>\n",
              "    </tr>\n",
              "  </tbody>\n",
              "</table>\n",
              "<p>5992 rows × 3 columns</p>\n",
              "</div>"
            ],
            "text/plain": [
              "          id                                               body sentiment\n",
              "0         B0  Has @USER quit? I've not heard of any #knifecr...       NOT\n",
              "1         B1  In celebration of Emancipation Day, we urge yo...       NOT\n",
              "2         B2  @USER @USER It’d be a literal dream come true ...       NOT\n",
              "3         B3  Brilliant news to read that Hoggy has signed a...       NOT\n",
              "4         B4                    @USER She speaks of the truth 😌       NOT\n",
              "...      ...                                                ...       ...\n",
              "5987  BC2101  @USER @USER Nothing about trump is human or no...       OFF\n",
              "5988  BC2102    @USER Oh shit. That sounds like a cool time tho       OFF\n",
              "5989  BC2103  @USER @USER I gotta say that shit to you one t...       OFF\n",
              "5990  BC2104  @USER tRUmp does everything he can to destroy ...       OFF\n",
              "5991  BC2105  I was gonna tweet some shit like holding hands...       OFF\n",
              "\n",
              "[5992 rows x 3 columns]"
            ]
          },
          "metadata": {
            "tags": []
          },
          "execution_count": 153
        }
      ]
    },
    {
      "cell_type": "code",
      "metadata": {
        "colab": {
          "base_uri": "https://localhost:8080/"
        },
        "id": "gzKjXxunjhYT",
        "outputId": "3b946a20-a68e-4dbd-e5e6-551add7b451a"
      },
      "source": [
        "df_train['target'].unique()"
      ],
      "execution_count": null,
      "outputs": [
        {
          "output_type": "execute_result",
          "data": {
            "text/plain": [
              "array([0.18737871, 0.14599806, 0.14062767, ..., 0.17605566, 0.17016828,\n",
              "       0.19650852])"
            ]
          },
          "metadata": {
            "tags": []
          },
          "execution_count": 154
        }
      ]
    },
    {
      "cell_type": "code",
      "metadata": {
        "id": "Mb-z32XKjhYU"
      },
      "source": [
        "def sentiment_encode(sentiment):\n",
        "  if sentiment == 'OFF':\n",
        "    return 0\n",
        "  elif sentiment == 'NOT':\n",
        "    return 1"
      ],
      "execution_count": null,
      "outputs": []
    },
    {
      "cell_type": "code",
      "metadata": {
        "id": "SN-EaNEEjhYU"
      },
      "source": [
        "df_train['target'] = df_train.target.apply(sentiment_encode)"
      ],
      "execution_count": null,
      "outputs": []
    },
    {
      "cell_type": "code",
      "metadata": {
        "id": "9OJ5Y1L8jhYU"
      },
      "source": [
        "df_train, df_val = train_test_split(df_train, test_size=0.1, random_state=RANDOM_SEED)"
      ],
      "execution_count": null,
      "outputs": []
    },
    {
      "cell_type": "code",
      "metadata": {
        "colab": {
          "base_uri": "https://localhost:8080/",
          "height": 357
        },
        "id": "zwIh_SB_jhYV",
        "outputId": "0e7ec04b-2a20-463c-a1d5-0564e3543810"
      },
      "source": [
        "token_lens = []\n",
        "for txt in df_train.body:\n",
        "  tokens = tokenizer.encode(txt, max_length=128)\n",
        "  token_lens.append(len(tokens))"
      ],
      "execution_count": null,
      "outputs": [
        {
          "output_type": "error",
          "ename": "ValueError",
          "evalue": "ignored",
          "traceback": [
            "\u001b[0;31m---------------------------------------------------------------------------\u001b[0m",
            "\u001b[0;31mValueError\u001b[0m                                Traceback (most recent call last)",
            "\u001b[0;32m<ipython-input-158-468994547b9e>\u001b[0m in \u001b[0;36m<module>\u001b[0;34m()\u001b[0m\n\u001b[1;32m      1\u001b[0m \u001b[0mtoken_lens\u001b[0m \u001b[0;34m=\u001b[0m \u001b[0;34m[\u001b[0m\u001b[0;34m]\u001b[0m\u001b[0;34m\u001b[0m\u001b[0;34m\u001b[0m\u001b[0m\n\u001b[1;32m      2\u001b[0m \u001b[0;32mfor\u001b[0m \u001b[0mtxt\u001b[0m \u001b[0;32min\u001b[0m \u001b[0mdf_train\u001b[0m\u001b[0;34m.\u001b[0m\u001b[0mbody\u001b[0m\u001b[0;34m:\u001b[0m\u001b[0;34m\u001b[0m\u001b[0;34m\u001b[0m\u001b[0m\n\u001b[0;32m----> 3\u001b[0;31m   \u001b[0mtokens\u001b[0m \u001b[0;34m=\u001b[0m \u001b[0mtokenizer\u001b[0m\u001b[0;34m.\u001b[0m\u001b[0mencode\u001b[0m\u001b[0;34m(\u001b[0m\u001b[0mtxt\u001b[0m\u001b[0;34m,\u001b[0m \u001b[0mmax_length\u001b[0m\u001b[0;34m=\u001b[0m\u001b[0;36m128\u001b[0m\u001b[0;34m)\u001b[0m\u001b[0;34m\u001b[0m\u001b[0;34m\u001b[0m\u001b[0m\n\u001b[0m\u001b[1;32m      4\u001b[0m   \u001b[0mtoken_lens\u001b[0m\u001b[0;34m.\u001b[0m\u001b[0mappend\u001b[0m\u001b[0;34m(\u001b[0m\u001b[0mlen\u001b[0m\u001b[0;34m(\u001b[0m\u001b[0mtokens\u001b[0m\u001b[0;34m)\u001b[0m\u001b[0;34m)\u001b[0m\u001b[0;34m\u001b[0m\u001b[0;34m\u001b[0m\u001b[0m\n",
            "\u001b[0;32m/usr/local/lib/python3.6/dist-packages/transformers/tokenization_utils_base.py\u001b[0m in \u001b[0;36mencode\u001b[0;34m(self, text, text_pair, add_special_tokens, padding, truncation, max_length, stride, return_tensors, **kwargs)\u001b[0m\n\u001b[1;32m   2099\u001b[0m             \u001b[0mstride\u001b[0m\u001b[0;34m=\u001b[0m\u001b[0mstride\u001b[0m\u001b[0;34m,\u001b[0m\u001b[0;34m\u001b[0m\u001b[0;34m\u001b[0m\u001b[0m\n\u001b[1;32m   2100\u001b[0m             \u001b[0mreturn_tensors\u001b[0m\u001b[0;34m=\u001b[0m\u001b[0mreturn_tensors\u001b[0m\u001b[0;34m,\u001b[0m\u001b[0;34m\u001b[0m\u001b[0;34m\u001b[0m\u001b[0m\n\u001b[0;32m-> 2101\u001b[0;31m             \u001b[0;34m**\u001b[0m\u001b[0mkwargs\u001b[0m\u001b[0;34m,\u001b[0m\u001b[0;34m\u001b[0m\u001b[0;34m\u001b[0m\u001b[0m\n\u001b[0m\u001b[1;32m   2102\u001b[0m         )\n\u001b[1;32m   2103\u001b[0m \u001b[0;34m\u001b[0m\u001b[0m\n",
            "\u001b[0;32m/usr/local/lib/python3.6/dist-packages/transformers/tokenization_utils_base.py\u001b[0m in \u001b[0;36mencode_plus\u001b[0;34m(self, text, text_pair, add_special_tokens, padding, truncation, max_length, stride, is_split_into_words, pad_to_multiple_of, return_tensors, return_token_type_ids, return_attention_mask, return_overflowing_tokens, return_special_tokens_mask, return_offsets_mapping, return_length, verbose, **kwargs)\u001b[0m\n\u001b[1;32m   2424\u001b[0m             \u001b[0mreturn_length\u001b[0m\u001b[0;34m=\u001b[0m\u001b[0mreturn_length\u001b[0m\u001b[0;34m,\u001b[0m\u001b[0;34m\u001b[0m\u001b[0;34m\u001b[0m\u001b[0m\n\u001b[1;32m   2425\u001b[0m             \u001b[0mverbose\u001b[0m\u001b[0;34m=\u001b[0m\u001b[0mverbose\u001b[0m\u001b[0;34m,\u001b[0m\u001b[0;34m\u001b[0m\u001b[0;34m\u001b[0m\u001b[0m\n\u001b[0;32m-> 2426\u001b[0;31m             \u001b[0;34m**\u001b[0m\u001b[0mkwargs\u001b[0m\u001b[0;34m,\u001b[0m\u001b[0;34m\u001b[0m\u001b[0;34m\u001b[0m\u001b[0m\n\u001b[0m\u001b[1;32m   2427\u001b[0m         )\n\u001b[1;32m   2428\u001b[0m \u001b[0;34m\u001b[0m\u001b[0m\n",
            "\u001b[0;32m/usr/local/lib/python3.6/dist-packages/transformers/tokenization_utils.py\u001b[0m in \u001b[0;36m_encode_plus\u001b[0;34m(self, text, text_pair, add_special_tokens, padding_strategy, truncation_strategy, max_length, stride, is_split_into_words, pad_to_multiple_of, return_tensors, return_token_type_ids, return_attention_mask, return_overflowing_tokens, return_special_tokens_mask, return_offsets_mapping, return_length, verbose, **kwargs)\u001b[0m\n\u001b[1;32m    442\u001b[0m             )\n\u001b[1;32m    443\u001b[0m \u001b[0;34m\u001b[0m\u001b[0m\n\u001b[0;32m--> 444\u001b[0;31m         \u001b[0mfirst_ids\u001b[0m \u001b[0;34m=\u001b[0m \u001b[0mget_input_ids\u001b[0m\u001b[0;34m(\u001b[0m\u001b[0mtext\u001b[0m\u001b[0;34m)\u001b[0m\u001b[0;34m\u001b[0m\u001b[0;34m\u001b[0m\u001b[0m\n\u001b[0m\u001b[1;32m    445\u001b[0m         \u001b[0msecond_ids\u001b[0m \u001b[0;34m=\u001b[0m \u001b[0mget_input_ids\u001b[0m\u001b[0;34m(\u001b[0m\u001b[0mtext_pair\u001b[0m\u001b[0;34m)\u001b[0m \u001b[0;32mif\u001b[0m \u001b[0mtext_pair\u001b[0m \u001b[0;32mis\u001b[0m \u001b[0;32mnot\u001b[0m \u001b[0;32mNone\u001b[0m \u001b[0;32melse\u001b[0m \u001b[0;32mNone\u001b[0m\u001b[0;34m\u001b[0m\u001b[0;34m\u001b[0m\u001b[0m\n\u001b[1;32m    446\u001b[0m \u001b[0;34m\u001b[0m\u001b[0m\n",
            "\u001b[0;32m/usr/local/lib/python3.6/dist-packages/transformers/tokenization_utils.py\u001b[0m in \u001b[0;36mget_input_ids\u001b[0;34m(text)\u001b[0m\n\u001b[1;32m    430\u001b[0m                 \u001b[0;32melse\u001b[0m\u001b[0;34m:\u001b[0m\u001b[0;34m\u001b[0m\u001b[0;34m\u001b[0m\u001b[0m\n\u001b[1;32m    431\u001b[0m                     raise ValueError(\n\u001b[0;32m--> 432\u001b[0;31m                         \u001b[0;34mf\"Input {text} is not valid. Should be a string, a list/tuple of strings or a list/tuple of integers.\"\u001b[0m\u001b[0;34m\u001b[0m\u001b[0;34m\u001b[0m\u001b[0m\n\u001b[0m\u001b[1;32m    433\u001b[0m                     )\n\u001b[1;32m    434\u001b[0m \u001b[0;34m\u001b[0m\u001b[0m\n",
            "\u001b[0;31mValueError\u001b[0m: Input 0.2084611506900149 is not valid. Should be a string, a list/tuple of strings or a list/tuple of integers."
          ]
        }
      ]
    },
    {
      "cell_type": "code",
      "metadata": {
        "id": "8YZxUnHHjhYV"
      },
      "source": [
        "sns.histplot(token_lens)\n",
        "plt.xlim([0, 128]);\n",
        "plt.xlabel('Token count');"
      ],
      "execution_count": null,
      "outputs": []
    },
    {
      "cell_type": "code",
      "metadata": {
        "id": "8bYRaAtyjhYV"
      },
      "source": [
        "MAX_LEN = np.max(token_lens)\n",
        "BATCH_SIZE = 32"
      ],
      "execution_count": null,
      "outputs": []
    },
    {
      "cell_type": "code",
      "metadata": {
        "id": "ESXmpkd3jhYV"
      },
      "source": [
        "train_data_loader = create_data_loader(df_train, tokenizer, MAX_LEN, BATCH_SIZE)\n",
        "val_data_loader = create_data_loader(df_val, tokenizer, MAX_LEN, BATCH_SIZE)"
      ],
      "execution_count": null,
      "outputs": []
    },
    {
      "cell_type": "code",
      "metadata": {
        "id": "T7axkun7jhYW"
      },
      "source": [
        "data = next(iter(train_data_loader))\n",
        "data.keys()"
      ],
      "execution_count": null,
      "outputs": []
    },
    {
      "cell_type": "code",
      "metadata": {
        "id": "G-ErG7RnjhYW"
      },
      "source": [
        "data = next(iter(val_data_loader))\n",
        "data.keys()"
      ],
      "execution_count": null,
      "outputs": []
    },
    {
      "cell_type": "code",
      "metadata": {
        "id": "OTNiGFDpjhYX"
      },
      "source": [
        "n_classes = 2\n",
        "class_names = ['offensive', 'not_offensive']"
      ],
      "execution_count": null,
      "outputs": []
    },
    {
      "cell_type": "code",
      "metadata": {
        "id": "Pzi3KAGjjhYX"
      },
      "source": [
        "input_ids = data['input_ids'].to(device)\n",
        "attention_mask = data['attention_mask'].to(device)\n",
        "\n",
        "print(input_ids.shape) # batch size x seq length\n",
        "print(attention_mask.shape) # batch size x seq length"
      ],
      "execution_count": null,
      "outputs": []
    },
    {
      "cell_type": "code",
      "metadata": {
        "id": "6W70eUkAjhYX"
      },
      "source": [
        "model = SentimentClassifier(n_classes)\n",
        "model = model.to(device)"
      ],
      "execution_count": null,
      "outputs": []
    },
    {
      "cell_type": "code",
      "metadata": {
        "id": "9SgUVP7ljhYX"
      },
      "source": [
        "EPOCHS = 30\n",
        "\n",
        "optimizer = optim.AdamW(model.parameters(), lr=1e-5)\n",
        "total_steps = len(train_data_loader) * EPOCHS\n",
        "\n",
        "scheduler = transformers.get_linear_schedule_with_warmup(\n",
        "  optimizer,\n",
        "  num_warmup_steps=0,\n",
        "  num_training_steps=total_steps\n",
        ")\n",
        "\n",
        "loss_fn = nn.CrossEntropyLoss().to(device)"
      ],
      "execution_count": null,
      "outputs": []
    },
    {
      "cell_type": "code",
      "metadata": {
        "id": "-UUTBYTDjhYY"
      },
      "source": [
        "%%time\n",
        "\n",
        "history = defaultdict(list)\n",
        "best_accuracy = 0\n",
        "early_stop = 0\n",
        "\n",
        "for epoch in range(EPOCHS):\n",
        "\n",
        "  print(f'Epoch {epoch + 1}/{EPOCHS}')\n",
        "  print('-' * 10)\n",
        "\n",
        "  train_acc, train_loss = train_epoch(\n",
        "    model,\n",
        "    train_data_loader,    \n",
        "    loss_fn, \n",
        "    optimizer, \n",
        "    device, \n",
        "    len(df_train)\n",
        "  )\n",
        "\n",
        "  print(f'Train loss {train_loss} accuracy {train_acc}')\n",
        "\n",
        "  val_acc, val_loss = eval_model(\n",
        "    model,\n",
        "    val_data_loader,\n",
        "    loss_fn, \n",
        "    device, \n",
        "    len(df_val)\n",
        "  )\n",
        "\n",
        "  print(f'Val   loss {val_loss} accuracy {val_acc}')\n",
        "  print()\n",
        "\n",
        "  history['train_acc'].append(train_acc)\n",
        "  history['train_loss'].append(train_loss)\n",
        "  history['val_acc'].append(val_acc)\n",
        "  history['val_loss'].append(val_loss)\n",
        "\n",
        "  if val_acc > best_accuracy:\n",
        "    torch.save(model.state_dict(), 'best_model_state.bin')\n",
        "    best_accuracy = val_acc\n",
        "    early_stop = 0\n",
        "  else:\n",
        "      early_stop = early_stop + 1\n",
        "      if early_stop == 5:\n",
        "        break"
      ],
      "execution_count": null,
      "outputs": []
    },
    {
      "cell_type": "code",
      "metadata": {
        "id": "LdNErrP-jhYY"
      },
      "source": [
        "\n",
        "model.load_state_dict(torch.load('best_model_state.bin'))"
      ],
      "execution_count": null,
      "outputs": []
    },
    {
      "cell_type": "code",
      "metadata": {
        "id": "l07grIRrjhYY"
      },
      "source": [
        "df_test['target'] = df_test.sentiment.apply(sentiment_encode)"
      ],
      "execution_count": null,
      "outputs": []
    },
    {
      "cell_type": "code",
      "metadata": {
        "id": "Wrz9E2sEjhYY"
      },
      "source": [
        "test_data_loader = create_data_loader(df_test, tokenizer, MAX_LEN, BATCH_SIZE)"
      ],
      "execution_count": null,
      "outputs": []
    },
    {
      "cell_type": "code",
      "metadata": {
        "id": "7RleKycNjhYZ"
      },
      "source": [
        "test_acc, _ = eval_model(\n",
        "  model,\n",
        "  test_data_loader,\n",
        "  loss_fn,\n",
        "  device,\n",
        "  len(df_test)\n",
        ")\n",
        "\n",
        "test_acc.item()"
      ],
      "execution_count": null,
      "outputs": []
    },
    {
      "cell_type": "code",
      "metadata": {
        "id": "Xh19v8o7jhYa"
      },
      "source": [
        "y_tweet_texts, y_pred, y_pred_probs, y_test = get_predictions(\n",
        "  model,\n",
        "  test_data_loader\n",
        ")"
      ],
      "execution_count": null,
      "outputs": []
    },
    {
      "cell_type": "code",
      "metadata": {
        "id": "EN2AK4grjhYb"
      },
      "source": [
        "print(classification_report(y_test, y_pred, target_names=class_names))"
      ],
      "execution_count": null,
      "outputs": []
    },
    {
      "cell_type": "code",
      "metadata": {
        "id": "oQ4GW-PIjhYb"
      },
      "source": [
        "cm = confusion_matrix(y_test, y_pred)\n",
        "df_cm = pd.DataFrame(cm, index=class_names, columns=class_names)\n",
        "show_confusion_matrix(df_cm)"
      ],
      "execution_count": null,
      "outputs": []
    },
    {
      "cell_type": "code",
      "metadata": {
        "id": "cTx5dj3WjhYb"
      },
      "source": [
        "accuracy_score(y_test, y_pred)"
      ],
      "execution_count": null,
      "outputs": []
    },
    {
      "cell_type": "code",
      "metadata": {
        "id": "kxzjQuWKjhYb"
      },
      "source": [
        "f1_score(y_test, y_pred, average='weighted')"
      ],
      "execution_count": null,
      "outputs": []
    },
    {
      "cell_type": "code",
      "metadata": {
        "id": "my2JKYJu5Gzl"
      },
      "source": [
        "writeResultsInFile(accuracy_score(y_test, y_pred), f1_score(y_test, y_pred, average='weighted'), random_seed=RANDOM_SEED)"
      ],
      "execution_count": null,
      "outputs": []
    }
  ]
}